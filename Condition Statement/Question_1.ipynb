{
 "cells": [
  {
   "cell_type": "code",
   "execution_count": 3,
   "id": "24dcb938-49d1-4596-8428-9ddb17659911",
   "metadata": {},
   "outputs": [
    {
     "name": "stdin",
     "output_type": "stream",
     "text": [
      "Enter first angle :  60\n",
      "Enter second angle :  60\n",
      "Enter third angle :  60\n"
     ]
    },
    {
     "name": "stdout",
     "output_type": "stream",
     "text": [
      "Triangle\n"
     ]
    }
   ],
   "source": [
    "# 1. Write a program that takes a user input of three angles and will find out whether it can form a triangle or not.\n",
    "\n",
    "angle1 = int(input(\"Enter first angle : \"))\n",
    "angle2 = int(input(\"Enter second angle : \"))\n",
    "angle3 = int(input(\"Enter third angle : \"))\n",
    "\n",
    "total_angle = angle1 + angle2 + angle3\n",
    "\n",
    "if total_angle==180:\n",
    "    print(\"Triangle\")\n",
    "else:\n",
    "    print(\"Not triangle\")"
   ]
  },
  {
   "cell_type": "code",
   "execution_count": 6,
   "id": "ad7fe5b9-0487-4b96-ab85-ea44a75735e9",
   "metadata": {},
   "outputs": [
    {
     "name": "stdin",
     "output_type": "stream",
     "text": [
      "Enter the temperature :  40\n",
      "Enter the humidity :  96\n"
     ]
    },
    {
     "name": "stdout",
     "output_type": "stream",
     "text": [
      "Hot and Humid\n"
     ]
    }
   ],
   "source": [
    "# 2. Write a program that will determine weather when the value of temperature and humidity is provided by the user.\n",
    "# TEMPERATURE(C)   HUMIDITY (X)    WEATHER\n",
    "# >= 30            >= 90           Hot and Humid\n",
    "# >= 30            < 90            Hot\n",
    "# < 30             >= 90           Cool and Humid\n",
    "# < 30             < 90            Cool\n",
    "\n",
    "temperature = int(input(\"Enter the temperature : \"))\n",
    "humidity = int(input(\"Enter the humidity : \"))\n",
    "\n",
    "if temperature >= 30 and humidity >= 90:\n",
    "    print(\"Hot and Humid\")\n",
    "if temperature >= 30 and humidity < 90:\n",
    "    print(\"Hot\")\n",
    "if temperature < 30 and humidity >= 90:\n",
    "    print(\"Cool and Humid\")\n",
    "if temperature < 30 and humidity < 90:\n",
    "    print(\"Cool\")"
   ]
  },
  {
   "cell_type": "code",
   "execution_count": 12,
   "id": "248f641c-26c5-4436-be1d-80edf33cf5cc",
   "metadata": {},
   "outputs": [
    {
     "name": "stdin",
     "output_type": "stream",
     "text": [
      "Enter the cost price of product :  30\n",
      "Enter the selling price of product :  45\n"
     ]
    },
    {
     "name": "stdout",
     "output_type": "stream",
     "text": [
      "Total profit : 15\n"
     ]
    }
   ],
   "source": [
    "# 3. Write a program that will take user input of cost price and selling price and determines whether its a loss or a profit\n",
    "\n",
    "cost_price = int(input(\"Enter the cost price of product : \"))\n",
    "sell_price = int(input(\"Enter the selling price of product : \"))\n",
    "\n",
    "profit_loss = sell_price - cost_price\n",
    "\n",
    "if profit_loss>0:\n",
    "    print(\"Total profit :\", profit_loss)\n",
    "elif profit_loss<0:\n",
    "    print(\"Total loss :\", profit_loss*-1)\n",
    "else:\n",
    "    print(\"you got no loss and profit.\")"
   ]
  },
  {
   "cell_type": "code",
   "execution_count": 6,
   "id": "85d0c806-af0a-469d-b111-1738b0077efd",
   "metadata": {},
   "outputs": [
    {
     "name": "stdin",
     "output_type": "stream",
     "text": [
      "Enter the number of Head :  3\n",
      "Enter the number of Legs :  8\n"
     ]
    },
    {
     "name": "stdout",
     "output_type": "stream",
     "text": [
      "There are 1 dogs and 2 chickens.\n"
     ]
    }
   ],
   "source": [
    "# 4. Write a program that will tell the number of dogs and chicken are there when the user will provide the value of total heads and legs.\n",
    "# a. Input are\n",
    "# b. head=1 , legs=4\n",
    "\n",
    "total_heads = int(input(\"Enter the number of Head : \"))\n",
    "total_legs = int(input(\"Enter the number of Legs : \"))\n",
    "\n",
    "dogs = 0 \n",
    "chickens = 0 \n",
    "\n",
    "x = 0\n",
    "\n",
    "for dogs in range(total_heads + 1): \n",
    "    chickens = total_heads - dogs \n",
    "    if (4 * dogs + 2 * chickens) == total_legs:\n",
    "        x = 1\n",
    "        break \n",
    "\n",
    "if x == 1:\n",
    "    print(f\"There are {dogs} dogs and {chickens} chickens.\")\n",
    "else: \n",
    "    print(\"No solution found with the given heads and legs.\")"
   ]
  },
  {
   "cell_type": "code",
   "execution_count": 18,
   "id": "6d85704f-5945-430a-88c6-02264f2fdc25",
   "metadata": {},
   "outputs": [
    {
     "name": "stdin",
     "output_type": "stream",
     "text": [
      "Enter the number :  55\n"
     ]
    },
    {
     "name": "stdout",
     "output_type": "stream",
     "text": [
      "number is divisible both 5 and 11.\n"
     ]
    }
   ],
   "source": [
    "# 5. Program to check whether a number is divisible by 5 and 11 or not\n",
    "\n",
    "number = int(input(\"Enter the number : \"))\n",
    "\n",
    "if number%5==0 and number%11==0:\n",
    "    print(\"number is divisible both 5 and 11.\")\n",
    "else:\n",
    "    print(\"number is not divisible both 5 and 11\")"
   ]
  },
  {
   "cell_type": "code",
   "execution_count": 19,
   "id": "1f019a95-2db3-4920-b342-4f034161117d",
   "metadata": {},
   "outputs": [
    {
     "name": "stdin",
     "output_type": "stream",
     "text": [
      "Enter first angle :  120\n",
      "Enter second angle :  40\n",
      "Enter third angle :  20\n"
     ]
    },
    {
     "name": "stdout",
     "output_type": "stream",
     "text": [
      "Triangle\n"
     ]
    }
   ],
   "source": [
    "# 6. Write a program to check whether triangle is valid or not if angles are given.\n",
    "\n",
    "angle1 = int(input(\"Enter first angle : \"))\n",
    "angle2 = int(input(\"Enter second angle : \"))\n",
    "angle3 = int(input(\"Enter third angle : \"))\n",
    "\n",
    "total_angle = angle1 + angle2 + angle3\n",
    "\n",
    "if total_angle==180:\n",
    "    print(\"Triangle\")\n",
    "else:\n",
    "    print(\"Not triangle\")"
   ]
  },
  {
   "cell_type": "code",
   "execution_count": 60,
   "id": "18e506aa-6ea5-4d93-9c34-9385d6f5b270",
   "metadata": {},
   "outputs": [
    {
     "name": "stdin",
     "output_type": "stream",
     "text": [
      "Enter first angle :  4\n",
      "Enter second angle :  4\n",
      "Enter third angle :  4\n"
     ]
    },
    {
     "name": "stdout",
     "output_type": "stream",
     "text": [
      "Triangle is equilateral.\n"
     ]
    }
   ],
   "source": [
    "# 7. Write a program to check whether triangle is equilateral, scalene or isosceles\n",
    "# a. Atriangle is said Equilateral Triangle, if all its sides are equal. If a, b, c are\n",
    "#    three sides of triangle. Then, the triangle is equilateral only if a == b == c\n",
    "# b. Atriangle is said Isosceles Triangle, if its two sides are equal. If a, b, c are\n",
    "#    three sides of triangle. Then, the triangle is isosceles if either a == b or a == c or b == c.\n",
    "# c. Atriangle is said Scalene Triangle, if none of its sides are equal\n",
    "\n",
    "side1 = int(input(\"Enter first angle : \"))\n",
    "side2 = int(input(\"Enter second angle : \"))\n",
    "side3 = int(input(\"Enter third angle : \"))\n",
    "\n",
    "\n",
    "if side1==side2==side3:\n",
    "    print(\"Triangle is equilateral.\")\n",
    "elif side1==side2 or side1==side3 or side2==side3:\n",
    "    print(\"Triangle Isosceles\")\n",
    "elif side1!=side2!=side3:\n",
    "    print(\"Triangle Scalene\")"
   ]
  },
  {
   "cell_type": "code",
   "execution_count": 2,
   "id": "aac6e33e-68d0-493d-b0d5-363c219c27d4",
   "metadata": {},
   "outputs": [
    {
     "name": "stdin",
     "output_type": "stream",
     "text": [
      "Enter the Basic salary :  12000\n"
     ]
    },
    {
     "name": "stdout",
     "output_type": "stream",
     "text": [
      "Gross salary is :  25800.0\n"
     ]
    }
   ],
   "source": [
    "# 8. Write a program to enter basic salary and calculate gross salary of an employee\n",
    "# Basic salary <= 10000 : HRA = 20%, DA =80%\n",
    "# Basic salary is between 10001 to 20000 : HRA = 25%, DA = 90%\n",
    "# Basic salary >= 20001 : HRA = 30%, DA = 95%\n",
    "\n",
    "salary = int(input(\"Enter the Basic salary : \"))\n",
    "\n",
    "if salary<=10000:\n",
    "    hra = 0.20\n",
    "    da = 0.80\n",
    "    gross_salary = salary + (salary*hra) + (salary*da)\n",
    "elif salary>=10001 and salary<=20000:\n",
    "    hra = 0.25\n",
    "    da = 0.90\n",
    "    gross_salary = salary + (salary*hra) + (salary*da)\n",
    "if salary>=20001:\n",
    "    hra = 0.30\n",
    "    da = 0.95\n",
    "    gross_salary = salary + (salary*hra) + (salary*da)\n",
    "print(\"Gross salary is : \",gross_salary)"
   ]
  },
  {
   "cell_type": "code",
   "execution_count": 11,
   "id": "0fd20bb6-f91c-417a-8e8a-1fdbd58bc206",
   "metadata": {},
   "outputs": [
    {
     "name": "stdin",
     "output_type": "stream",
     "text": [
      "Enter the total unit :  125\n"
     ]
    },
    {
     "name": "stdout",
     "output_type": "stream",
     "text": [
      "Total bill : 475\n"
     ]
    }
   ],
   "source": [
    "# 9. Write a program to calculate the total electricity bill based on the following conditions:\n",
    "#  a. The first 50 unit will be calculated with 2 rs/unit\n",
    "#  b. The next 100 unit will be calculated with 5 rs/unit\n",
    "#  c. The next 150 unit will be calculated with 10 rs/unit\n",
    "#  d. All the other units will be calculated with 15 rs/unit\n",
    "\n",
    "unit = int(input(\"Enter the total unit : \"))\n",
    "\n",
    "if unit>=1 and unit<=50:\n",
    "    bill = unit*2\n",
    "    print(\"Total bill :\",bill)\n",
    "elif unit>50 and unit<=150:\n",
    "    extra = unit-50\n",
    "    bill = 50*2 + extra*5\n",
    "    print(\"Total bill :\",bill)\n",
    "elif unit>150 and unit<=300:\n",
    "    extra = unit-150\n",
    "    bill = 50*2 + 100*5 + extra*10\n",
    "    print(\"Total bill :\",bill)\n",
    "else:\n",
    "    extra = unit-300\n",
    "    bill = 50*2 + 100*5 + 150*10 + extra*15\n",
    "    print(\"Total bill :\",bill)"
   ]
  },
  {
   "cell_type": "code",
   "execution_count": 35,
   "id": "7e9bca04-ff34-4dbf-b243-78fc2ac963b5",
   "metadata": {},
   "outputs": [
    {
     "name": "stdin",
     "output_type": "stream",
     "text": [
      "Enter the year :  2024\n"
     ]
    },
    {
     "name": "stdout",
     "output_type": "stream",
     "text": [
      "year is leap year.\n"
     ]
    }
   ],
   "source": [
    "# 10. Write a program to check whether any year is a leap year or not\n",
    "#   a. Aleap year is exactly divisible by 4 except for century years (years ending with 00). \n",
    "#      The century year is a leap year only if it is perfectly divisible by 400.\n",
    "\n",
    "year = int(input(\"Enter the year : \"))\n",
    "\n",
    "if (year%400==0 or (year%4==0 and year%100!=0)):\n",
    "    print(\"year is leap year.\")\n",
    "else:\n",
    "    print(\"year is not leap year.\")"
   ]
  },
  {
   "cell_type": "code",
   "execution_count": 63,
   "id": "0e4eb444-7f91-4101-8c3a-324fa1cf1afb",
   "metadata": {},
   "outputs": [
    {
     "name": "stdin",
     "output_type": "stream",
     "text": [
      "Enter the number :  1234\n"
     ]
    },
    {
     "name": "stdout",
     "output_type": "stream",
     "text": [
      "4321\n"
     ]
    }
   ],
   "source": [
    "# 11. Write a program that will reverse a four digit number.Also it checks whether the reverse\n",
    "\n",
    "number = int(input(\"Enter the number : \"))\n",
    "\n",
    "length = len(str(number))\n",
    "\n",
    "if length==4:\n",
    "    sum = 0\n",
    "    while number>0:\n",
    "        rem = number%10\n",
    "        sum = rem + sum*10\n",
    "        number = number//10\n",
    "    print(sum)\n",
    "else:\n",
    "    print(\"number is not four digit.\")"
   ]
  },
  {
   "cell_type": "code",
   "execution_count": 50,
   "id": "cf735e50-b35c-4085-bf20-8a57e2845dfe",
   "metadata": {},
   "outputs": [
    {
     "name": "stdin",
     "output_type": "stream",
     "text": [
      "Enter the number :  1634\n"
     ]
    },
    {
     "name": "stdout",
     "output_type": "stream",
     "text": [
      "number is armstrong.\n"
     ]
    }
   ],
   "source": [
    "# 12. Write a program that will check whether the number is armstrong number or not\n",
    "\n",
    "number = int(input(\"Enter the number : \"))\n",
    "temp = number\n",
    "\n",
    "length = len(str(number))\n",
    "\n",
    "\n",
    "sum = 0\n",
    "while number>0:\n",
    "    rem = number%10\n",
    "    sum = sum + rem**length\n",
    "    number = number//10\n",
    "\n",
    "if temp==sum:\n",
    "    print(\"number is armstrong.\")\n",
    "else:\n",
    "    print(\"number is nor armstrong\")"
   ]
  },
  {
   "cell_type": "code",
   "execution_count": null,
   "id": "75c7e774-c228-43a6-a782-6a2e9a3fd2c5",
   "metadata": {},
   "outputs": [],
   "source": []
  }
 ],
 "metadata": {
  "kernelspec": {
   "display_name": "Python 3 (ipykernel)",
   "language": "python",
   "name": "python3"
  },
  "language_info": {
   "codemirror_mode": {
    "name": "ipython",
    "version": 3
   },
   "file_extension": ".py",
   "mimetype": "text/x-python",
   "name": "python",
   "nbconvert_exporter": "python",
   "pygments_lexer": "ipython3",
   "version": "3.11.7"
  }
 },
 "nbformat": 4,
 "nbformat_minor": 5
}
