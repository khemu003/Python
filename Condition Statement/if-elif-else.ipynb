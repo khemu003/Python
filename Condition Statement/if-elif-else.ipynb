{
 "cells": [
  {
   "cell_type": "markdown",
   "id": "0d07b3cb-9f99-4295-b009-e439cd4c7ce4",
   "metadata": {},
   "source": [
    "# Conditional Statement"
   ]
  },
  {
   "cell_type": "markdown",
   "id": "d621fd50-f23e-4108-ba32-6d9bc57ff576",
   "metadata": {},
   "source": [
    "Conditional statements are the backbone of decision-making in Python programming. They allow you to execute certain pieces of code based on whether a condition is true or false."
   ]
  },
  {
   "cell_type": "markdown",
   "id": "15c56e16-20f7-42ea-b2e6-04656b30f54c",
   "metadata": {},
   "source": [
    "**Syntax**"
   ]
  },
  {
   "cell_type": "raw",
   "id": "9bb9019a-9217-4798-afda-43a7796ceec7",
   "metadata": {},
   "source": [
    "if condition1:\n",
    "    # code to execute if condition1 is true"
   ]
  },
  {
   "cell_type": "raw",
   "id": "b034e672-d425-46b1-97d6-2bf073c3ea12",
   "metadata": {},
   "source": [
    "if condition1:\n",
    "    # code to execute if condition1 is true\n",
    "else:\n",
    "    # code to execute if none of the above conditions are true\n"
   ]
  },
  {
   "cell_type": "raw",
   "id": "5e990683-0304-4f51-943a-e6429d3def8b",
   "metadata": {},
   "source": [
    "if condition1:\n",
    "    # code to execute if condition1 is true\n",
    "elif condition2:\n",
    "    # code to execute if condition2 is true\n",
    "    .\n",
    "    .\n",
    "    .\n",
    "    .\n",
    "else:\n",
    "    # code to execute if none of the above conditions are true\n",
    "\n",
    "    "
   ]
  },
  {
   "cell_type": "code",
   "execution_count": 1,
   "id": "08745aff-5a08-49e8-81f0-c12ab743fbfe",
   "metadata": {},
   "outputs": [
    {
     "name": "stdout",
     "output_type": "stream",
     "text": [
      "x is Equal to 4.\n"
     ]
    }
   ],
   "source": [
    "x = 4\n",
    "if x==4:\n",
    "    print(\"x is Equal to 4.\")"
   ]
  },
  {
   "cell_type": "code",
   "execution_count": 3,
   "id": "ece0eadb-80fe-4bb1-9091-60b00330390c",
   "metadata": {},
   "outputs": [
    {
     "name": "stdout",
     "output_type": "stream",
     "text": [
      "x is odd.\n"
     ]
    }
   ],
   "source": [
    "x = 5\n",
    "if x%2==0:\n",
    "    print(\"x is even.\")\n",
    "else:\n",
    "    print(\"x is odd.\")"
   ]
  },
  {
   "cell_type": "code",
   "execution_count": 4,
   "id": "f58bd9d9-7a5e-44c3-a7c0-f17c1c024422",
   "metadata": {},
   "outputs": [
    {
     "name": "stdout",
     "output_type": "stream",
     "text": [
      "x is positive.\n"
     ]
    }
   ],
   "source": [
    "x = 4\n",
    "if x>0:\n",
    "    print(\"x is positive.\")\n",
    "elif x<0:\n",
    "    print(\"x is negative.\")\n",
    "else:\n",
    "    print(\"x is zero.\")"
   ]
  },
  {
   "cell_type": "code",
   "execution_count": null,
   "id": "a88de0fc-1731-4689-92cb-20825842ad77",
   "metadata": {},
   "outputs": [],
   "source": []
  }
 ],
 "metadata": {
  "kernelspec": {
   "display_name": "Python 3 (ipykernel)",
   "language": "python",
   "name": "python3"
  },
  "language_info": {
   "codemirror_mode": {
    "name": "ipython",
    "version": 3
   },
   "file_extension": ".py",
   "mimetype": "text/x-python",
   "name": "python",
   "nbconvert_exporter": "python",
   "pygments_lexer": "ipython3",
   "version": "3.11.7"
  }
 },
 "nbformat": 4,
 "nbformat_minor": 5
}
