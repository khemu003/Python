{
 "cells": [
  {
   "cell_type": "markdown",
   "id": "593f3b92-4d3c-4fb9-997f-c14c79191ecd",
   "metadata": {},
   "source": [
    "# Built-in Data Types in python"
   ]
  },
  {
   "cell_type": "markdown",
   "id": "b411924a-b584-41d3-b84e-082bd22e0144",
   "metadata": {},
   "source": [
    "**Text Type:**\tstr\n",
    "\n",
    "**Numeric Types:**\tint, float, complex\n",
    "\n",
    "**Sequence Types:**\tlist, tuple, range\n",
    "\n",
    "**Mapping Type:**\tdict\n",
    "\n",
    "**Set Types:**\tset, frozenset\n",
    "\n",
    "**Boolean Type:**\tbool\n",
    "\n",
    "**Binary Types:**\tbytes, bytearray, memoryview\n",
    "\n",
    "**None Type:**\tNoneType\n"
   ]
  },
  {
   "cell_type": "code",
   "execution_count": 2,
   "id": "8e90b100-fc78-48c6-9d5a-d8252323779f",
   "metadata": {},
   "outputs": [
    {
     "name": "stdout",
     "output_type": "stream",
     "text": [
      "Hello World\n",
      "<class 'str'>\n"
     ]
    }
   ],
   "source": [
    "str = \"Hello World\"\n",
    "print(str)\n",
    "print(type(str))"
   ]
  },
  {
   "cell_type": "code",
   "execution_count": 3,
   "id": "00e8da6f-642b-4b7f-a435-4a2803eb0be9",
   "metadata": {},
   "outputs": [
    {
     "name": "stdout",
     "output_type": "stream",
     "text": [
      "32\n",
      "<class 'int'>\n",
      "34.35\n",
      "<class 'float'>\n",
      "(3+4j)\n",
      "<class 'complex'>\n"
     ]
    }
   ],
   "source": [
    "int_number = 32\n",
    "float_number = 34.35\n",
    "complex_number = 3+4j\n",
    "print(int_number)\n",
    "print(type(int_number))\n",
    "print(float_number)\n",
    "print(type(float_number))\n",
    "print(complex_number)\n",
    "print(type(complex_number))"
   ]
  },
  {
   "cell_type": "code",
   "execution_count": 4,
   "id": "146f2211-8eec-4bc1-a1b6-8c873db64c8a",
   "metadata": {},
   "outputs": [
    {
     "name": "stdout",
     "output_type": "stream",
     "text": [
      "['apple', 'banana', 'cherry']\n",
      "<class 'list'>\n",
      "('apple', 'banana', 'cherry')\n",
      "<class 'tuple'>\n",
      "range(1, 6)\n",
      "<class 'range'>\n"
     ]
    }
   ],
   "source": [
    "list = [\"apple\", \"banana\", \"cherry\"]\n",
    "tuple = (\"apple\", \"banana\", \"cherry\")\n",
    "numbers = range(1,6)\n",
    "print(list)\n",
    "print(type(list))\n",
    "print(tuple)\n",
    "print(type(tuple))\n",
    "print(numbers)\n",
    "print(type(numbers))"
   ]
  },
  {
   "cell_type": "code",
   "execution_count": 5,
   "id": "90e6b686-c3d5-4a9e-8123-0b7f6e58f8c6",
   "metadata": {},
   "outputs": [
    {
     "name": "stdout",
     "output_type": "stream",
     "text": [
      "{'name': 'John', 'age': 36}\n",
      "<class 'dict'>\n"
     ]
    }
   ],
   "source": [
    "dict = {\"name\" : \"John\", \"age\" : 36}\n",
    "print(dict)\n",
    "print(type(dict))"
   ]
  },
  {
   "cell_type": "code",
   "execution_count": 7,
   "id": "c6869c69-1b8f-496e-ad06-6f988a0aae38",
   "metadata": {},
   "outputs": [
    {
     "name": "stdout",
     "output_type": "stream",
     "text": [
      "{'apple', 'banana', 'cherry'}\n",
      "<class 'set'>\n",
      "frozenset({'apple', 'banana', 'cherry'})\n",
      "<class 'frozenset'>\n"
     ]
    }
   ],
   "source": [
    "set = {\"apple\", \"banana\", \"cherry\"}\n",
    "f_set = frozenset({\"apple\", \"banana\", \"cherry\"})\n",
    "print(set)\n",
    "print(type(set))\n",
    "print(f_set)\n",
    "print(type(f_set))"
   ]
  },
  {
   "cell_type": "code",
   "execution_count": 8,
   "id": "b8556b36-a028-4907-868d-a77d05c87416",
   "metadata": {},
   "outputs": [
    {
     "name": "stdout",
     "output_type": "stream",
     "text": [
      "True False\n",
      "<class 'bool'> <class 'bool'>\n"
     ]
    }
   ],
   "source": [
    "x = True\n",
    "y = False\n",
    "print(x,y)\n",
    "print(type(x),type(y))"
   ]
  },
  {
   "cell_type": "code",
   "execution_count": 12,
   "id": "54f0ec75-d8aa-4aa8-ab5e-26d2fb23973d",
   "metadata": {},
   "outputs": [
    {
     "name": "stdout",
     "output_type": "stream",
     "text": [
      "b'Hello'\n",
      "<class 'bytes'>\n",
      "bytearray(b'\\x00\\x00\\x00\\x00\\x00')\n",
      "<class 'bytearray'>\n",
      "<memory at 0x0000026181C56680>\n",
      "<class 'memoryview'>\n"
     ]
    }
   ],
   "source": [
    "x = b\"Hello\"\n",
    "y = bytearray(5)\n",
    "z = memoryview(bytes(5))\n",
    "print(x)\n",
    "print(type(x)) \n",
    "print(y)\n",
    "print(type(y)) \n",
    "print(z)\n",
    "print(type(z)) "
   ]
  },
  {
   "cell_type": "code",
   "execution_count": 13,
   "id": "f852ba56-c681-4128-8d1e-e069bc765894",
   "metadata": {},
   "outputs": [
    {
     "name": "stdout",
     "output_type": "stream",
     "text": [
      "None\n",
      "<class 'NoneType'>\n"
     ]
    }
   ],
   "source": [
    "xyz = None\n",
    "print(xyz)\n",
    "print(type(xyz))"
   ]
  },
  {
   "cell_type": "code",
   "execution_count": null,
   "id": "0586fedc-c482-480b-8274-c7de2f757349",
   "metadata": {},
   "outputs": [],
   "source": []
  }
 ],
 "metadata": {
  "kernelspec": {
   "display_name": "Python 3 (ipykernel)",
   "language": "python",
   "name": "python3"
  },
  "language_info": {
   "codemirror_mode": {
    "name": "ipython",
    "version": 3
   },
   "file_extension": ".py",
   "mimetype": "text/x-python",
   "name": "python",
   "nbconvert_exporter": "python",
   "pygments_lexer": "ipython3",
   "version": "3.11.7"
  }
 },
 "nbformat": 4,
 "nbformat_minor": 5
}
