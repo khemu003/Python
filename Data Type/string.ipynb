{
 "cells": [
  {
   "cell_type": "markdown",
   "id": "4c1a402e-86f4-49d2-8aa5-10a888cfe2a9",
   "metadata": {},
   "source": [
    "# String in python"
   ]
  },
  {
   "cell_type": "markdown",
   "id": "9817b67e-7860-456f-89a0-501fc23098f4",
   "metadata": {},
   "source": [
    "String is set of character in python that are surrounded by either single quotation marks, or double quotation marks."
   ]
  },
  {
   "cell_type": "code",
   "execution_count": 2,
   "id": "81d79e6e-388c-4a6f-b97c-847920f3cea6",
   "metadata": {},
   "outputs": [
    {
     "name": "stdout",
     "output_type": "stream",
     "text": [
      "hello\n",
      "hello\n"
     ]
    }
   ],
   "source": [
    "print(\"hello\")\n",
    "print('hello')"
   ]
  },
  {
   "cell_type": "code",
   "execution_count": 3,
   "id": "ff7ac87c-9622-4dd0-9eb0-9e1d55cbd7da",
   "metadata": {},
   "outputs": [
    {
     "name": "stdout",
     "output_type": "stream",
     "text": [
      "father's name : \n"
     ]
    }
   ],
   "source": [
    "# we use double quote when we use single in string like\n",
    "print(\"father's name : \")"
   ]
  },
  {
   "cell_type": "code",
   "execution_count": 5,
   "id": "978e9112-8dcd-4925-881e-fc7f38d14342",
   "metadata": {},
   "outputs": [
    {
     "name": "stdout",
     "output_type": "stream",
     "text": [
      "my name is \"khemraj\".\n"
     ]
    }
   ],
   "source": [
    "# we use single quote when we use double quote in sting like\n",
    "print('my name is \"khemraj\".')"
   ]
  },
  {
   "cell_type": "code",
   "execution_count": 6,
   "id": "f6ba5b46-bb5d-44c5-a1a8-285d74b5520c",
   "metadata": {},
   "outputs": [
    {
     "name": "stdout",
     "output_type": "stream",
     "text": [
      "hi\n",
      "my name is khemraj.\n",
      "i am study in college\n",
      "\n",
      "<class 'str'>\n"
     ]
    }
   ],
   "source": [
    "# multiple line string ===> using three quotes\n",
    "\n",
    "str = \"\"\"hi\n",
    "my name is khemraj.\n",
    "i am study in college\n",
    "\"\"\"\n",
    "print(str)\n",
    "print(type(str))"
   ]
  },
  {
   "cell_type": "code",
   "execution_count": 7,
   "id": "d533d7f3-0917-4848-8671-fec2dfdbb6b9",
   "metadata": {},
   "outputs": [
    {
     "name": "stdout",
     "output_type": "stream",
     "text": [
      "H\n",
      "ll\n",
      "ol\n"
     ]
    }
   ],
   "source": [
    "# string have indexing like\n",
    "\n",
    "str = \"Hello world\"\n",
    "print(str[0])\n",
    "print(str[2:4])\n",
    "print(str[4:2:-1])"
   ]
  },
  {
   "cell_type": "markdown",
   "id": "2e22d071-5335-4b48-b9b0-e1844b603a0f",
   "metadata": {},
   "source": [
    "### loop in python"
   ]
  },
  {
   "cell_type": "code",
   "execution_count": 8,
   "id": "8bc330ca-4ccf-4084-8c31-98fb78b0de1a",
   "metadata": {},
   "outputs": [
    {
     "name": "stdout",
     "output_type": "stream",
     "text": [
      "H\n",
      "e\n",
      "l\n",
      "l\n",
      "o\n",
      " \n",
      "w\n",
      "o\n",
      "r\n",
      "l\n",
      "d\n"
     ]
    }
   ],
   "source": [
    "for i in str:\n",
    "    print(i)"
   ]
  },
  {
   "cell_type": "code",
   "execution_count": null,
   "id": "093a01e8-0007-45f1-9bfb-30718055eff7",
   "metadata": {},
   "outputs": [],
   "source": []
  }
 ],
 "metadata": {
  "kernelspec": {
   "display_name": "Python 3 (ipykernel)",
   "language": "python",
   "name": "python3"
  },
  "language_info": {
   "codemirror_mode": {
    "name": "ipython",
    "version": 3
   },
   "file_extension": ".py",
   "mimetype": "text/x-python",
   "name": "python",
   "nbconvert_exporter": "python",
   "pygments_lexer": "ipython3",
   "version": "3.11.7"
  }
 },
 "nbformat": 4,
 "nbformat_minor": 5
}
