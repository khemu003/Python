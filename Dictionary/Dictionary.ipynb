{
 "cells": [
  {
   "cell_type": "markdown",
   "id": "1c1ce76b-1e7f-4af4-b1ab-b9834872cf0a",
   "metadata": {},
   "source": [
    "# Dictionary in python"
   ]
  },
  {
   "cell_type": "markdown",
   "id": "23a2b68f-4965-4ac9-9c7e-45e4437ff629",
   "metadata": {},
   "source": [
    "Dictionaries are used to store data values in key:value pairs.\r\n",
    "\r\n",
    "A dictionary is a collection which is orderd*, changeable and do not allow duplicates."
   ]
  },
  {
   "cell_type": "code",
   "execution_count": 1,
   "id": "8fdc1272-ef06-4f3c-a112-e69e574f4b55",
   "metadata": {},
   "outputs": [
    {
     "name": "stdout",
     "output_type": "stream",
     "text": [
      "{'brand': 'Ford', 'model': 'Mustang', 'year': 1964}\n",
      "<class 'dict'>\n"
     ]
    }
   ],
   "source": [
    "thisdict = {\n",
    "  \"brand\": \"Ford\",\n",
    "  \"model\": \"Mustang\",\n",
    "  \"year\": 1964\n",
    "}\n",
    "print(thisdict)\n",
    "print(type(thisdict))"
   ]
  },
  {
   "cell_type": "code",
   "execution_count": 2,
   "id": "8ef6b39b-fcb8-441e-a3ce-1130e28d9088",
   "metadata": {},
   "outputs": [
    {
     "name": "stdout",
     "output_type": "stream",
     "text": [
      "3\n"
     ]
    }
   ],
   "source": [
    "# length\n",
    "print(len(thisdict))"
   ]
  },
  {
   "cell_type": "markdown",
   "id": "24d9067c-4cb1-4827-85ee-6cb80b9ba04d",
   "metadata": {},
   "source": [
    "### Acces the element"
   ]
  },
  {
   "cell_type": "code",
   "execution_count": 4,
   "id": "22f8077f-832d-4c7c-b4c0-06017b638b0b",
   "metadata": {},
   "outputs": [
    {
     "name": "stdout",
     "output_type": "stream",
     "text": [
      "Ford\n"
     ]
    }
   ],
   "source": [
    "x = thisdict[\"brand\"]\n",
    "print(x)"
   ]
  },
  {
   "cell_type": "code",
   "execution_count": 5,
   "id": "c6fa5634-1394-4867-8351-1d7e96133406",
   "metadata": {},
   "outputs": [
    {
     "name": "stdout",
     "output_type": "stream",
     "text": [
      "Ford\n"
     ]
    }
   ],
   "source": [
    "# get() method in dict\n",
    "\n",
    "x = thisdict.get(\"brand\")\n",
    "print(x)"
   ]
  },
  {
   "cell_type": "code",
   "execution_count": 6,
   "id": "1a273e49-29fd-4073-b379-36a8ea6a00c8",
   "metadata": {},
   "outputs": [
    {
     "name": "stdout",
     "output_type": "stream",
     "text": [
      "dict_keys(['brand', 'model', 'year'])\n"
     ]
    }
   ],
   "source": [
    "# keys() method\n",
    "\n",
    "x = thisdict.keys()\n",
    "print(x)"
   ]
  },
  {
   "cell_type": "code",
   "execution_count": 7,
   "id": "da3af46a-70dd-42f8-aabf-fff09e29b874",
   "metadata": {},
   "outputs": [
    {
     "name": "stdout",
     "output_type": "stream",
     "text": [
      "dict_values(['Ford', 'Mustang', 1964])\n"
     ]
    }
   ],
   "source": [
    "# values() method\n",
    "\n",
    "x = thisdict.values()\n",
    "print(x)"
   ]
  },
  {
   "cell_type": "code",
   "execution_count": 8,
   "id": "cf348da0-58bb-462b-b94c-b14d3d1270e3",
   "metadata": {},
   "outputs": [
    {
     "name": "stdout",
     "output_type": "stream",
     "text": [
      "dict_items([('brand', 'Ford'), ('model', 'Mustang'), ('year', 1964)])\n"
     ]
    }
   ],
   "source": [
    "# items() method\n",
    "\n",
    "x = thisdict.items()\n",
    "print(x)"
   ]
  },
  {
   "cell_type": "markdown",
   "id": "d731abe2-1daf-4e71-9e62-272cb90f1f0e",
   "metadata": {},
   "source": [
    "### Change the element value"
   ]
  },
  {
   "cell_type": "code",
   "execution_count": 9,
   "id": "da5dfdec-5b4e-4033-b8c5-1b25ee1e4ff9",
   "metadata": {},
   "outputs": [
    {
     "name": "stdout",
     "output_type": "stream",
     "text": [
      "{'brand': 'BMW', 'model': 'Mustang', 'year': 1964}\n"
     ]
    }
   ],
   "source": [
    "thisdict[\"brand\"] = \"BMW\"\n",
    "print(thisdict)"
   ]
  },
  {
   "cell_type": "code",
   "execution_count": 10,
   "id": "776941b5-7e57-498b-a5bc-047cbfaecf76",
   "metadata": {},
   "outputs": [
    {
     "name": "stdout",
     "output_type": "stream",
     "text": [
      "{'brand': 'BMW', 'model': 'Mustang', 'year': 2020}\n"
     ]
    }
   ],
   "source": [
    "# update() method\n",
    "\n",
    "thisdict.update({\"year\": 2020})\n",
    "print(thisdict)"
   ]
  },
  {
   "cell_type": "markdown",
   "id": "0aa426f5-525f-4697-9ad7-97cb2aeb27fd",
   "metadata": {},
   "source": [
    "### Add element"
   ]
  },
  {
   "cell_type": "code",
   "execution_count": 11,
   "id": "2ee07160-3ccc-4a19-9ca7-03e17a0241e4",
   "metadata": {},
   "outputs": [
    {
     "name": "stdout",
     "output_type": "stream",
     "text": [
      "{'brand': 'BMW', 'model': 'Mustang', 'year': 2020, 'color': 'Red'}\n"
     ]
    }
   ],
   "source": [
    "thisdict[\"color\"] = \"Red\"\n",
    "print(thisdict)"
   ]
  },
  {
   "cell_type": "code",
   "execution_count": 12,
   "id": "51dd9ebb-278e-418f-8c4f-5e8cba27c13f",
   "metadata": {},
   "outputs": [
    {
     "name": "stdout",
     "output_type": "stream",
     "text": [
      "{'brand': 'BMW', 'model': 'Mustang', 'year': 2020, 'color': 'Red', 'price': 5500000}\n"
     ]
    }
   ],
   "source": [
    "# using update() method\n",
    "\n",
    "thisdict.update({\"price\": 5500000})\n",
    "print(thisdict)"
   ]
  },
  {
   "cell_type": "markdown",
   "id": "5172a112-b293-479f-be8a-adedfdeea531",
   "metadata": {},
   "source": [
    "### Remove element"
   ]
  },
  {
   "cell_type": "code",
   "execution_count": 13,
   "id": "525093d0-a42d-4861-b7bf-b8dfeda19982",
   "metadata": {},
   "outputs": [
    {
     "name": "stdout",
     "output_type": "stream",
     "text": [
      "{'brand': 'BMW', 'model': 'Mustang', 'year': 2020, 'color': 'Red'}\n"
     ]
    }
   ],
   "source": [
    "thisdict.pop(\"price\")\n",
    "print(thisdict)"
   ]
  },
  {
   "cell_type": "code",
   "execution_count": 14,
   "id": "388d33e6-7a37-4c7e-a012-bdc5bbc7ce1b",
   "metadata": {},
   "outputs": [
    {
     "name": "stdout",
     "output_type": "stream",
     "text": [
      "{'brand': 'BMW', 'model': 'Mustang', 'year': 2020}\n"
     ]
    }
   ],
   "source": [
    "thisdict.popitem()\n",
    "print(thisdict)"
   ]
  },
  {
   "cell_type": "code",
   "execution_count": 15,
   "id": "576b633b-95ed-4a62-8a19-b2fabd67dce2",
   "metadata": {},
   "outputs": [
    {
     "name": "stdout",
     "output_type": "stream",
     "text": [
      "{'brand': 'BMW', 'model': 'Mustang'}\n"
     ]
    }
   ],
   "source": [
    "del thisdict[\"year\"]\n",
    "print(thisdict)"
   ]
  },
  {
   "cell_type": "code",
   "execution_count": 16,
   "id": "e4e97052-fea3-4e82-98b1-bb1fba8f0bec",
   "metadata": {},
   "outputs": [
    {
     "name": "stdout",
     "output_type": "stream",
     "text": [
      "{}\n"
     ]
    }
   ],
   "source": [
    "thisdict.clear()\n",
    "print(thisdict)"
   ]
  },
  {
   "cell_type": "markdown",
   "id": "d7d35f72-343b-4cf4-91a2-56b16c7977e3",
   "metadata": {},
   "source": [
    "### Loop in dictionary"
   ]
  },
  {
   "cell_type": "code",
   "execution_count": 18,
   "id": "5376ca05-429d-446c-92e7-51c64d07cb7e",
   "metadata": {},
   "outputs": [
    {
     "name": "stdout",
     "output_type": "stream",
     "text": [
      "{'brand': 'BMW', 'model': 'Mustang', 'year': 2020, 'color': 'Red'}\n"
     ]
    }
   ],
   "source": [
    "thisdict = {\n",
    "    'brand': 'BMW',\n",
    "    'model': 'Mustang',\n",
    "    'year': 2020,\n",
    "    'color': 'Red'\n",
    "}\n",
    "print(thisdict)"
   ]
  },
  {
   "cell_type": "code",
   "execution_count": 19,
   "id": "db3a4073-79da-40ad-b8b4-0089453a7689",
   "metadata": {},
   "outputs": [
    {
     "name": "stdout",
     "output_type": "stream",
     "text": [
      "brand\n",
      "model\n",
      "year\n",
      "color\n"
     ]
    }
   ],
   "source": [
    "for i in thisdict:\n",
    "    print(i)"
   ]
  },
  {
   "cell_type": "code",
   "execution_count": 21,
   "id": "8bd790d5-d459-49ff-aed5-121b58328294",
   "metadata": {},
   "outputs": [
    {
     "name": "stdout",
     "output_type": "stream",
     "text": [
      "brand\n",
      "model\n",
      "year\n",
      "color\n"
     ]
    }
   ],
   "source": [
    "for i in thisdict.keys():\n",
    "    print(i)"
   ]
  },
  {
   "cell_type": "code",
   "execution_count": 20,
   "id": "556ee43e-e01a-4572-81d2-5ee5e71a2ec8",
   "metadata": {},
   "outputs": [
    {
     "name": "stdout",
     "output_type": "stream",
     "text": [
      "BMW\n",
      "Mustang\n",
      "2020\n",
      "Red\n"
     ]
    }
   ],
   "source": [
    "for i in thisdict:\n",
    "    print(thisdict[i])"
   ]
  },
  {
   "cell_type": "code",
   "execution_count": 22,
   "id": "2505e80a-bf55-48d9-9b30-2f27dbe34487",
   "metadata": {},
   "outputs": [
    {
     "name": "stdout",
     "output_type": "stream",
     "text": [
      "BMW\n",
      "Mustang\n",
      "2020\n",
      "Red\n"
     ]
    }
   ],
   "source": [
    "for i in thisdict.values():\n",
    "    print(i)"
   ]
  },
  {
   "cell_type": "code",
   "execution_count": 24,
   "id": "126282fe-387d-411e-b4b6-945dfd91bd8e",
   "metadata": {},
   "outputs": [
    {
     "name": "stdout",
     "output_type": "stream",
     "text": [
      "brand : BMW\n",
      "model : Mustang\n",
      "year : 2020\n",
      "color : Red\n"
     ]
    }
   ],
   "source": [
    "for i,j in thisdict.items():\n",
    "    print(i,\":\", j)"
   ]
  },
  {
   "cell_type": "markdown",
   "id": "6b88fb79-aca9-4ffc-a6be-a4925f2e4766",
   "metadata": {},
   "source": [
    "### Copy the element"
   ]
  },
  {
   "cell_type": "code",
   "execution_count": 25,
   "id": "b66f2058-45dc-46c0-897b-38bd9f4acb9d",
   "metadata": {},
   "outputs": [
    {
     "name": "stdout",
     "output_type": "stream",
     "text": [
      "{'brand': 'BMW', 'model': 'Mustang', 'year': 2020, 'color': 'Red'}\n"
     ]
    }
   ],
   "source": [
    "newdict = thisdict.copy()\n",
    "print(newdict)"
   ]
  },
  {
   "cell_type": "code",
   "execution_count": 26,
   "id": "e961d30e-4153-44e8-996d-b605f3579f4c",
   "metadata": {},
   "outputs": [
    {
     "name": "stdout",
     "output_type": "stream",
     "text": [
      "{'brand': 'BMW', 'model': 'Mustang', 'year': 2020, 'color': 'Red'}\n"
     ]
    }
   ],
   "source": [
    "newdict = dict(thisdict)\n",
    "print(thisdict)"
   ]
  },
  {
   "cell_type": "code",
   "execution_count": 28,
   "id": "4f0f11fb-b67c-43f9-ae93-9b5708a98cb8",
   "metadata": {},
   "outputs": [
    {
     "name": "stdout",
     "output_type": "stream",
     "text": [
      "{'brand': 'BMW', 'model': 'Mustang', 'year': 2020, 'color': 'Red'}\n"
     ]
    }
   ],
   "source": [
    "newdict = thisdict\n",
    "print(new)"
   ]
  },
  {
   "cell_type": "code",
   "execution_count": null,
   "id": "201293ea-f835-4fa4-a393-fcd4f6956214",
   "metadata": {},
   "outputs": [],
   "source": []
  },
  {
   "cell_type": "code",
   "execution_count": 37,
   "id": "02a96096-7cda-4f65-bd8e-8765bb9b3b5a",
   "metadata": {},
   "outputs": [
    {
     "name": "stdout",
     "output_type": "stream",
     "text": [
      "{'key1': 8, 'key2': 8, 'key3': 8}\n"
     ]
    }
   ],
   "source": [
    "# fromkeys() method \n",
    "\n",
    "x = ('key1', 'key2', 'key3')\n",
    "y = 8\n",
    "\n",
    "thisdict = dict.fromkeys(x, y)\n",
    "\n",
    "print(thisdict)"
   ]
  },
  {
   "cell_type": "code",
   "execution_count": null,
   "id": "148e499d-4347-467d-96a9-9ba7723f7a01",
   "metadata": {},
   "outputs": [],
   "source": []
  },
  {
   "cell_type": "code",
   "execution_count": 32,
   "id": "343addf1-18ad-4af2-be9f-b9708dc34c54",
   "metadata": {},
   "outputs": [
    {
     "name": "stdout",
     "output_type": "stream",
     "text": [
      "{'person1': {'name': 'khemraj', 'year': 2005}, 'person2': {'name': 'susheel', 'year': 2003}, 'person3': {'name': 'narendra', 'year': 2004}}\n"
     ]
    }
   ],
   "source": [
    "info = {\n",
    "    \"person1\" : {\n",
    "        \"name\" : \"khemraj\",\n",
    "        \"year\" : 2005\n",
    "    },\n",
    "    \"person2\" : {\n",
    "        \"name\" : \"susheel\",\n",
    "        \"year\" : 2003\n",
    "    },\n",
    "    \"person3\" : {\n",
    "        \"name\" : \"narendra\",\n",
    "        \"year\" : 2004\n",
    "    }\n",
    "}\n",
    "print(info)"
   ]
  },
  {
   "cell_type": "code",
   "execution_count": 33,
   "id": "c5a02bea-7e80-451a-b620-92a10aac1032",
   "metadata": {},
   "outputs": [
    {
     "name": "stdout",
     "output_type": "stream",
     "text": [
      "khemraj\n"
     ]
    }
   ],
   "source": [
    "print(info[\"person1\"][\"name\"])"
   ]
  },
  {
   "cell_type": "code",
   "execution_count": null,
   "id": "a13e35f4-e25e-47a2-98c0-6184c4ae8ba9",
   "metadata": {},
   "outputs": [],
   "source": []
  }
 ],
 "metadata": {
  "kernelspec": {
   "display_name": "Python 3 (ipykernel)",
   "language": "python",
   "name": "python3"
  },
  "language_info": {
   "codemirror_mode": {
    "name": "ipython",
    "version": 3
   },
   "file_extension": ".py",
   "mimetype": "text/x-python",
   "name": "python",
   "nbconvert_exporter": "python",
   "pygments_lexer": "ipython3",
   "version": "3.11.7"
  }
 },
 "nbformat": 4,
 "nbformat_minor": 5
}
