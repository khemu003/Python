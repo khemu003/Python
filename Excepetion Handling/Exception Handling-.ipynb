{
 "cells": [
  {
   "cell_type": "markdown",
   "id": "c99d2d94-4255-4eba-9b3d-c3762851f5e4",
   "metadata": {},
   "source": [
    "# Excepetion Handling"
   ]
  },
  {
   "cell_type": "markdown",
   "id": "f7d950bc-a9ff-4704-8e08-4074c328f40a",
   "metadata": {},
   "source": [
    "The **try** block lets you test a block of code for errors.\n",
    "\n",
    "The **except** block lets you handle the error.\n",
    "\n",
    "The **else** block lets you execute code when there is no error.\n",
    "\n",
    "The **finally** block lets you execute code, regardless of the result of the try- and except blocks."
   ]
  },
  {
   "cell_type": "markdown",
   "id": "956b6aca-b79d-4199-913d-8f261d54b78b",
   "metadata": {},
   "source": [
    "### Types of Exceptions\n",
    "* (1). SyntaxError : Raised when the parser encounters a syntax error.\n",
    "* (2). ValueError : Raised when a function gets an argumnet of the right type but an inappropriate value.\n",
    "* (3). TypeError : Raised when an operations or function is applied to a object of inappropriate type.\n",
    "* (4). ZeroDivisionError : Raised when attempting to divide by zero.\n",
    "* (5). KeyError : Raised when a dictionary is accessed with a key that doesn't exist.\n",
    "* (6). IndexError : Raised when trying to access an element from a list using an index that is out of bounds.\n",
    "* (7). FileNotFoundError : Raised when trying to open a file that doesn't exist.\n",
    "* (8). AttributeError : Raised when an invaild attribute is referenced"
   ]
  },
  {
   "cell_type": "code",
   "execution_count": 2,
   "id": "e8bd3c70-47bb-4cdb-8f35-25b5727a3b7d",
   "metadata": {},
   "outputs": [
    {
     "name": "stdout",
     "output_type": "stream",
     "text": [
      "Caught a ZeroDivisionError :  division by zero\n"
     ]
    }
   ],
   "source": [
    "# ZeroDivisionError\n",
    "def exception_handling_examples():\n",
    "    try:\n",
    "        result = 10/0\n",
    "    except ZeroDivisionError as e:\n",
    "        print(\"Caught a ZeroDivisionError : \", e)\n",
    "\n",
    "exception_handling_examples()"
   ]
  },
  {
   "cell_type": "code",
   "execution_count": 4,
   "id": "34b3ce93-3355-4d0e-9c3a-e34ac401067f",
   "metadata": {},
   "outputs": [
    {
     "name": "stdin",
     "output_type": "stream",
     "text": [
      "Enter a number :  sam\n"
     ]
    },
    {
     "name": "stdout",
     "output_type": "stream",
     "text": [
      "Caught a ValueError :  invalid literal for int() with base 10: 'sam'\n"
     ]
    }
   ],
   "source": [
    "# ValueError\n",
    "def exception_handling_examples():\n",
    "    try:\n",
    "        result = int(input(\"Enter a number : \"))\n",
    "        print(result)\n",
    "    except ValueError as e:\n",
    "        print(\"Caught a ValueError : \", e)\n",
    "\n",
    "exception_handling_examples()"
   ]
  },
  {
   "cell_type": "code",
   "execution_count": 5,
   "id": "a7d115ab-7831-41d9-bcb3-849e81e5d2a4",
   "metadata": {},
   "outputs": [
    {
     "name": "stdout",
     "output_type": "stream",
     "text": [
      "Caught a KeyError :  'age'\n"
     ]
    }
   ],
   "source": [
    "# KeyError\n",
    "def exception_handling_examples():\n",
    "    try:\n",
    "        data = {\"name\" : \"Alice\"}\n",
    "        print(data[\"age\"])\n",
    "    except KeyError as e:\n",
    "        print(\"Caught a KeyError : \", e)\n",
    "\n",
    "exception_handling_examples()"
   ]
  },
  {
   "cell_type": "code",
   "execution_count": 6,
   "id": "0c244d55-17d6-42d2-99f7-2b08ca8b9794",
   "metadata": {},
   "outputs": [
    {
     "name": "stdout",
     "output_type": "stream",
     "text": [
      "Caught a IndexError :  list index out of range\n"
     ]
    }
   ],
   "source": [
    "# IndexError\n",
    "def exception_handling_examples():\n",
    "    try:\n",
    "        my_list = [1,2,3]\n",
    "        print(my_list[4])\n",
    "    except IndexError as e:\n",
    "        print(\"Caught a IndexError : \", e)\n",
    "\n",
    "exception_handling_examples()"
   ]
  },
  {
   "cell_type": "code",
   "execution_count": 8,
   "id": "e374c490-2355-48f7-9a6d-766eb1ef4b12",
   "metadata": {},
   "outputs": [
    {
     "name": "stdout",
     "output_type": "stream",
     "text": [
      "Caught a FileNotFoundError :  [Errno 2] No such file or directory: 'Non_existent_file.txt'\n"
     ]
    }
   ],
   "source": [
    "# FileNotFoundError\n",
    "def exception_handling_examples():\n",
    "    try:\n",
    "        with open(\"Non_existent_file.txt\") as file:\n",
    "            content = file.read()\n",
    "    except FileNotFoundError as e:\n",
    "        print(\"Caught a FileNotFoundError : \", e)\n",
    "\n",
    "exception_handling_examples()"
   ]
  },
  {
   "cell_type": "code",
   "execution_count": 9,
   "id": "f8aff922-3e37-4f3a-989b-1b9fdcef353a",
   "metadata": {},
   "outputs": [
    {
     "name": "stdout",
     "output_type": "stream",
     "text": [
      "Caught Either a ValueError or ZeroDivisionError :  invalid literal for int() with base 10: 'String'\n"
     ]
    }
   ],
   "source": [
    "# handling multiple Exceptions\n",
    "def exception_handling_examples():\n",
    "    try:\n",
    "        number = int(\"String\")\n",
    "        result = 10/0\n",
    "    except (ValueError,ZeroDivisionError) as e:\n",
    "        print(\"Caught Either a ValueError or ZeroDivisionError : \", e)\n",
    "\n",
    "exception_handling_examples()"
   ]
  },
  {
   "cell_type": "code",
   "execution_count": 10,
   "id": "fe8312a4-2cb2-4765-9bd0-95cc41008b59",
   "metadata": {},
   "outputs": [
    {
     "name": "stdout",
     "output_type": "stream",
     "text": [
      "Attempting to open a file...\n",
      "File operation was successful.\n",
      "This bloack runs no matter what.\n"
     ]
    }
   ],
   "source": [
    "# Using else and finally\n",
    "def exception_handling_examples():\n",
    "    try:\n",
    "        print(\"Attempting to open a file...\")\n",
    "        with open(\"Example.txt\",\"w\") as f:\n",
    "            f.write(\"hello, World!\")\n",
    "    except FileNotFoundError as e:\n",
    "        print(\"Caught a FileNotFoundError : \", e)\n",
    "    else:\n",
    "        print(\"File operation was successful.\")\n",
    "    finally:\n",
    "        print(\"This bloack runs no matter what.\")\n",
    "\n",
    "exception_handling_examples()"
   ]
  },
  {
   "cell_type": "code",
   "execution_count": null,
   "id": "5e806b6e-2879-48e8-9b61-01cae97f7bec",
   "metadata": {},
   "outputs": [],
   "source": []
  }
 ],
 "metadata": {
  "kernelspec": {
   "display_name": "Python 3 (ipykernel)",
   "language": "python",
   "name": "python3"
  },
  "language_info": {
   "codemirror_mode": {
    "name": "ipython",
    "version": 3
   },
   "file_extension": ".py",
   "mimetype": "text/x-python",
   "name": "python",
   "nbconvert_exporter": "python",
   "pygments_lexer": "ipython3",
   "version": "3.11.7"
  }
 },
 "nbformat": 4,
 "nbformat_minor": 5
}
