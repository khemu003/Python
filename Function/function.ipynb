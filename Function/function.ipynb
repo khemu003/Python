{
 "cells": [
  {
   "cell_type": "markdown",
   "id": "156d50c9-8948-4377-b8a1-dd0a5c90f97d",
   "metadata": {},
   "source": [
    "# Function in python"
   ]
  },
  {
   "cell_type": "markdown",
   "id": "22d30b03-6fe3-4606-9539-10f41b9075a5",
   "metadata": {},
   "source": [
    "A function is a block of code which only runs when it is called.\n",
    "\n",
    "You can pass data, known as parameters, into a function.\n",
    "\n",
    "A function can return data as a result."
   ]
  },
  {
   "cell_type": "markdown",
   "id": "0c6eed8e-d23c-4d28-95a4-64e9070983bd",
   "metadata": {},
   "source": [
    "### Type of function"
   ]
  },
  {
   "cell_type": "markdown",
   "id": "c6152b15-3d50-4536-bd45-f023cf755f66",
   "metadata": {},
   "source": [
    "(1). Pre-defined Functions print(), input(), min(), max()\n",
    "\n",
    "(2). Manually Created functions"
   ]
  },
  {
   "cell_type": "markdown",
   "id": "2ced3295-cf42-4839-81ab-7bbca2bdce27",
   "metadata": {},
   "source": [
    "### Syntax : "
   ]
  },
  {
   "cell_type": "raw",
   "id": "1114dfe1-ba4d-4512-b054-e1fc5cec7f19",
   "metadata": {},
   "source": [
    "def function_name(Aruments):         # Define the function name and Arugments\n",
    "    # block of code\n",
    "    .\n",
    "    .                                # Define the code or logic\n",
    "    .\n",
    "    .\n",
    "function_name(parameters)            # Call the function"
   ]
  },
  {
   "cell_type": "code",
   "execution_count": 7,
   "id": "048d4469-e271-4c86-a688-1b6b32e75b6c",
   "metadata": {},
   "outputs": [
    {
     "name": "stdout",
     "output_type": "stream",
     "text": [
      "your name is : khemraj\n",
      "your age is : 19\n"
     ]
    }
   ],
   "source": [
    "def info(name, age):\n",
    "    print(\"your name is :\", name)\n",
    "    print(\"your age is :\", age)\n",
    "info(\"khemraj\", 19)"
   ]
  },
  {
   "cell_type": "markdown",
   "id": "fe5f1d9f-1c4a-4a12-8986-b4d897ebee99",
   "metadata": {},
   "source": [
    "(1). Parameters ===> these are the value which we suppied when we create a function.\n",
    "\n",
    "(2). Argument ===> These are the value which we supplied when we call the function."
   ]
  },
  {
   "cell_type": "markdown",
   "id": "cab8c768-1520-402d-a5ac-6e3b91f11967",
   "metadata": {},
   "source": [
    "### Some Argument and parameter case"
   ]
  },
  {
   "cell_type": "code",
   "execution_count": 1,
   "id": "c3b0a8e6-366e-4df8-a128-1de49e0dc3f0",
   "metadata": {},
   "outputs": [
    {
     "name": "stdout",
     "output_type": "stream",
     "text": [
      "Addition :  7\n"
     ]
    }
   ],
   "source": [
    "# case - 1 (no Argument no Return)\n",
    "def add():\n",
    "    a = 4\n",
    "    b = 3\n",
    "    c = a+b\n",
    "    print(\"Addition : \",c)\n",
    "add()"
   ]
  },
  {
   "cell_type": "code",
   "execution_count": 2,
   "id": "ef54d19d-0da7-4ea0-a7a3-2cee0650b433",
   "metadata": {},
   "outputs": [
    {
     "name": "stdout",
     "output_type": "stream",
     "text": [
      "Addition :  8\n"
     ]
    }
   ],
   "source": [
    "# case - 2 (with Argument no Return)\n",
    "def add(a,b):\n",
    "    c = a+b\n",
    "    print(\"Addition : \",c)\n",
    "add(3,5)"
   ]
  },
  {
   "cell_type": "code",
   "execution_count": 5,
   "id": "a5855a73-a36b-4004-af8e-28431fbec936",
   "metadata": {},
   "outputs": [
    {
     "name": "stdout",
     "output_type": "stream",
     "text": [
      "Addition : 10\n"
     ]
    }
   ],
   "source": [
    "# case - 3 (no Argument with Return)\n",
    "def add():\n",
    "    a = 4\n",
    "    b = 6\n",
    "    c = a+b\n",
    "    return c\n",
    "sum = add()\n",
    "print(\"Addition :\",sum)"
   ]
  },
  {
   "cell_type": "code",
   "execution_count": 6,
   "id": "5d397f1e-f40b-4da7-a586-ed808fb0d670",
   "metadata": {},
   "outputs": [
    {
     "name": "stdout",
     "output_type": "stream",
     "text": [
      "Addition 5\n"
     ]
    }
   ],
   "source": [
    "# case - 4 (with Argument with Return)\n",
    "def add(a,b):\n",
    "    d = a+b\n",
    "    return d\n",
    "sum = add(1,4)\n",
    "print(\"Addition\",sum)"
   ]
  },
  {
   "cell_type": "markdown",
   "id": "d89f5ad6-ae54-49cf-823e-436d282d003e",
   "metadata": {},
   "source": [
    "## pass function\n",
    "pass function is use to create a empty function"
   ]
  },
  {
   "cell_type": "code",
   "execution_count": 13,
   "id": "893413ad-64e8-48de-91fc-96def2cd4ad2",
   "metadata": {},
   "outputs": [],
   "source": [
    "def student():\n",
    "    pass\n",
    "student()"
   ]
  },
  {
   "cell_type": "markdown",
   "id": "3fcd9c7d-e1f9-468b-9144-7338a1b490e9",
   "metadata": {},
   "source": [
    "## Types of Arguments in Python"
   ]
  },
  {
   "cell_type": "markdown",
   "id": "b3b10fc1-8758-4f38-b1ea-467e156a3248",
   "metadata": {},
   "source": [
    "### 1. Requires Arguments\r\n",
    "These are the arguments that must be passed to the function in the correct position. If not provided, Python raises an error."
   ]
  },
  {
   "cell_type": "code",
   "execution_count": 8,
   "id": "101ebcbe-94f9-4aef-a4da-503d7e5b8c7a",
   "metadata": {},
   "outputs": [
    {
     "name": "stdout",
     "output_type": "stream",
     "text": [
      "8\n"
     ]
    }
   ],
   "source": [
    "def add(a, b):\n",
    "    return a+b\n",
    "\n",
    "print(add(3,5))"
   ]
  },
  {
   "cell_type": "markdown",
   "id": "dce90af0-4931-4c4f-b6e4-ab19c9102a0e",
   "metadata": {},
   "source": [
    "### 2. Default Arguments\n",
    "Default arguments are those that take default values if no value is provided during the function call. If an argument is not passed, Python uses the default value."
   ]
  },
  {
   "cell_type": "code",
   "execution_count": 9,
   "id": "1c2d7908-8377-4802-b4ae-488273fc5fa4",
   "metadata": {},
   "outputs": [
    {
     "name": "stdout",
     "output_type": "stream",
     "text": [
      "hello, sam!\n",
      "goodbye, mohit!\n"
     ]
    }
   ],
   "source": [
    "def greet(name, msg=\"hello\"):\n",
    "    return f\"{msg}, {name}!\"\n",
    "\n",
    "print(greet(\"sam\"))\n",
    "print(greet(\"mohit\", \"goodbye\"))"
   ]
  },
  {
   "cell_type": "markdown",
   "id": "22d80617-2aa6-48cf-8106-92456076c0bc",
   "metadata": {},
   "source": [
    "### 3. Keyword Arguments\n",
    "Keyword arguments allow you to pass arguments by explicitly specifying their name, making the code more readable. The order of the arguments does not matter as long as you provid th keyword."
   ]
  },
  {
   "cell_type": "code",
   "execution_count": 10,
   "id": "dc108ec1-4d33-43b2-94cb-246c66c39c7c",
   "metadata": {},
   "outputs": [
    {
     "name": "stdout",
     "output_type": "stream",
     "text": [
      "NAME: Sam, AGE: 20, GRADE: A\n",
      "NAME: rahul, AGE: 21, GRADE: B\n"
     ]
    }
   ],
   "source": [
    "def student_info(name, age, grade):\n",
    "    return f\"NAME: {name}, AGE: {age}, GRADE: {grade}\"\n",
    "\n",
    "print(student_info(name=\"Sam\", age=20, grade = \"A\"))\n",
    "print(student_info(grade=\"B\", name=\"rahul\", age=21))"
   ]
  },
  {
   "cell_type": "markdown",
   "id": "e41b0d51-9602-452a-abb6-c7fd623ceae8",
   "metadata": {},
   "source": [
    "### 4. Variable-length Aruqments : *args\r\n",
    "*args allows you to pass a variable number of positional arguments to a function. Inside the function,'args is treated as a tuple."
   ]
  },
  {
   "cell_type": "code",
   "execution_count": 11,
   "id": "4bd5a6cc-3367-4645-ab82-6fea0bc5c96f",
   "metadata": {},
   "outputs": [
    {
     "name": "stdout",
     "output_type": "stream",
     "text": [
      "8\n",
      "120\n"
     ]
    }
   ],
   "source": [
    "def multiply(*args):\n",
    "    prod = 1\n",
    "    for num in args:\n",
    "        prod = prod * num\n",
    "    return prod\n",
    "\n",
    "print(multiply(2,4))\n",
    "print(multiply(2,3,4,5))"
   ]
  },
  {
   "cell_type": "markdown",
   "id": "36c5c038-47fe-4b3e-8eb5-896e15845661",
   "metadata": {},
   "source": [
    "### 5. Variable-Length keyword Arguments: **kwargs\n",
    "*kwargs allows you to pass a variable number of keyword arguments to a function. Inside the function,'kwargs is treated as a dictionary."
   ]
  },
  {
   "cell_type": "code",
   "execution_count": 12,
   "id": "ed5f1c75-9f42-42e1-8149-16e86a0951ff",
   "metadata": {},
   "outputs": [
    {
     "name": "stdout",
     "output_type": "stream",
     "text": [
      "name : sam\n",
      "age : 34\n",
      "city : Jaipur\n"
     ]
    }
   ],
   "source": [
    "def print_info(**kwargs):\n",
    "    for key, values in kwargs.items():\n",
    "        print(f\"{key} : {values}\")\n",
    "\n",
    "print_info(name=\"sam\", age=34, city=\"Jaipur\")"
   ]
  },
  {
   "cell_type": "code",
   "execution_count": null,
   "id": "81032e85-e1ff-45e2-8fab-3b47bcff0226",
   "metadata": {},
   "outputs": [],
   "source": []
  }
 ],
 "metadata": {
  "kernelspec": {
   "display_name": "Python 3 (ipykernel)",
   "language": "python",
   "name": "python3"
  },
  "language_info": {
   "codemirror_mode": {
    "name": "ipython",
    "version": 3
   },
   "file_extension": ".py",
   "mimetype": "text/x-python",
   "name": "python",
   "nbconvert_exporter": "python",
   "pygments_lexer": "ipython3",
   "version": "3.11.7"
  }
 },
 "nbformat": 4,
 "nbformat_minor": 5
}
