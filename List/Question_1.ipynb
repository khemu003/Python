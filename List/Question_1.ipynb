{
 "cells": [
  {
   "cell_type": "markdown",
   "id": "ba5b2b15-73cc-44e3-962f-56076c6cd537",
   "metadata": {},
   "source": [
    "# Exercise: Python Lists\n"
   ]
  },
  {
   "cell_type": "raw",
   "id": "6cd69301-853a-4a8e-b378-179511afe88b",
   "metadata": {},
   "source": [
    "Let us say your expense for every month are listed below,\r\n",
    "January - 2200\r\n",
    "February - 2350\r\n",
    "March - 2600\r\n",
    "April - 2130\r\n",
    "May -\n",
    " 2190\r\n",
    "Create a list to store these monthly expenses and using tnd out-\n",
    "hat fi\n",
    "1. In Feb, how many dollars you spent extra compare to January?\r\n",
    "2. Find out your total expense in first quarter (first three months) of the year.\r\n",
    "3. Find out if you spent exactly 2000 dollars in any month\r\n",
    "4. June month just finished and your expense is 1980 dollar. Add this item to our monthly expense list\r\n",
    "5. You returned an item that you bought in a month of April and\r\n",
    "got a refund of 200$. Make a correction to your monthly e pense list\r\n",
    "based on thisnd out,"
   ]
  },
  {
   "cell_type": "code",
   "execution_count": 1,
   "id": "19b633a5-f1a3-4ff2-9934-585e1586906a",
   "metadata": {},
   "outputs": [],
   "source": [
    "month_list = [\"January\", \"February\", \"March\", \"April\", \"May\"]\n",
    "expense = [2200,2350, 2600, 2130, 2190]"
   ]
  },
  {
   "cell_type": "code",
   "execution_count": 2,
   "id": "7378192a-00a2-4155-8c36-db9a15f80af8",
   "metadata": {},
   "outputs": [
    {
     "name": "stdout",
     "output_type": "stream",
     "text": [
      "In February, You spend 150 ₹ extra compare to january\n"
     ]
    }
   ],
   "source": [
    "extra_amount = expense[1]-expense[0]\n",
    "print(f\"In February, You spend {extra_amount} ₹ extra compare to january\")"
   ]
  },
  {
   "cell_type": "code",
   "execution_count": 3,
   "id": "009eee14-946b-4f0a-b9da-0d73ac3a87f2",
   "metadata": {},
   "outputs": [
    {
     "name": "stdout",
     "output_type": "stream",
     "text": [
      "total expence in first quarter : 7150\n"
     ]
    }
   ],
   "source": [
    "first_quarter = expense[0] + expense[1] + expense[2]\n",
    "print(f\"total expence in first quarter : {first_quarter}\")"
   ]
  },
  {
   "cell_type": "code",
   "execution_count": 4,
   "id": "07f04d33-91a3-444c-9f15-a6d789c0e9c5",
   "metadata": {},
   "outputs": [
    {
     "name": "stdout",
     "output_type": "stream",
     "text": [
      "you have not expend exactly 2000 in any.\n"
     ]
    }
   ],
   "source": [
    "for i in range(len(expense)):\n",
    "    if expense[i]==2000:\n",
    "        print(f\"you have expend exactly 2000 in {month_list[i]}\")\n",
    "        break\n",
    "    else:\n",
    "        print(f\"you have not expend exactly 2000 in any.\")\n",
    "        break"
   ]
  },
  {
   "cell_type": "code",
   "execution_count": 5,
   "id": "d0c8dec6-3725-491e-97bb-98d8f5f2e63f",
   "metadata": {},
   "outputs": [
    {
     "name": "stdout",
     "output_type": "stream",
     "text": [
      "['January', 'February', 'March', 'April', 'May', 'june']\n",
      "[2200, 2350, 2600, 2130, 2190, 1980]\n"
     ]
    }
   ],
   "source": [
    "month_list.append(\"june\")\n",
    "expense.append(1980)\n",
    "print(month_list)\n",
    "print(expense)"
   ]
  },
  {
   "cell_type": "code",
   "execution_count": 6,
   "id": "a098357e-87de-44ca-b262-c8ea682b8435",
   "metadata": {},
   "outputs": [
    {
     "name": "stdout",
     "output_type": "stream",
     "text": [
      "[2200, 2350, 2600, 1930, 2190, 1980]\n"
     ]
    }
   ],
   "source": [
    "change_expense = expense[3] - 200\n",
    "expense[3] = change_expense\n",
    "print(expense)"
   ]
  },
  {
   "cell_type": "code",
   "execution_count": null,
   "id": "f96d1274-0ed7-4f3c-8f2c-6b887cb736b9",
   "metadata": {},
   "outputs": [],
   "source": []
  },
  {
   "cell_type": "raw",
   "id": "1dc40b8a-2e1a-40cd-8f12-e54fe35a9ba9",
   "metadata": {},
   "source": [
    "2. You have a list of your favourite marvel super heros.\r\n",
    "heros=['spider man','thor','hulk','iron man','captain america'\n",
    "]\r\n",
    "Using this find o-,\r\n",
    "\r\n",
    "1. Length of the list\r\n",
    "2. Add 'black panther' at the end of this list\r\n",
    "3. You realize that you need to add 'black panther' after 'hulk',\r\n",
    "   so remove it from the list first and then add it after 'hulk'\r\n",
    "4. Now you don't like thor and hulk because they get angry easily :)\r\n",
    "   So you want to remove thor and hulk from list and replace them with doctor strange (because he is cool).\r\n",
    "   Do that with one line of code.\r\n",
    "5. Sort the heros list in alphabetical order (Hint. Use dir() functions to list down all functions availabe in list)\r\n"
   ]
  },
  {
   "cell_type": "code",
   "execution_count": 7,
   "id": "f83df161-769c-4507-95f5-79a01f2cc917",
   "metadata": {},
   "outputs": [],
   "source": [
    "heros=['spider man','thor','hulk','iron man','captain america']"
   ]
  },
  {
   "cell_type": "code",
   "execution_count": 8,
   "id": "bbd1d680-1d5e-4b1f-9e44-0d458deec62b",
   "metadata": {},
   "outputs": [
    {
     "name": "stdout",
     "output_type": "stream",
     "text": [
      "5\n"
     ]
    }
   ],
   "source": [
    "print(len(heros))"
   ]
  },
  {
   "cell_type": "code",
   "execution_count": 9,
   "id": "c4547d83-b6c9-43f2-897e-82cbd6185959",
   "metadata": {},
   "outputs": [
    {
     "name": "stdout",
     "output_type": "stream",
     "text": [
      "['spider man', 'thor', 'hulk', 'iron man', 'captain america', 'black panther']\n"
     ]
    }
   ],
   "source": [
    "heros.append(\"black panther\")\n",
    "print(heros)"
   ]
  },
  {
   "cell_type": "code",
   "execution_count": 10,
   "id": "f8435c59-345d-49d2-ab4d-9aed53d83b0c",
   "metadata": {},
   "outputs": [
    {
     "name": "stdout",
     "output_type": "stream",
     "text": [
      "['spider man', 'thor', 'hulk', 'black panther', 'iron man', 'captain america']\n"
     ]
    }
   ],
   "source": [
    "heros.remove(\"black panther\")\n",
    "heros.insert(3,\"black panther\")\n",
    "print(heros)"
   ]
  },
  {
   "cell_type": "code",
   "execution_count": 11,
   "id": "25c0feb0-00c9-41db-8739-14685ea7b280",
   "metadata": {},
   "outputs": [
    {
     "name": "stdout",
     "output_type": "stream",
     "text": [
      "['spider man', 'docter strange', 'black panther', 'iron man', 'captain america']\n"
     ]
    }
   ],
   "source": [
    "heros[1:3] = [\"docter strange\"]\n",
    "print(heros)"
   ]
  },
  {
   "cell_type": "code",
   "execution_count": 12,
   "id": "3d574efc-e617-44b0-83e0-c1af6700bfd3",
   "metadata": {},
   "outputs": [
    {
     "name": "stdout",
     "output_type": "stream",
     "text": [
      "['black panther', 'captain america', 'docter strange', 'iron man', 'spider man']\n"
     ]
    }
   ],
   "source": [
    "heros.sort()\n",
    "print(heros)"
   ]
  },
  {
   "cell_type": "code",
   "execution_count": null,
   "id": "eb0b897a-3e59-42d7-ae57-0f7494597f2c",
   "metadata": {},
   "outputs": [],
   "source": []
  }
 ],
 "metadata": {
  "kernelspec": {
   "display_name": "Python 3 (ipykernel)",
   "language": "python",
   "name": "python3"
  },
  "language_info": {
   "codemirror_mode": {
    "name": "ipython",
    "version": 3
   },
   "file_extension": ".py",
   "mimetype": "text/x-python",
   "name": "python",
   "nbconvert_exporter": "python",
   "pygments_lexer": "ipython3",
   "version": "3.11.7"
  }
 },
 "nbformat": 4,
 "nbformat_minor": 5
}
