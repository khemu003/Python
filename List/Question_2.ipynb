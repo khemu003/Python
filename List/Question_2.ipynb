{
 "cells": [
  {
   "cell_type": "code",
   "execution_count": 10,
   "id": "55c2c3d0-f32b-4fa8-a647-799882f7d723",
   "metadata": {},
   "outputs": [
    {
     "name": "stdout",
     "output_type": "stream",
     "text": [
      "25 odd number :  [1, 3, 5, 7, 9, 11, 13, 15, 17, 19, 21, 23, 25, 27, 29, 31, 33, 35, 37, 39, 41, 43, 45, 47, 49]\n"
     ]
    }
   ],
   "source": [
    "# 1. Write a program to print the first 25 odd numbers in list\n",
    "\n",
    "odd_list = []\n",
    "\n",
    "for i in range(1, 50):\n",
    "    if i%2!=0:\n",
    "        odd_list.append(i)\n",
    "print(len(odd_list),\"odd number : \",odd_list)"
   ]
  },
  {
   "cell_type": "code",
   "execution_count": 11,
   "id": "fe793bb8-0c1c-48d6-b8f1-17b638925cb8",
   "metadata": {},
   "outputs": [
    {
     "name": "stdout",
     "output_type": "stream",
     "text": [
      "['d', 'e', 'a', 'E', 'P', 'K']\n",
      "deaEPK\n"
     ]
    }
   ],
   "source": [
    "# 2. Arrange string characters such that lowercase letters should come first\n",
    "\n",
    "str = \"dEePaK\"\n",
    "\n",
    "mylist = []\n",
    "c = 0\n",
    "\n",
    "for i in str:\n",
    "    if i.lower()==i:\n",
    "        mylist.insert(c,i)\n",
    "        c = c+1\n",
    "    else:\n",
    "        mylist.append(i)\n",
    "        \n",
    "print(mylist)\n",
    "x = \"\".join(mylist)\n",
    "print(x)"
   ]
  },
  {
   "cell_type": "code",
   "execution_count": 26,
   "id": "6d8a5414-ad36-4104-bc1a-a6e2dff33adc",
   "metadata": {},
   "outputs": [
    {
     "name": "stdout",
     "output_type": "stream",
     "text": [
      "number of character : 8\n",
      "number of digit :  3\n",
      "number of symbols 4\n"
     ]
    }
   ],
   "source": [
    "# 3. Count all letters, digits, and special symbols from a given string\n",
    "# a. given-->str1 = \"P@#yn26at^&i5ve\"\n",
    "# b. expected-->Total counts of chars, digits, and symbols\n",
    "\n",
    "str1 = \"P@#yn26at^&i5ve\"\n",
    "\n",
    "count_char = 0\n",
    "count_digit = 0\n",
    "count_symbols = 0\n",
    "\n",
    "for i in str1:\n",
    "    if i.isalpha():\n",
    "        count_char = count_char+1\n",
    "    elif i.isdigit():\n",
    "        count_digit = count_digit+1\n",
    "    else:\n",
    "        count_symbols = count_symbols+1\n",
    "\n",
    "print(\"number of character :\",count_char)\n",
    "print(\"number of digit : \",count_digit)\n",
    "print(\"number of symbols\",count_symbols)"
   ]
  },
  {
   "cell_type": "code",
   "execution_count": 40,
   "id": "4111fc32-19a1-47cf-ad1f-2ba7d6487cd2",
   "metadata": {},
   "outputs": [
    {
     "name": "stdout",
     "output_type": "stream",
     "text": [
      "['khemu', 'aadi', 'deepak', '']\n"
     ]
    }
   ],
   "source": [
    "# 4. Remove empty strings from a list of strings\n",
    "\n",
    "mylist = [\"khemu\", \"\", \"aadi\", \"\", \"\", \"deepak\", \"\"]\n",
    "\n",
    "for i in mylist:\n",
    "    if i==\"\":\n",
    "        mylist.remove(i)\n",
    "print(mylist)"
   ]
  },
  {
   "cell_type": "code",
   "execution_count": 16,
   "id": "e9d8cd25-f786-4a99-a0d1-4f56854173a6",
   "metadata": {},
   "outputs": [
    {
     "name": "stdout",
     "output_type": "stream",
     "text": [
      "['P', 'y', 'n', '2', '6', 'a', 't', 'i', '5', 'v', 'e']\n",
      "Pyn26ati5ve\n"
     ]
    }
   ],
   "source": [
    "# 5. Remove special symbols / punctuation from a string\n",
    "\n",
    "str1 = \"P@#yn26$at^&i5!ve\"\n",
    "str1_list = []\n",
    "\n",
    "# for i in str1:\n",
    "#     str1_list.append(i)\n",
    "# print(str1_list)\n",
    "\n",
    "for i in str1:\n",
    "    if (i.isalnum()):\n",
    "        str1_list.append(i)\n",
    "print(str1_list)\n",
    "\n",
    "string = \"\".join(str1_list)\n",
    "print(string)"
   ]
  },
  {
   "cell_type": "code",
   "execution_count": 57,
   "id": "ce89a6b6-ca10-4a13-8082-9df572a5d5a9",
   "metadata": {},
   "outputs": [
    {
     "name": "stdout",
     "output_type": "stream",
     "text": [
      "2510\n"
     ]
    }
   ],
   "source": [
    "# 6. Removal all characters from a string except integers\n",
    "# a. str1 = 'I am 25 years and 10 months old'\n",
    "# b. expected-->2510\n",
    "\n",
    "str1 = \"I am 25 years and 10 months old\"\n",
    "str1_digit_list = []\n",
    "\n",
    "for i in str1:\n",
    "    if i.isdigit():\n",
    "        str1_digit_list.append(i)\n",
    "str1_digit = \"\".join(str1_digit_list)\n",
    "print(str1_digit)"
   ]
  },
  {
   "cell_type": "code",
   "execution_count": 22,
   "id": "238cc260-f97f-4095-8da8-cda63fbf784b",
   "metadata": {},
   "outputs": [
    {
     "name": "stdout",
     "output_type": "stream",
     "text": [
      "[['datavizion.com'], ['yahoo.com'], ['google.com'], ['health.com']]\n"
     ]
    }
   ],
   "source": [
    "# 7. extract the email service provider name\n",
    "# a. emaillist=[\"KSR@datavizion.com\",\"mymail@yahoo.com\",\"milindmali@google.com\",\"snehal@health.com\"]\n",
    "\n",
    "email_list = [\"KSR@datavizion.com\",\"mymail@yahoo.com\",\"milindmali@google.com\",\"snehal@health.com\"]\n",
    "service_email = []\n",
    "\n",
    "for i in email_list:\n",
    "    if \"@\" in i:\n",
    "        info = i.split(\"@\")\n",
    "        service_email.append([info[1]])\n",
    "print(service_email)"
   ]
  },
  {
   "cell_type": "code",
   "execution_count": 23,
   "id": "367af378-1847-4202-b7ae-117203f9f207",
   "metadata": {},
   "outputs": [
    {
     "name": "stdout",
     "output_type": "stream",
     "text": [
      "milindmali108@gmail.com\n"
     ]
    }
   ],
   "source": [
    "# 8. extract all the emailid for the given string\n",
    "# a. string=\"Hi my name is Govind Das and my mail id is\n",
    "#    milindmali108@gmail.com and my org\n",
    "# b. Output => milindmali108@gmail.com\n",
    "\n",
    "string=\"Hi my name is Govind Das and my mail id is milindmali108@gmail.com and my org\"\n",
    "\n",
    "string_list = string.split()\n",
    "# print(string_list)\n",
    "\n",
    "for i in string_list:\n",
    "    if \"@\" in i:\n",
    "        print(i)"
   ]
  },
  {
   "cell_type": "code",
   "execution_count": 48,
   "id": "4c1d1cb6-b7b8-4cd6-80d7-39bf1eb052c7",
   "metadata": {},
   "outputs": [
    {
     "name": "stdout",
     "output_type": "stream",
     "text": [
      "{(7, 49), (2, 4), (4, 16), (8, 64), (6, 36), (3, 9), (5, 25)}\n"
     ]
    }
   ],
   "source": [
    "# 9. Create a Python set such that it shows the element from both lists in a pair\n",
    "# a. first_list = [2, 3, 4, 5, 6, 7, 8]\n",
    "# b. second_list = [4, 9, 16, 25, 36, 49, 64]\n",
    "# c. Result is {(6, 36), (8, 64), (4, 16), (5, 25), (3, 9), (7, 49), (2, 4)}\n",
    "\n",
    "first_list = [2, 3, 4, 5, 6, 7, 8]\n",
    "second_list = [4, 9, 16, 25, 36, 49, 64]\n",
    "result = set()\n",
    "\n",
    "\n",
    "for i in first_list:\n",
    "    for j in second_list:\n",
    "        if j==i*i:\n",
    "            result.add((i,j))\n",
    "print(result)"
   ]
  },
  {
   "cell_type": "code",
   "execution_count": 47,
   "id": "4283f0a9-dd44-4a0d-a064-692fb9f82de9",
   "metadata": {},
   "outputs": [
    {
     "name": "stdout",
     "output_type": "stream",
     "text": [
      "[9, 8, 7, 6, 5, 4]\n"
     ]
    }
   ],
   "source": [
    "# 10. Write a program to reverse a List in Python\n",
    "# a. list = [4, 5, 6, 7, 8, 9]\n",
    "# b. Output => [9, 8, 7, 6, 5, 4]\n",
    "\n",
    "mylist = [4, 5, 6, 7, 8, 9]\n",
    "\n",
    "mylist_reverse = []\n",
    "\n",
    "for i in mylist:\n",
    "    mylist_reverse.insert(0,i)\n",
    "print(mylist_reverse)"
   ]
  },
  {
   "cell_type": "code",
   "execution_count": 46,
   "id": "e2daf9f9-549e-4ca4-881a-d7e44cf01da1",
   "metadata": {},
   "outputs": [
    {
     "name": "stdout",
     "output_type": "stream",
     "text": [
      "[34, 6, 4, 67, 24, 3, 8, 34, 93]\n"
     ]
    }
   ],
   "source": [
    "# 11. Write a program to clone or copy the list:\n",
    "\n",
    "mylist = [34,6,4,67,24,3,8,34,93]\n",
    "mylist_copy = []\n",
    "\n",
    "for i in mylist:\n",
    "    mylist_copy.append(i)\n",
    "print(mylist_copy)"
   ]
  },
  {
   "cell_type": "code",
   "execution_count": 45,
   "id": "10e6a83a-2e88-4902-9604-6c7ba9258efa",
   "metadata": {},
   "outputs": [
    {
     "name": "stdout",
     "output_type": "stream",
     "text": [
      "sum of all number : 273\n"
     ]
    }
   ],
   "source": [
    "# 12. Write a program to get sum of number of digit in a list\n",
    "\n",
    "mylist = [34,6,4,67,24,3,8,34,93]\n",
    "sum = 0\n",
    "for i in mylist:\n",
    "    sum = sum+i\n",
    "print(\"sum of all number :\",sum)"
   ]
  },
  {
   "cell_type": "code",
   "execution_count": 44,
   "id": "9f1bfa59-6a16-4618-9dce-b65590fbb7be",
   "metadata": {},
   "outputs": [
    {
     "name": "stdout",
     "output_type": "stream",
     "text": [
      "smallest value in list :  3\n"
     ]
    }
   ],
   "source": [
    "# 13. Write a program to get the smallest number in a list\n",
    "# Note => without using reverse(), sort() and slicing operator\n",
    "\n",
    "mylist = [34,6,4,67,24,3,8,34,93]\n",
    "min = mylist[0]\n",
    "\n",
    "for i in mylist:\n",
    "    if i<min:\n",
    "        min = i\n",
    "print(\"smallest value in list : \",min)"
   ]
  },
  {
   "cell_type": "code",
   "execution_count": 41,
   "id": "a2ec4efd-2b91-4a91-a743-a18af30b5f7f",
   "metadata": {},
   "outputs": [
    {
     "name": "stdout",
     "output_type": "stream",
     "text": [
      "even number : 8\n",
      "odd number : 7\n"
     ]
    }
   ],
   "source": [
    "# 14. Write a program to print the count of even and odd number from a list\n",
    "\n",
    "mylist = [1,2,3,4,5,6,7,8,9,10,34,45,236,24,75]\n",
    "even_count = 0\n",
    "odd_count = 0\n",
    "for i in mylist:\n",
    "    if i%2==0:\n",
    "        even_count = even_count+1\n",
    "    else:\n",
    "        odd_count = odd_count+1\n",
    "\n",
    "print(\"even number :\",even_count)\n",
    "print(\"odd number :\",odd_count)"
   ]
  },
  {
   "cell_type": "code",
   "execution_count": null,
   "id": "941fd3ee-195f-4568-802d-c38d2af3d551",
   "metadata": {},
   "outputs": [],
   "source": []
  }
 ],
 "metadata": {
  "kernelspec": {
   "display_name": "Python 3 (ipykernel)",
   "language": "python",
   "name": "python3"
  },
  "language_info": {
   "codemirror_mode": {
    "name": "ipython",
    "version": 3
   },
   "file_extension": ".py",
   "mimetype": "text/x-python",
   "name": "python",
   "nbconvert_exporter": "python",
   "pygments_lexer": "ipython3",
   "version": "3.11.7"
  }
 },
 "nbformat": 4,
 "nbformat_minor": 5
}
