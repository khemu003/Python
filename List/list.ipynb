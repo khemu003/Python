{
 "cells": [
  {
   "cell_type": "markdown",
   "id": "421aabc1-aa41-4fd6-b79d-3c81832950ab",
   "metadata": {},
   "source": [
    "# List in python"
   ]
  },
  {
   "cell_type": "code",
   "execution_count": 1,
   "id": "04946916",
   "metadata": {},
   "outputs": [],
   "source": [
    "# List ===> \n",
    "# (1). This is a container in which we can store elements . \n",
    "# (2). Mutable data type ===> we can change or update our values at a run time . \n",
    "# (3). Indexing start from 0 and length start from 1 . \n",
    "# (4). Identification = [] "
   ]
  },
  {
   "cell_type": "code",
   "execution_count": 2,
   "id": "8e115765",
   "metadata": {},
   "outputs": [
    {
     "data": {
      "text/plain": [
       "list"
      ]
     },
     "execution_count": 2,
     "metadata": {},
     "output_type": "execute_result"
    }
   ],
   "source": [
    "a = ['sam' , 67 , 'Raj' , 89.33]\n",
    "type(a) "
   ]
  },
  {
   "cell_type": "code",
   "execution_count": 3,
   "id": "cc231396",
   "metadata": {},
   "outputs": [
    {
     "name": "stdout",
     "output_type": "stream",
     "text": [
      "sam\n",
      "67\n",
      "Raj\n",
      "89.33\n"
     ]
    }
   ],
   "source": [
    "print(a[0])\n",
    "print(a[1])\n",
    "print(a[2])\n",
    "print(a[3])"
   ]
  },
  {
   "cell_type": "markdown",
   "id": "447b389c-42f8-4110-b918-cb78ebbad4ce",
   "metadata": {},
   "source": [
    "#### Slicing in list"
   ]
  },
  {
   "cell_type": "code",
   "execution_count": 4,
   "id": "c4c8aca7",
   "metadata": {},
   "outputs": [
    {
     "name": "stdout",
     "output_type": "stream",
     "text": [
      "[67, 'Raj']\n",
      "[67, 'Raj', 89.33]\n",
      "['sam', 67, 'Raj']\n",
      "['sam', 67, 'Raj', 89.33]\n"
     ]
    }
   ],
   "source": [
    "a = ['sam' , 67 , 'Raj' , 89.33]\n",
    "print(a[1:3])\n",
    "print(a[1:])\n",
    "print(a[:-1])\n",
    "print(a[:])"
   ]
  },
  {
   "cell_type": "markdown",
   "id": "1c6a5ff5-c77a-470e-ac27-687b52df732f",
   "metadata": {},
   "source": [
    "#### Loop in list"
   ]
  },
  {
   "cell_type": "code",
   "execution_count": 5,
   "id": "0cb762fd",
   "metadata": {},
   "outputs": [
    {
     "name": "stdout",
     "output_type": "stream",
     "text": [
      "sam\n",
      "67\n",
      "Raj\n",
      "89.33\n"
     ]
    }
   ],
   "source": [
    "# method - 1 \n",
    "a = ['sam' , 67 , 'Raj' , 89.33]\n",
    "for i in range(len(a)):\n",
    "    print(a[i]) "
   ]
  },
  {
   "cell_type": "code",
   "execution_count": 6,
   "id": "70492bd8",
   "metadata": {},
   "outputs": [
    {
     "name": "stdout",
     "output_type": "stream",
     "text": [
      "sam, 67, Raj, 89.33, "
     ]
    }
   ],
   "source": [
    "# method - 2 \n",
    "a = ['sam' , 67 , 'Raj' , 89.33]\n",
    "for i in range(len(a)):\n",
    "    print(a[i] , end = \", \") "
   ]
  },
  {
   "cell_type": "code",
   "execution_count": 7,
   "id": "091f8977-eeb2-4c61-a9da-863463fe24fe",
   "metadata": {},
   "outputs": [
    {
     "name": "stdout",
     "output_type": "stream",
     "text": [
      "sam\n",
      "67\n",
      "Raj\n",
      "89.33\n"
     ]
    }
   ],
   "source": [
    "# method - 3\n",
    "a = ['sam' , 67 , 'Raj' , 89.33]\n",
    "for i in a:\n",
    "    print(i)"
   ]
  },
  {
   "cell_type": "markdown",
   "id": "32363522-c51a-4340-b3de-1481ac5f6250",
   "metadata": {},
   "source": [
    "## Method of list"
   ]
  },
  {
   "cell_type": "code",
   "execution_count": 8,
   "id": "e6d43bf7",
   "metadata": {},
   "outputs": [
    {
     "name": "stdout",
     "output_type": "stream",
     "text": [
      "['sam', 67, 'Raj', 89.33]\n",
      "['sam', 50, 'Raj', 89.33]\n"
     ]
    }
   ],
   "source": [
    "# update item using index\n",
    "a = ['sam' , 67 , 'Raj' , 89.33]\n",
    "print(a)\n",
    "a[1] = 50\n",
    "print(a) "
   ]
  },
  {
   "cell_type": "code",
   "execution_count": 9,
   "id": "9ccaca44",
   "metadata": {},
   "outputs": [
    {
     "data": {
      "text/plain": [
       "1"
      ]
     },
     "execution_count": 9,
     "metadata": {},
     "output_type": "execute_result"
    }
   ],
   "source": [
    "a = ['sam' , 67 , 'Raj' , 89.33]\n",
    "a.index(67)  ### it will return indexing of item"
   ]
  },
  {
   "cell_type": "code",
   "execution_count": 10,
   "id": "ffa76207",
   "metadata": {},
   "outputs": [
    {
     "data": {
      "text/plain": [
       "['sam', 67, 'Raj', 89.33, 'Raju']"
      ]
     },
     "execution_count": 10,
     "metadata": {},
     "output_type": "execute_result"
    }
   ],
   "source": [
    "a.append('Raju') ### it will add element in last indexing of list\n",
    "a"
   ]
  },
  {
   "cell_type": "code",
   "execution_count": 11,
   "id": "05057477",
   "metadata": {},
   "outputs": [
    {
     "data": {
      "text/plain": [
       "['sam', 'Preeti', 67, 'Raj', 89.33, 'Raju']"
      ]
     },
     "execution_count": 11,
     "metadata": {},
     "output_type": "execute_result"
    }
   ],
   "source": [
    "a.insert(1 , \"Preeti\") ### it will add element according to our index value\n",
    "a"
   ]
  },
  {
   "cell_type": "code",
   "execution_count": 12,
   "id": "8cb6a6a9",
   "metadata": {},
   "outputs": [
    {
     "data": {
      "text/plain": [
       "['sam', 67, 'Raj', 89.33, 'Raju']"
      ]
     },
     "execution_count": 12,
     "metadata": {},
     "output_type": "execute_result"
    }
   ],
   "source": [
    "a.remove('Preeti')  ## it will remove object in the list . \n",
    "a"
   ]
  },
  {
   "cell_type": "code",
   "execution_count": 13,
   "id": "fb75b1de",
   "metadata": {},
   "outputs": [
    {
     "data": {
      "text/plain": [
       "['sam', 67, 'Raj', 89.33]"
      ]
     },
     "execution_count": 13,
     "metadata": {},
     "output_type": "execute_result"
    }
   ],
   "source": [
    "a.pop()  ## it will remove last index element . \n",
    "a"
   ]
  },
  {
   "cell_type": "code",
   "execution_count": 14,
   "id": "5897af15-69a7-4190-bd3b-c4756c921fcd",
   "metadata": {},
   "outputs": [
    {
     "name": "stdout",
     "output_type": "stream",
     "text": [
      "['sam', 67, 'Raj', 89.33]\n"
     ]
    }
   ],
   "source": [
    "a_copy = a.copy()\n",
    "print(a_copy)"
   ]
  },
  {
   "cell_type": "code",
   "execution_count": 15,
   "id": "e59394dc-bb21-4467-a432-f3741658ffbd",
   "metadata": {},
   "outputs": [
    {
     "name": "stdout",
     "output_type": "stream",
     "text": [
      "[1, 2, 3, 4, 5, 6, 7, 8, 9, 10]\n"
     ]
    }
   ],
   "source": [
    "x = [1,2,3,4,5]\n",
    "y = [6,7,8,9,10]\n",
    "x.extend(y)\n",
    "print(x)"
   ]
  },
  {
   "cell_type": "code",
   "execution_count": 16,
   "id": "e2869f65-19a2-498a-9dd4-d5e43c84e7b5",
   "metadata": {},
   "outputs": [
    {
     "name": "stdout",
     "output_type": "stream",
     "text": [
      "[23, 23, 34, 45, 45, 57]\n"
     ]
    }
   ],
   "source": [
    "mylist = [34,45,23,45,23,57]\n",
    "mylist.sort()\n",
    "print(mylist)"
   ]
  },
  {
   "cell_type": "code",
   "execution_count": 17,
   "id": "e3a1ca7a-359a-430d-b9d5-d2a1343f97bf",
   "metadata": {},
   "outputs": [
    {
     "name": "stdout",
     "output_type": "stream",
     "text": [
      "[57, 45, 45, 34, 23, 23]\n"
     ]
    }
   ],
   "source": [
    "mylist = [34,45,23,45,23,57]\n",
    "mylist.sort(reverse = True)\n",
    "print(mylist)"
   ]
  },
  {
   "cell_type": "code",
   "execution_count": 18,
   "id": "39faa932-fa66-4056-a48e-e88f08b36c41",
   "metadata": {},
   "outputs": [
    {
     "name": "stdout",
     "output_type": "stream",
     "text": [
      "[]\n"
     ]
    }
   ],
   "source": [
    "mylist.clear()\n",
    "print(mylist)"
   ]
  },
  {
   "cell_type": "code",
   "execution_count": 19,
   "id": "3b923ce6",
   "metadata": {},
   "outputs": [
    {
     "data": {
      "text/plain": [
       "4"
      ]
     },
     "execution_count": 19,
     "metadata": {},
     "output_type": "execute_result"
    }
   ],
   "source": [
    "a = [1,2,3,4]\n",
    "max(a) ## it will return maximum number in a list"
   ]
  },
  {
   "cell_type": "code",
   "execution_count": 20,
   "id": "8e498d29",
   "metadata": {},
   "outputs": [
    {
     "data": {
      "text/plain": [
       "1"
      ]
     },
     "execution_count": 20,
     "metadata": {},
     "output_type": "execute_result"
    }
   ],
   "source": [
    "min(a)  ## it will return minimum number in a list . "
   ]
  },
  {
   "cell_type": "code",
   "execution_count": 21,
   "id": "a59b2093",
   "metadata": {},
   "outputs": [
    {
     "data": {
      "text/plain": [
       "7"
      ]
     },
     "execution_count": 21,
     "metadata": {},
     "output_type": "execute_result"
    }
   ],
   "source": [
    "a = [1,2,1,1,1,1,1,1,4,5]\n",
    "a.count(1)  ## it will check frequency of element . "
   ]
  },
  {
   "cell_type": "markdown",
   "id": "bd2134ed",
   "metadata": {},
   "source": [
    "# How can we create a user defined List ? "
   ]
  },
  {
   "cell_type": "code",
   "execution_count": 22,
   "id": "89b4a4fb",
   "metadata": {},
   "outputs": [
    {
     "name": "stdin",
     "output_type": "stream",
     "text": [
      "Enter size: 4\n",
      "Enter item: name\n",
      "Enter item: age\n",
      "Enter item: course\n",
      "Enter item: gender\n"
     ]
    },
    {
     "name": "stdout",
     "output_type": "stream",
     "text": [
      "['name', 'age', 'course', 'gender']\n"
     ]
    }
   ],
   "source": [
    "a= []\n",
    "size = int(input(\"Enter size:\"))\n",
    "for i in range(size):\n",
    "    val = input(\"Enter item:\")\n",
    "    a.append(val) \n",
    "print(a) "
   ]
  },
  {
   "cell_type": "code",
   "execution_count": 23,
   "id": "29f8c376",
   "metadata": {},
   "outputs": [
    {
     "name": "stdin",
     "output_type": "stream",
     "text": [
      "Enter size: 4\n",
      "Enter item: 34\n",
      "Enter item: 5\n",
      "Enter item: 33\n",
      "Enter item: 53\n"
     ]
    },
    {
     "name": "stdout",
     "output_type": "stream",
     "text": [
      "[34, 5, 33, 53]\n"
     ]
    }
   ],
   "source": [
    "a= []\n",
    "size = int(input(\"Enter size:\"))\n",
    "for i in range(size):\n",
    "    val = int(input(\"Enter item:\"))\n",
    "    a.append(val) \n",
    "print(a) "
   ]
  },
  {
   "cell_type": "code",
   "execution_count": 24,
   "id": "9b8340d1",
   "metadata": {},
   "outputs": [
    {
     "name": "stdout",
     "output_type": "stream",
     "text": [
      "900\n"
     ]
    }
   ],
   "source": [
    "# Q.1 \n",
    "a = [34,1,78,45,900,3]\n",
    "max = a[0] \n",
    "for i in range(len(a)):\n",
    "    if(a[i]>max):\n",
    "        max = a[i]\n",
    "print(max) "
   ]
  },
  {
   "cell_type": "code",
   "execution_count": 25,
   "id": "89cf771a",
   "metadata": {},
   "outputs": [
    {
     "name": "stdin",
     "output_type": "stream",
     "text": [
      "Enter size: 4\n",
      "Enter item: 4\n",
      "Enter item: 64\n",
      "Enter item: 23\n",
      "Enter item: 56\n"
     ]
    },
    {
     "name": "stdout",
     "output_type": "stream",
     "text": [
      "[4, 64, 23, 56]\n",
      "64\n"
     ]
    }
   ],
   "source": [
    "a= []\n",
    "size = int(input(\"Enter size:\"))\n",
    "for i in range(size):\n",
    "    val = int(input(\"Enter item:\"))\n",
    "    a.append(val) \n",
    "print(a) \n",
    "max = a[0] \n",
    "for i in range(len(a)):\n",
    "    if(a[i]>max):\n",
    "        max = a[i]\n",
    "print(max) "
   ]
  },
  {
   "cell_type": "code",
   "execution_count": null,
   "id": "95c08b42-74e0-4040-9e40-73d884ffd156",
   "metadata": {},
   "outputs": [],
   "source": []
  }
 ],
 "metadata": {
  "kernelspec": {
   "display_name": "Python 3 (ipykernel)",
   "language": "python",
   "name": "python3"
  },
  "language_info": {
   "codemirror_mode": {
    "name": "ipython",
    "version": 3
   },
   "file_extension": ".py",
   "mimetype": "text/x-python",
   "name": "python",
   "nbconvert_exporter": "python",
   "pygments_lexer": "ipython3",
   "version": "3.11.7"
  }
 },
 "nbformat": 4,
 "nbformat_minor": 5
}
