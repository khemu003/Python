{
 "cells": [
  {
   "cell_type": "code",
   "execution_count": 1,
   "id": "3f8ea6b3-0de4-4443-94de-ceb7128279f8",
   "metadata": {},
   "outputs": [
    {
     "name": "stdout",
     "output_type": "stream",
     "text": [
      "****\n",
      "  ****\n",
      "    ****\n",
      "      ****\n"
     ]
    }
   ],
   "source": [
    "for i in range(1,5):\n",
    "    for s in range(1,i):\n",
    "        print(\" \",end=\" \")\n",
    "    for j in range(1,5):\n",
    "        print(\"*\",end=\"\")\n",
    "    print()"
   ]
  },
  {
   "cell_type": "code",
   "execution_count": 2,
   "id": "fa4a9d95-836d-4410-8690-9ab015700703",
   "metadata": {},
   "outputs": [
    {
     "name": "stdout",
     "output_type": "stream",
     "text": [
      "* * * * * * \n",
      "*         * \n",
      "*         * \n",
      "*         * \n",
      "*         * \n",
      "* * * * * * \n"
     ]
    }
   ],
   "source": [
    "for i in range(1,7):\n",
    "    for j in range(1,7):\n",
    "        if i==1 or i==6 or j==1 or j==6:\n",
    "            print(\"*\",end=\" \")\n",
    "        else:\n",
    "            print(\" \",end=\" \")\n",
    "    print()"
   ]
  },
  {
   "cell_type": "code",
   "execution_count": 3,
   "id": "e3b1f2ac-7d78-4bad-97ae-8a48f891e8ae",
   "metadata": {},
   "outputs": [
    {
     "name": "stdout",
     "output_type": "stream",
     "text": [
      "A \n",
      "A B \n",
      "A B C \n",
      "A B C D \n",
      "A B C D E \n"
     ]
    }
   ],
   "source": [
    "for i in range(1, 6):\n",
    "    c = 65\n",
    "    for j in range(1,i+1):\n",
    "        print(chr(c),end=\" \")\n",
    "        c = c+1\n",
    "    print()"
   ]
  },
  {
   "cell_type": "code",
   "execution_count": 4,
   "id": "d72af757-fffd-44b6-beda-4b7d4ebbe275",
   "metadata": {},
   "outputs": [
    {
     "name": "stdout",
     "output_type": "stream",
     "text": [
      "A \n",
      "B C \n",
      "D E F \n",
      "G H I J \n",
      "K L M N O \n"
     ]
    }
   ],
   "source": [
    "c = 65\n",
    "for i in range(1, 6):\n",
    "    for j in range(1,i+1):\n",
    "        print(chr(c),end=\" \")\n",
    "        c = c+1\n",
    "    print()"
   ]
  },
  {
   "cell_type": "code",
   "execution_count": 5,
   "id": "73617399-8f25-4c22-892f-18926096f163",
   "metadata": {},
   "outputs": [
    {
     "name": "stdout",
     "output_type": "stream",
     "text": [
      "A \n",
      "B B \n",
      "C C C \n",
      "D D D D \n",
      "E E E E E \n"
     ]
    }
   ],
   "source": [
    "c = 65\n",
    "for i in range(1, 6):\n",
    "    for j in range(1,i+1):\n",
    "        print(chr(c),end=\" \")\n",
    "    c = c+1\n",
    "    print()"
   ]
  },
  {
   "cell_type": "code",
   "execution_count": 6,
   "id": "020805a1-ccd5-4fcf-b739-e1587e3e9ec3",
   "metadata": {},
   "outputs": [
    {
     "name": "stdout",
     "output_type": "stream",
     "text": [
      "E \n",
      "D E \n",
      "C D E \n",
      "B C D E \n",
      "A B C D E \n"
     ]
    }
   ],
   "source": [
    "for i in range(1,6):\n",
    "    c = 70\n",
    "    for j in range(1,i+1):\n",
    "        print(chr(c-i),end=\" \")\n",
    "        c =c+1\n",
    "    print()"
   ]
  },
  {
   "cell_type": "code",
   "execution_count": 7,
   "id": "38ba56d7-6380-413a-a786-ed6b62b696a6",
   "metadata": {},
   "outputs": [
    {
     "name": "stdout",
     "output_type": "stream",
     "text": [
      "        * \n",
      "      * * \n",
      "    * * * \n",
      "  * * * * \n",
      "* * * * * \n"
     ]
    }
   ],
   "source": [
    "for i in range(1,6):\n",
    "    for s in range(5,i,-1):\n",
    "        print(\" \",end=\" \")\n",
    "    for j in range(1,i+1):\n",
    "        print(\"*\",end=\" \")\n",
    "    print()"
   ]
  },
  {
   "cell_type": "code",
   "execution_count": 8,
   "id": "391dcf68-87f2-479d-97b2-1736e3b31808",
   "metadata": {},
   "outputs": [
    {
     "name": "stdout",
     "output_type": "stream",
     "text": [
      "        1 \n",
      "      1 2 \n",
      "    1 2 3 \n",
      "  1 2 3 4 \n",
      "1 2 3 4 5 \n"
     ]
    }
   ],
   "source": [
    "for i in range(1,6):\n",
    "    for s in range(5,i,-1):\n",
    "        print(\" \",end=\" \")\n",
    "    for j in range(1,i+1):\n",
    "        print(j,end=\" \")\n",
    "    print()"
   ]
  },
  {
   "cell_type": "code",
   "execution_count": 9,
   "id": "cdb3e5f6-eaa3-4bb2-8261-4e32258c263f",
   "metadata": {},
   "outputs": [
    {
     "name": "stdout",
     "output_type": "stream",
     "text": [
      "1 2 3 4 5 \n",
      "  1 2 3 4 \n",
      "    1 2 3 \n",
      "      1 2 \n",
      "        1 \n"
     ]
    }
   ],
   "source": [
    "for i in range(1,6):\n",
    "    for s in range(1,i):\n",
    "        print(\" \",end=\" \")\n",
    "    for j in range(1,7-i):\n",
    "        print(j,end=\" \")\n",
    "    print()"
   ]
  },
  {
   "cell_type": "code",
   "execution_count": 10,
   "id": "9082a4d2-3f64-4d14-93f7-217f58431cb6",
   "metadata": {},
   "outputs": [
    {
     "name": "stdout",
     "output_type": "stream",
     "text": [
      "A B C D E \n",
      "  A B C D \n",
      "    A B C \n",
      "      A B \n",
      "        A \n"
     ]
    }
   ],
   "source": [
    "for i in range(1,6):\n",
    "    c = 65\n",
    "    for s in range(1,i):\n",
    "        print(\" \",end=\" \")\n",
    "    for j in range(1,7-i):\n",
    "        print(chr(c),end=\" \")\n",
    "        c = c+1\n",
    "    print()"
   ]
  },
  {
   "cell_type": "code",
   "execution_count": 11,
   "id": "5de2b096-747e-4572-a352-07fd03375b70",
   "metadata": {},
   "outputs": [
    {
     "name": "stdout",
     "output_type": "stream",
     "text": [
      "        * * * * * \n",
      "      * * * * * \n",
      "    * * * * * \n",
      "  * * * * * \n",
      "* * * * * \n"
     ]
    }
   ],
   "source": [
    "for i in range(1,6):\n",
    "    for s in range(5,i,-1):\n",
    "        print(\" \",end=\" \")\n",
    "    for j in range(1,6):\n",
    "        print(\"*\",end=\" \")\n",
    "    print()"
   ]
  },
  {
   "cell_type": "code",
   "execution_count": 12,
   "id": "e14bbbbf-9578-4a2a-9e1e-1accad4da283",
   "metadata": {},
   "outputs": [
    {
     "name": "stdout",
     "output_type": "stream",
     "text": [
      "        1 2 3 4 5 \n",
      "      1 2 3 4 5 \n",
      "    1 2 3 4 5 \n",
      "  1 2 3 4 5 \n",
      "1 2 3 4 5 \n"
     ]
    }
   ],
   "source": [
    "for i in range(1,6):\n",
    "    for s in range(5,i,-1):\n",
    "        print(\" \",end=\" \")\n",
    "    for j in range(1,6):\n",
    "        print(j,end=\" \")\n",
    "    print()"
   ]
  },
  {
   "cell_type": "code",
   "execution_count": 13,
   "id": "96fc99d8-5fae-4cf9-80d9-6894a178efce",
   "metadata": {},
   "outputs": [
    {
     "name": "stdout",
     "output_type": "stream",
     "text": [
      "        A B C D E \n",
      "      A B C D E \n",
      "    A B C D E \n",
      "  A B C D E \n",
      "A B C D E \n"
     ]
    }
   ],
   "source": [
    "for i in range(1,6):\n",
    "    c =65\n",
    "    for s in range(5,i,-1):\n",
    "        print(\" \",end=\" \")\n",
    "    for j in range(1,6):\n",
    "        print(chr(c),end=\" \")\n",
    "        c = c+1\n",
    "    print()"
   ]
  },
  {
   "cell_type": "code",
   "execution_count": 14,
   "id": "b3501f00-cea7-45e8-81fb-d6a63f3f11b2",
   "metadata": {},
   "outputs": [
    {
     "name": "stdout",
     "output_type": "stream",
     "text": [
      "* \n",
      "* * \n",
      "* * * \n",
      "* * * * \n",
      "* * * \n",
      "* * \n",
      "* \n"
     ]
    }
   ],
   "source": [
    "for i in range(1,5):\n",
    "    for j in range(1,i+1):\n",
    "        print(\"*\",end=\" \")\n",
    "    print()\n",
    "for i in range(1,4):\n",
    "    for j in range(4,i,-1):\n",
    "        print(\"*\",end=\" \")\n",
    "    print()"
   ]
  },
  {
   "cell_type": "code",
   "execution_count": 15,
   "id": "26458260-d81f-48fe-8767-32b89d5840eb",
   "metadata": {},
   "outputs": [
    {
     "name": "stdout",
     "output_type": "stream",
     "text": [
      "      * \n",
      "    * * \n",
      "  * * * \n",
      "* * * * \n",
      "  * * * \n",
      "    * * \n",
      "      * \n"
     ]
    }
   ],
   "source": [
    "for i in range(1,5):\n",
    "    for s in range(4,i,-1):\n",
    "        print(\" \",end=\" \")\n",
    "    for j in range(1,i+1):\n",
    "        print(\"*\",end=\" \")\n",
    "    print()\n",
    "for i in range(1,4):\n",
    "    for s in range(1,i+1):\n",
    "        print(\" \",end=\" \")\n",
    "    for j in range(4,i,-1):\n",
    "        print(\"*\",end=\" \")\n",
    "    print()"
   ]
  },
  {
   "cell_type": "code",
   "execution_count": 16,
   "id": "12d76bef-10be-4452-a018-d6abf6fbb4c0",
   "metadata": {},
   "outputs": [
    {
     "name": "stdout",
     "output_type": "stream",
     "text": [
      "   *\n",
      "  ***\n",
      " *****\n",
      "*******\n",
      " *****\n",
      "  ***\n",
      "   *\n"
     ]
    }
   ],
   "source": [
    "for i in range(1,5):\n",
    "    for s in range(1,5-i):\n",
    "        print(\" \",end=\"\")\n",
    "    for j in range(1,i+i):\n",
    "        print(\"*\",end=\"\")\n",
    "    print()\n",
    "for i in range(1,4):\n",
    "    for s in range(1,i+1):\n",
    "        print(\" \",end=\"\")\n",
    "    for j in range(1,(4-i)*2):\n",
    "        print(\"*\",end=\"\")\n",
    "    print() "
   ]
  },
  {
   "cell_type": "code",
   "execution_count": 17,
   "id": "66a27954-2a12-417b-a148-dceb23709c1e",
   "metadata": {},
   "outputs": [
    {
     "name": "stdout",
     "output_type": "stream",
     "text": [
      "1 \n",
      "1 2 \n",
      "1 2 3 \n",
      "1 2 3 4 \n",
      "1 2 3 4 5 \n"
     ]
    }
   ],
   "source": [
    "for i in range(1,6):\n",
    "    c = 1\n",
    "    for j in range(1,i+1):\n",
    "        print(c,end=\" \")\n",
    "        c = c+1\n",
    "    print()"
   ]
  },
  {
   "cell_type": "code",
   "execution_count": 18,
   "id": "f88745f1-3b97-4dbe-9371-923feda6bb13",
   "metadata": {},
   "outputs": [
    {
     "name": "stdout",
     "output_type": "stream",
     "text": [
      "1 2 3 4 5 \n",
      "1 2 3 4 \n",
      "1 2 3 \n",
      "1 2 \n",
      "1 \n"
     ]
    }
   ],
   "source": [
    "for i in range(6,1,-1):\n",
    "    for j in range(1,i):\n",
    "        print(j,end=\" \")\n",
    "    print()"
   ]
  },
  {
   "cell_type": "code",
   "execution_count": 19,
   "id": "4e69ec05-63e4-403d-90a4-d4820a69eaa0",
   "metadata": {},
   "outputs": [
    {
     "name": "stdout",
     "output_type": "stream",
     "text": [
      "1 2 3 4 5 6 \n",
      "2 3 4 5 6 \n",
      "3 4 5 6 \n",
      "4 5 6 \n",
      "5 6 \n",
      "6 \n"
     ]
    }
   ],
   "source": [
    "for i in range(1,7):\n",
    "    for j in range(1,8-i):\n",
    "        print(i,end=\" \")\n",
    "        i = i+1\n",
    "    print()"
   ]
  },
  {
   "cell_type": "code",
   "execution_count": 20,
   "id": "dea8f7a4-abea-47c5-a859-2b03feb24b8d",
   "metadata": {},
   "outputs": [
    {
     "name": "stdout",
     "output_type": "stream",
     "text": [
      "1 \n",
      "1 2 \n",
      "1   3 \n",
      "1     4 \n",
      "1 2 3 4 5 \n"
     ]
    }
   ],
   "source": [
    "for i in range(1,6):\n",
    "    c = 1\n",
    "    for j in range(1,i+1):\n",
    "        if (j==1 or i==5 or i==j):\n",
    "            print(c,end=\" \")\n",
    "        else:\n",
    "            print(\" \",end=\" \")\n",
    "        c = c+1\n",
    "    print()"
   ]
  },
  {
   "cell_type": "code",
   "execution_count": 21,
   "id": "156bb914-5d30-470e-9f4a-20f7bf9f7374",
   "metadata": {},
   "outputs": [
    {
     "name": "stdout",
     "output_type": "stream",
     "text": [
      "        1 \n",
      "      2 3 2 \n",
      "    3 4 5 4 3 \n",
      "  4 5 6 7 6 5 4 \n",
      "5 6 7 8 9 8 7 6 5 \n"
     ]
    }
   ],
   "source": [
    "for i in range(1,6):\n",
    "    c = i\n",
    "    for s in range(1,6-i):\n",
    "        print(\" \",end=\" \")\n",
    "    for j in range(1,i+i):\n",
    "        if (j<i):\n",
    "            print(c,end=\" \")\n",
    "            c = c+1\n",
    "        else:\n",
    "            print(c,end=\" \")\n",
    "            c = c-1\n",
    "    print()"
   ]
  },
  {
   "cell_type": "code",
   "execution_count": 22,
   "id": "22c99cb1-ee5b-4ec7-a3b6-4e2fe2112c4a",
   "metadata": {},
   "outputs": [
    {
     "name": "stdout",
     "output_type": "stream",
     "text": [
      "    1 \n",
      "   1 2 \n",
      "  1   3 \n",
      " 1     4 \n",
      "1 2 3 4 5 \n"
     ]
    }
   ],
   "source": [
    "for i in range(1,6):\n",
    "    for s in range(1,6-i):\n",
    "        print(\" \",end=\"\")\n",
    "    c = 1\n",
    "    for j in range(1,i+1):\n",
    "        if (j==1 or i==5 or i==j):\n",
    "            print(c,end=\" \")\n",
    "        else:\n",
    "            print(\" \",end=\" \")\n",
    "        c = c+1\n",
    "    print()"
   ]
  },
  {
   "cell_type": "code",
   "execution_count": 23,
   "id": "c595c83c-9f4c-4561-a1c6-bf9f55a966c1",
   "metadata": {},
   "outputs": [
    {
     "name": "stdout",
     "output_type": "stream",
     "text": [
      "1 2 3 4 5 \n",
      "2     5 \n",
      "3   5 \n",
      "4 5 \n",
      "5 \n"
     ]
    }
   ],
   "source": [
    "for i in range(1,6):\n",
    "    c = i\n",
    "    for j in range(1,7-i):\n",
    "        if (j==1 or i==1 or j==(7-i)-1):\n",
    "            print(c,end=\" \")\n",
    "            c = c+1\n",
    "        else:\n",
    "            print(\" \",end=\" \")\n",
    "            c = c+1\n",
    "    print()"
   ]
  },
  {
   "cell_type": "code",
   "execution_count": 24,
   "id": "4023488a-217a-40c3-a1dd-ca4f99ab2477",
   "metadata": {},
   "outputs": [
    {
     "name": "stdout",
     "output_type": "stream",
     "text": [
      "    *\n",
      "   ***\n",
      "  *****\n",
      " *******\n",
      "*********\n",
      " *******\n",
      "  *****\n",
      "   ***\n",
      "    *\n"
     ]
    }
   ],
   "source": [
    "for i in range(1,6):\n",
    "    for s in range(1,6-i):\n",
    "        print(\" \",end=\"\")\n",
    "    for j in range(1,i+i):\n",
    "        print(\"*\",end=\"\")\n",
    "    print()\n",
    "for i in range(1,5):\n",
    "    for s in range(1,i+1):\n",
    "        print(\" \",end=\"\")\n",
    "    for j in range(1,(5-i)*2):\n",
    "        print(\"*\",end=\"\")\n",
    "    print()"
   ]
  },
  {
   "cell_type": "code",
   "execution_count": 25,
   "id": "d5b406f2-b113-444a-acba-37c415180ee8",
   "metadata": {},
   "outputs": [
    {
     "name": "stdout",
     "output_type": "stream",
     "text": [
      "    1\n",
      "   123\n",
      "  12345\n",
      " 1234567\n",
      "123456789\n",
      " 1234567\n",
      "  12345\n",
      "   123\n",
      "    1\n"
     ]
    }
   ],
   "source": [
    "for i in range(1,6):\n",
    "    for s in range(1,6-i):\n",
    "        print(\" \",end=\"\")\n",
    "    for j in range(1,i+i):\n",
    "        print(j,end=\"\")\n",
    "    print()\n",
    "for i in range(1,5):\n",
    "    for s in range(1,i+1):\n",
    "        print(\" \",end=\"\")\n",
    "    for j in range(1,(5-i)*2):\n",
    "        print(j,end=\"\")\n",
    "    print()"
   ]
  },
  {
   "cell_type": "code",
   "execution_count": 26,
   "id": "99fd0298-2f76-4330-a8f6-131899d46aaa",
   "metadata": {},
   "outputs": [
    {
     "name": "stdout",
     "output_type": "stream",
     "text": [
      "123456789\n",
      " 1234567\n",
      "  12345\n",
      "   123\n",
      "    1\n",
      "   123\n",
      "  12345\n",
      " 1234567\n",
      "123456789\n"
     ]
    }
   ],
   "source": [
    "for i in range(1,6):\n",
    "    for s in range(1,i):\n",
    "        print(\" \",end=\"\")\n",
    "    for j in range(1,(6-i)*2):\n",
    "        print(j,end=\"\")\n",
    "    print()\n",
    "for i in range(2,6):\n",
    "    for s in range(1,6-i):\n",
    "        print(\" \",end=\"\")\n",
    "    for j in range(1,i+i):\n",
    "        print(j,end=\"\")\n",
    "    print()"
   ]
  },
  {
   "cell_type": "code",
   "execution_count": 27,
   "id": "62d0ea9a-866d-4af9-86d5-6bbcca8b12af",
   "metadata": {},
   "outputs": [
    {
     "name": "stdout",
     "output_type": "stream",
     "text": [
      "ABCDEFGHI\n",
      " ABCDEFG\n",
      "  ABCDE\n",
      "   ABC\n",
      "    A\n",
      "   ABC\n",
      "  ABCDE\n",
      " ABCDEFG\n",
      "ABCDEFGHI\n"
     ]
    }
   ],
   "source": [
    "for i in range(1,6):\n",
    "    c = 65\n",
    "    for s in range(1,i):\n",
    "        print(\" \",end=\"\")\n",
    "    for j in range(1,(6-i)*2):\n",
    "        print(chr(c),end=\"\")\n",
    "        c = c+1\n",
    "    print()\n",
    "for i in range(1,6):\n",
    "    c = 65\n",
    "    if i==1:\n",
    "        continue\n",
    "    for s in range(1,6-i):\n",
    "        print(\" \",end=\"\")\n",
    "    for j in range(1,i+i):\n",
    "        print(chr(c),end=\"\")\n",
    "        c = c+1\n",
    "    print()"
   ]
  },
  {
   "cell_type": "code",
   "execution_count": 28,
   "id": "72d87515-245f-4522-989b-da43f9fb0371",
   "metadata": {},
   "outputs": [
    {
     "name": "stdout",
     "output_type": "stream",
     "text": [
      "* * * * * \n",
      "*       * \n",
      "*       * \n",
      "*       * \n",
      "* * * * * \n"
     ]
    }
   ],
   "source": [
    "for i in range(1,6):\n",
    "    for j in range(1,6):\n",
    "        if (j==1 or j==5 or i==1 or i==5):\n",
    "            print(\"*\",end=\" \")\n",
    "        else:\n",
    "            print(\" \",end=\" \")\n",
    "    print()"
   ]
  },
  {
   "cell_type": "code",
   "execution_count": 29,
   "id": "b2679c9e-d2fc-4b0a-a842-8205e1638f53",
   "metadata": {},
   "outputs": [
    {
     "name": "stdout",
     "output_type": "stream",
     "text": [
      "1 2 3 4 5 \n",
      "1       5 \n",
      "1       5 \n",
      "1       5 \n",
      "1 2 3 4 5 \n"
     ]
    }
   ],
   "source": [
    "for i in range(1,6):\n",
    "    for j in range(1,6):\n",
    "        if (j==1 or j==5 or i==1 or i==5):\n",
    "            print(j,end=\" \")\n",
    "        else:\n",
    "            print(\" \",end=\" \")\n",
    "    print()"
   ]
  },
  {
   "cell_type": "code",
   "execution_count": 30,
   "id": "03f6172e-3781-43f1-af4f-da8b45a62906",
   "metadata": {},
   "outputs": [
    {
     "name": "stdout",
     "output_type": "stream",
     "text": [
      "A B C D E \n",
      "A       E \n",
      "A       E \n",
      "A       E \n",
      "A B C D E \n"
     ]
    }
   ],
   "source": [
    "for i in range(1,6):\n",
    "    c = 65\n",
    "    for j in range(1,6):\n",
    "        if (j==1 or j==5 or i==1 or i==5):\n",
    "            print(chr(c),end=\" \")\n",
    "        else:\n",
    "            print(\" \",end=\" \")\n",
    "        c = c+1\n",
    "    print()"
   ]
  },
  {
   "cell_type": "code",
   "execution_count": 31,
   "id": "e760991d-2650-4541-93ce-2c4d0dcf1f55",
   "metadata": {},
   "outputs": [
    {
     "name": "stdout",
     "output_type": "stream",
     "text": [
      "    *\n",
      "   * *\n",
      "  *   *\n",
      " *     *\n",
      "*       *\n",
      " *     *\n",
      "  *   *\n",
      "   * *\n",
      "    *\n"
     ]
    }
   ],
   "source": [
    "for i in range(1,6):\n",
    "    for s in range(1,6-i):\n",
    "        print(\" \",end=\"\")\n",
    "    for j in range(1,i+i):\n",
    "        if j==1 or j==i+i-1:\n",
    "            print(\"*\",end=\"\")\n",
    "        else:\n",
    "            print(\" \",end=\"\")\n",
    "    print()\n",
    "for i in range(1,5):\n",
    "    for s in range(1,i+1):\n",
    "        print(\" \",end=\"\")\n",
    "    for j in range(1,(5-i)*2):\n",
    "        if j==1 or j==((5-i)*2)-1:\n",
    "            print(\"*\",end=\"\")\n",
    "        else:\n",
    "            print(\" \",end=\"\")\n",
    "    print()"
   ]
  },
  {
   "cell_type": "code",
   "execution_count": 32,
   "id": "b4dd3ab7-5505-4297-b28b-fe60ffd140a1",
   "metadata": {},
   "outputs": [
    {
     "name": "stdout",
     "output_type": "stream",
     "text": [
      "    A\n",
      "   A C\n",
      "  A   E\n",
      " A     G\n",
      "A       I\n",
      " A     G\n",
      "  A   E\n",
      "   A C\n",
      "    A\n"
     ]
    }
   ],
   "source": [
    "for i in range(1,6):\n",
    "    c = 65\n",
    "    for s in range(1,6-i):\n",
    "        print(\" \",end=\"\")\n",
    "    for j in range(1,i+i):\n",
    "        if j==1 or j==i+i-1:\n",
    "            print(chr(c),end=\"\")\n",
    "            c = c+1\n",
    "        else:\n",
    "            print(\" \",end=\"\")\n",
    "            c = c+1\n",
    "    print()\n",
    "for i in range(1,5):\n",
    "    c = 65\n",
    "    for s in range(1,i+1):\n",
    "        print(\" \",end=\"\")\n",
    "    for j in range(1,(5-i)*2):\n",
    "        if j==1 or j==((5-i)*2)-1:\n",
    "            print(chr(c),end=\"\")\n",
    "            c = c+1\n",
    "        else:\n",
    "            print(\" \",end=\"\")\n",
    "            c = c+1\n",
    "    print()"
   ]
  },
  {
   "cell_type": "code",
   "execution_count": 33,
   "id": "c238213c-f0c8-4a6e-88b1-cb840d2bb8a5",
   "metadata": {},
   "outputs": [
    {
     "name": "stdout",
     "output_type": "stream",
     "text": [
      "     1 \n",
      "    1 1 \n",
      "   1 2 1 \n",
      "  1 3 3 1 \n",
      " 1 4 6 4 1 \n"
     ]
    }
   ],
   "source": [
    "for i in range(0,5):\n",
    "    c = str(11**i)\n",
    "    mylist = []\n",
    "    for k in c:\n",
    "        mylist.append(k)\n",
    "    \n",
    "    for s in range(1,6-i):\n",
    "        print(\" \",end=\"\")\n",
    "    for j in range(0,i+1):\n",
    "        for q in mylist:\n",
    "            print(q,end=\" \")\n",
    "        break\n",
    "    print()"
   ]
  },
  {
   "cell_type": "code",
   "execution_count": 34,
   "id": "2ea28cc9-7277-469e-b7cc-1f9a93a14a84",
   "metadata": {},
   "outputs": [
    {
     "name": "stdout",
     "output_type": "stream",
     "text": [
      "*        *\n",
      "**      **\n",
      "***    ***\n",
      "****  ****\n",
      "**********\n",
      "****  ****\n",
      "***    ***\n",
      "**      **\n",
      "*        *\n"
     ]
    }
   ],
   "source": [
    "for i in range(1,6):\n",
    "    for star1 in range(1,i+1):\n",
    "        print(\"*\",end=\"\")\n",
    "    for space in range(i,5):\n",
    "        print(\" \",end=\" \")\n",
    "    for star2 in range(1,i+1):\n",
    "        print(\"*\",end=\"\")\n",
    "    print()\n",
    "for i in range(1,5):\n",
    "    for star1 in range(1,6-i):\n",
    "        print(\"*\",end=\"\")\n",
    "    for space in range(1,i+1):\n",
    "        print(\" \",end=\" \")\n",
    "    for star2 in range(1,6-i):\n",
    "        print(\"*\",end=\"\")\n",
    "    print()"
   ]
  },
  {
   "cell_type": "code",
   "execution_count": 35,
   "id": "11e0b83e-9555-4744-ad8d-43b86e1936a9",
   "metadata": {},
   "outputs": [
    {
     "name": "stdout",
     "output_type": "stream",
     "text": [
      "**********\n",
      "****  ****\n",
      "***    ***\n",
      "**      **\n",
      "*        *\n",
      "*        *\n",
      "**      **\n",
      "***    ***\n",
      "****  ****\n",
      "**********\n"
     ]
    }
   ],
   "source": [
    "for i in range(1,6):\n",
    "    for star1 in range(1,7-i):\n",
    "        print(\"*\",end=\"\")\n",
    "    for space in range(1,i):\n",
    "        print(\" \",end=\" \")\n",
    "    for star2 in range(1,7-i):\n",
    "        print(\"*\",end=\"\")\n",
    "    print()\n",
    "for i in range(1,6):\n",
    "    for star1 in range(1,i+1):\n",
    "        print(\"*\",end=\"\")\n",
    "    for space in range(i,5):\n",
    "        print(\" \",end=\" \")\n",
    "    for star2 in range(1,i+1):\n",
    "        print(\"*\",end=\"\")\n",
    "    print()"
   ]
  },
  {
   "cell_type": "code",
   "execution_count": null,
   "id": "220773c1-81ce-4dd6-b2c1-72fc33b33f25",
   "metadata": {},
   "outputs": [],
   "source": []
  },
  {
   "cell_type": "code",
   "execution_count": 36,
   "id": "edecccb9-cd05-467a-b47a-a951d9c1f7e7",
   "metadata": {},
   "outputs": [
    {
     "name": "stdout",
     "output_type": "stream",
     "text": [
      "    *\n",
      "   ***\n",
      "  * * *\n",
      " *  *  *\n",
      "*********\n"
     ]
    }
   ],
   "source": [
    "for i in range(1,6):\n",
    "    for s in range(1,6-i):\n",
    "        print(\" \",end=\"\")\n",
    "    for j in range(1,i+i):\n",
    "        if (j==1 or j==i+i-1 or j==i or i==5):\n",
    "            print(\"*\",end=\"\")\n",
    "        else:\n",
    "            print(\" \",end=\"\")\n",
    "    print()"
   ]
  },
  {
   "cell_type": "code",
   "execution_count": null,
   "id": "46e533e7-3080-4865-be2f-29b191124c74",
   "metadata": {},
   "outputs": [],
   "source": []
  },
  {
   "cell_type": "code",
   "execution_count": null,
   "id": "b56c4ca6-5855-42a7-a886-840cd09d05bf",
   "metadata": {},
   "outputs": [],
   "source": []
  },
  {
   "cell_type": "code",
   "execution_count": 37,
   "id": "3632f39d-4ba6-4cd6-85dd-3eb110353a94",
   "metadata": {},
   "outputs": [
    {
     "name": "stdout",
     "output_type": "stream",
     "text": [
      "    * \n",
      "   * * \n",
      "  * * * \n",
      " * * * * \n",
      "* * * * * \n"
     ]
    }
   ],
   "source": [
    "for i in range(1,6):\n",
    "    for s in range(1,6-i):\n",
    "        print(\" \",end=\"\")\n",
    "    for j in range(1,i+1):\n",
    "        print(\"*\",end=\" \")\n",
    "    print()"
   ]
  },
  {
   "cell_type": "code",
   "execution_count": 38,
   "id": "c2028168-9bce-4ae1-a4ad-126c5b30cd22",
   "metadata": {},
   "outputs": [
    {
     "name": "stdout",
     "output_type": "stream",
     "text": [
      "    * \n",
      "   * * \n",
      "  *   * \n",
      " *     * \n",
      "* * * * * \n"
     ]
    }
   ],
   "source": [
    "for i in range(1,6):\n",
    "    for s in range(1,6-i):\n",
    "        print(\" \",end=\"\")\n",
    "    for j in range(1,i+1):\n",
    "        if (j==1 or j==i or i==5):\n",
    "            print(\"*\",end=\" \")\n",
    "        else:\n",
    "            print(\" \",end=\" \")\n",
    "    print()"
   ]
  },
  {
   "cell_type": "code",
   "execution_count": 39,
   "id": "dfcd0ef8-7cdd-463b-8144-5f23ff4c1768",
   "metadata": {},
   "outputs": [
    {
     "name": "stdout",
     "output_type": "stream",
     "text": [
      "    *\n",
      "   ***\n",
      "  *****\n",
      " *******\n",
      "*********\n"
     ]
    }
   ],
   "source": [
    "for i in range(1,6):\n",
    "    for s in range(1,6-i):\n",
    "        print(\" \",end=\"\")\n",
    "    for j in range(1,i+i):\n",
    "        print(\"*\",end=\"\")\n",
    "    print()\n",
    "    "
   ]
  },
  {
   "cell_type": "code",
   "execution_count": 40,
   "id": "bad9e9d9-b1ca-44f7-904f-a37168573987",
   "metadata": {},
   "outputs": [
    {
     "name": "stdout",
     "output_type": "stream",
     "text": [
      "    *\n",
      "   * *\n",
      "  *   *\n",
      " *     *\n",
      "*********\n"
     ]
    }
   ],
   "source": [
    "for i in range(1,6):\n",
    "    for s in range(1,6-i):\n",
    "        print(\" \",end=\"\")\n",
    "    for j in range(1,i+i):\n",
    "        if j==1 or i==5 or j==i+i-1:\n",
    "            print(\"*\",end=\"\")\n",
    "        else:\n",
    "            print(\" \",end=\"\")\n",
    "    print()\n",
    "    "
   ]
  },
  {
   "cell_type": "code",
   "execution_count": 41,
   "id": "e0dae406-45fb-4b26-a296-4212629c0924",
   "metadata": {},
   "outputs": [
    {
     "name": "stdout",
     "output_type": "stream",
     "text": [
      "* * * * * * * * * \n",
      "  * * * * * * * \n",
      "    * * * * * \n",
      "      * * * \n",
      "        * \n"
     ]
    }
   ],
   "source": [
    "for i in range(1,6):\n",
    "    for s in range(1,i):\n",
    "        print(\" \",end=\" \")\n",
    "    for j in range(1,(6-i)*2):\n",
    "        print(\"*\",end=\" \")\n",
    "    print()"
   ]
  },
  {
   "cell_type": "code",
   "execution_count": 42,
   "id": "e2b54e4c-dfae-4b3b-b2bb-0b5d12e442ea",
   "metadata": {},
   "outputs": [
    {
     "name": "stdout",
     "output_type": "stream",
     "text": [
      "* * * * * * * * * \n",
      "  *           * \n",
      "    *       * \n",
      "      *   * \n",
      "        * \n"
     ]
    }
   ],
   "source": [
    "for i in range(1,6):\n",
    "    for s in range(1,i):\n",
    "        print(\" \",end=\" \")\n",
    "    for j in range(1,(6-i)*2):\n",
    "        if (i==1 or j==1 or j==(6-i)*2-1):\n",
    "            print(\"*\",end=\" \")\n",
    "        else:\n",
    "            print(\" \",end=\" \")\n",
    "    print()"
   ]
  },
  {
   "cell_type": "code",
   "execution_count": null,
   "id": "71458a38-255a-4c78-8464-57f3bc0a558b",
   "metadata": {},
   "outputs": [],
   "source": []
  }
 ],
 "metadata": {
  "kernelspec": {
   "display_name": "Python 3 (ipykernel)",
   "language": "python",
   "name": "python3"
  },
  "language_info": {
   "codemirror_mode": {
    "name": "ipython",
    "version": 3
   },
   "file_extension": ".py",
   "mimetype": "text/x-python",
   "name": "python",
   "nbconvert_exporter": "python",
   "pygments_lexer": "ipython3",
   "version": "3.11.7"
  }
 },
 "nbformat": 4,
 "nbformat_minor": 5
}
