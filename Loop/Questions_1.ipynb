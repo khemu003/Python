{
 "cells": [
  {
   "cell_type": "code",
   "execution_count": 2,
   "id": "09914c45-eb3d-4f81-aedf-16792c7b57ee",
   "metadata": {},
   "outputs": [
    {
     "name": "stdin",
     "output_type": "stream",
     "text": [
      "Enter the number :  54\n"
     ]
    },
    {
     "name": "stdout",
     "output_type": "stream",
     "text": [
      "1\n",
      "2\n",
      "3\n",
      "6\n",
      "9\n",
      "18\n",
      "27\n",
      "54\n"
     ]
    }
   ],
   "source": [
    "# 1. Print all factors of a given number provided by the user.\n",
    "\n",
    "number = int(input(\"Enter the number : \"))\n",
    "\n",
    "for i in range(1,number+1):\n",
    "    if number%i==0:\n",
    "        print(i)"
   ]
  },
  {
   "cell_type": "code",
   "execution_count": 1,
   "id": "d77dcb02-8e62-41b3-8c5b-016c02afc18f",
   "metadata": {},
   "outputs": [
    {
     "name": "stdout",
     "output_type": "stream",
     "text": [
      "153\n",
      "370\n",
      "371\n",
      "407\n",
      "1634\n",
      "8208\n",
      "9474\n"
     ]
    }
   ],
   "source": [
    "# 2. Print all the armstrong numbers in the range of 100 to 10000 [M]\n",
    "\n",
    "for num in range(100, 10001):\n",
    "    temp = num\n",
    "    length = len(str(num))\n",
    "    sum = 0\n",
    "    while (num>0):\n",
    "        rem = num%10\n",
    "        sum = sum + rem**length\n",
    "        num = num//10\n",
    "    if temp==sum:\n",
    "        print(sum)"
   ]
  },
  {
   "cell_type": "code",
   "execution_count": 3,
   "id": "93069c31-51fb-46cb-87fe-402b80078b50",
   "metadata": {},
   "outputs": [
    {
     "name": "stdout",
     "output_type": "stream",
     "text": [
      "10 th year ==>  10000\n",
      "9 th year ==>  9000\n",
      "8 th year ==>  8100\n",
      "7 th year ==>  7290\n",
      "6 th year ==>  6561\n",
      "5 th year ==>  5904\n",
      "4 th year ==>  5314\n",
      "3 th year ==>  4782\n",
      "2 th year ==>  4304\n",
      "1 th year ==>  3874\n"
     ]
    }
   ],
   "source": [
    "# 3. The current population of a town is 10000. The population of the town is increasing at\n",
    "# the rate of 10% per year. You have to write a program to find out the population at the\n",
    "# end of each of the last 10 years. For eg current population is 10000 so the output\n",
    "# should be like this:\n",
    "# a. 10th year => 10000\n",
    "# b. 09th year => 9000\n",
    "# c. 08th year => 8100 and so on\n",
    "\n",
    "current_population = 10000\n",
    "for i in range(10,0,-1):\n",
    "    print(i,\"th year ==> \",int(current_population))\n",
    "    current_population = current_population - (current_population*0.10)"
   ]
  },
  {
   "cell_type": "code",
   "execution_count": 22,
   "id": "fa12c931-408a-4778-a3a4-2f72c07c411f",
   "metadata": {},
   "outputs": [
    {
     "name": "stdin",
     "output_type": "stream",
     "text": [
      "Enter the number :  7\n"
     ]
    },
    {
     "name": "stdout",
     "output_type": "stream",
     "text": [
      "number is prime.\n"
     ]
    }
   ],
   "source": [
    "# 4. Write a program to print whether a given number is prime number or not\n",
    "\n",
    "number = int(input(\"Enter the number : \"))\n",
    "\n",
    "flag = False\n",
    "\n",
    "for i in range(2,number):\n",
    "    if number%i==0:\n",
    "        flag = True\n",
    "        break\n",
    "\n",
    "if flag:\n",
    "    print(\"number is not prime.\")\n",
    "else:\n",
    "    print(\"number is prime.\")"
   ]
  },
  {
   "cell_type": "code",
   "execution_count": 6,
   "id": "c78b676e-2755-47d9-a188-416e001c9231",
   "metadata": {},
   "outputs": [
    {
     "name": "stdin",
     "output_type": "stream",
     "text": [
      "Enter the first number :  24\n",
      "Enter the second number :  36\n"
     ]
    },
    {
     "name": "stdout",
     "output_type": "stream",
     "text": [
      "lcm =  72\n"
     ]
    }
   ],
   "source": [
    "# 5. User will provide 2 numbers you have to find the by LCM of those 2 numbers\n",
    "\n",
    "num1 = int(input(\"Enter the first number : \"))\n",
    "num2 = int(input(\"Enter the second number : \"))\n",
    "\n",
    "i = 2\n",
    "while True:\n",
    "    if i%num1==0 and i%num2==0:\n",
    "        lcm = i\n",
    "        break\n",
    "    i = i+1\n",
    "    \n",
    "print(\"lcm = \",lcm)"
   ]
  },
  {
   "cell_type": "code",
   "execution_count": 10,
   "id": "1fce0c15-5cdc-404d-9c7c-1efc68df3d8c",
   "metadata": {},
   "outputs": [
    {
     "name": "stdin",
     "output_type": "stream",
     "text": [
      "Enter the first number :  60\n",
      "Enter the second number :  75\n"
     ]
    },
    {
     "name": "stdout",
     "output_type": "stream",
     "text": [
      "15\n"
     ]
    }
   ],
   "source": [
    "# 6. User will provide 2 numbers you have to find the HCF of those 2 numbers\n",
    "\n",
    "num1 = int(input(\"Enter the first number : \"))\n",
    "num2 = int(input(\"Enter the second number : \"))\n",
    "\n",
    "smallest = min(num1,num2)\n",
    "for i in range(1,smallest+1):\n",
    "    if num1%i==0 and num2%i==0:\n",
    "        hcf = i\n",
    "    i = i+1\n",
    "print(hcf)"
   ]
  },
  {
   "cell_type": "code",
   "execution_count": 3,
   "id": "02ee4b55-62b1-40c7-9a82-339ef27da909",
   "metadata": {},
   "outputs": [
    {
     "name": "stdin",
     "output_type": "stream",
     "text": [
      "Enter the value of n :  10\n"
     ]
    },
    {
     "name": "stdout",
     "output_type": "stream",
     "text": [
      "sum :  55\n"
     ]
    }
   ],
   "source": [
    "# 7. Write a program to find the sum of first n numbers, where n will be provided by the user. Eg if the user provides n=10 the output should be 55\n",
    "\n",
    "n = int(input(\"Enter the value of n : \"))\n",
    "\n",
    "sum = 0\n",
    "\n",
    "i = 1\n",
    "while i<=n:\n",
    "    sum = sum+i\n",
    "    i = i+1\n",
    "print(\"sum : \",sum)"
   ]
  },
  {
   "cell_type": "code",
   "execution_count": 16,
   "id": "8d24cdd6-7798-4951-9866-b88aff611ddb",
   "metadata": {},
   "outputs": [
    {
     "name": "stdin",
     "output_type": "stream",
     "text": [
      "Enter the first number :  4\n",
      "Enter the second number :  5\n"
     ]
    },
    {
     "name": "stdout",
     "output_type": "stream",
     "text": [
      "20\n"
     ]
    }
   ],
   "source": [
    "# 8. Write a program that can multiply 2 numbers provided by the user without using the ( * multiply) operator\n",
    "\n",
    "num1 = int(input(\"Enter the first number : \"))\n",
    "num2 = int(input(\"Enter the second number : \"))\n",
    "\n",
    "multi = 0\n",
    "\n",
    "for num in range(num2):\n",
    "    multi = multi+num1\n",
    "print(multi)"
   ]
  },
  {
   "cell_type": "code",
   "execution_count": 17,
   "id": "0367bcfa-5755-489d-b8ab-38ec4bccb249",
   "metadata": {},
   "outputs": [
    {
     "name": "stdin",
     "output_type": "stream",
     "text": [
      "Enter the number :  5\n"
     ]
    },
    {
     "name": "stdout",
     "output_type": "stream",
     "text": [
      "120\n"
     ]
    }
   ],
   "source": [
    "# 9. Write a program that can find the factorial of a given number provided by the user.\n",
    "\n",
    "number = int(input(\"Enter the number : \"))\n",
    "\n",
    "fact = 1\n",
    "\n",
    "i = 1\n",
    "while i<=number:\n",
    "    fact = fact*i\n",
    "    i = i+1\n",
    "print(fact)"
   ]
  },
  {
   "cell_type": "code",
   "execution_count": 2,
   "id": "9609d507-25cd-4483-baab-80a72f78c5da",
   "metadata": {},
   "outputs": [
    {
     "name": "stdin",
     "output_type": "stream",
     "text": [
      "Enter the number :  75869\n"
     ]
    },
    {
     "name": "stdout",
     "output_type": "stream",
     "text": [
      "5\n"
     ]
    }
   ],
   "source": [
    "# 10. Write a program to count the total number of digits in a number using a while loop.\n",
    "# a. For example, the number is 75869, so the output should be 5.\n",
    "\n",
    "number = int(input(\"Enter the number : \"))\n",
    "\n",
    "count = 0\n",
    "\n",
    "i = 1\n",
    "while number>0:\n",
    "    count = count+1\n",
    "    number = number//10\n",
    "    \n",
    "print(count)"
   ]
  },
  {
   "cell_type": "code",
   "execution_count": 3,
   "id": "3d820944-17d4-4835-9681-3746c1868d4f",
   "metadata": {},
   "outputs": [
    {
     "name": "stdin",
     "output_type": "stream",
     "text": [
      "Enter the number :  4\n",
      "Enter the number :  5\n",
      "Enter the number :  7\n",
      "Enter the number :  6\n",
      "Enter the number :  4\n",
      "Enter the number :  0\n"
     ]
    },
    {
     "name": "stdout",
     "output_type": "stream",
     "text": [
      "Sum :  26\n",
      "Average :  5.2\n"
     ]
    }
   ],
   "source": [
    "# 11. Write a program that keeps on accepting a number from the user until the user enters Zero. Display the sum and average of all the numbers\n",
    "sum = 0\n",
    "count = 0\n",
    "while True:\n",
    "    number = int(input(\"Enter the number : \"))\n",
    "    if number==0:\n",
    "        break\n",
    "    else:\n",
    "        sum = sum+number\n",
    "        count = count+1\n",
    "average = sum/count\n",
    "\n",
    "print(\"Sum : \",sum)\n",
    "print(\"Average : \",average)"
   ]
  },
  {
   "cell_type": "code",
   "execution_count": 4,
   "id": "189054a1-13e4-4fb5-a759-9ad533e48315",
   "metadata": {},
   "outputs": [
    {
     "name": "stdin",
     "output_type": "stream",
     "text": [
      "Enter the number :  3\n"
     ]
    },
    {
     "name": "stdout",
     "output_type": "stream",
     "text": [
      "3\n",
      "6\n",
      "9\n",
      "12\n",
      "15\n",
      "18\n",
      "21\n",
      "24\n",
      "27\n",
      "30\n"
     ]
    }
   ],
   "source": [
    "# 12. Write a program to print multiplication table of a given number For example, num = 2 so the output should be 2,4,6,8....20.\n",
    "\n",
    "number = int(input(\"Enter the number : \"))\n",
    "\n",
    "i =1\n",
    "while i<=10:\n",
    "    print(number*i)\n",
    "    i = i+1"
   ]
  },
  {
   "cell_type": "code",
   "execution_count": 5,
   "id": "264779ce-d0c3-410b-a40b-dd61e3fc3060",
   "metadata": {},
   "outputs": [
    {
     "name": "stdout",
     "output_type": "stream",
     "text": [
      "1\n",
      "2\n",
      "3\n",
      "4\n",
      "5\n",
      "Done\n"
     ]
    }
   ],
   "source": [
    "# 13. Use else block to display a message “Done” after successful execution of for loop\n",
    "# For example, the following loop will execute without any error.\n",
    "\n",
    "for i in range(1,6):\n",
    "    print(i)\n",
    "else:\n",
    "    print(\"Done\")"
   ]
  },
  {
   "cell_type": "code",
   "execution_count": 9,
   "id": "dc297ad3-f5c3-4d0b-9062-f119627e3b58",
   "metadata": {},
   "outputs": [
    {
     "name": "stdin",
     "output_type": "stream",
     "text": [
      "Enter the value of n :  10\n"
     ]
    },
    {
     "name": "stdout",
     "output_type": "stream",
     "text": [
      "0\n",
      "1\n",
      "1\n",
      "2\n",
      "3\n",
      "5\n",
      "8\n",
      "13\n",
      "21\n",
      "34\n"
     ]
    }
   ],
   "source": [
    "# 14. Display Fibonacci series up to 10 terms\n",
    "# a. The Fibonacci Sequence is a series of numbers. The next number is found by\n",
    "#    adding up the two numbers before it. The first two numbers are 0 and 1.\n",
    "# b. For example, 0, 1, 1, 2, 3, 5, 8, 13, 21. The next number in this series above is 13+21 = 34.\n",
    "\n",
    "n = int(input(\"Enter the value of n : \"))\n",
    "\n",
    "n1 = 0\n",
    "n2 = 1\n",
    "print(n1)\n",
    "print(n2)\n",
    "i = 3\n",
    "while i<=n:\n",
    "    next = n1+n2\n",
    "    n1 = n2\n",
    "    n2 = next\n",
    "    print(next)\n",
    "    i = i+1"
   ]
  },
  {
   "cell_type": "code",
   "execution_count": 11,
   "id": "24cbd1b8-f7e4-4fa3-b62d-9ab9700a7168",
   "metadata": {},
   "outputs": [
    {
     "name": "stdout",
     "output_type": "stream",
     "text": [
      "(1, 2)\n",
      "(1, 3)\n",
      "(1, 4)\n",
      "(2, 3)\n",
      "(2, 4)\n",
      "(3, 4)\n"
     ]
    }
   ],
   "source": [
    "# 15. Write a program to print all the unique combinations of two digits from 1 to 4 for ex (1,2),(2,3)..... [Medium level]\n",
    "\n",
    "num1 = 1\n",
    "num2 = 4\n",
    "\n",
    "for i in range(num1,num2+1):\n",
    "    for j in range(i+1,num2+1):\n",
    "        print((i,j))"
   ]
  },
  {
   "cell_type": "code",
   "execution_count": 1,
   "id": "009fca0a-9131-46c6-84a8-e5cd60518155",
   "metadata": {},
   "outputs": [
    {
     "name": "stdin",
     "output_type": "stream",
     "text": [
      "Enter a number 10\n"
     ]
    },
    {
     "name": "stdout",
     "output_type": "stream",
     "text": [
      "1\n",
      "2\n",
      "3\n",
      "4\n",
      "5\n",
      "6\n",
      "7\n",
      "8\n",
      "9\n",
      "10\n"
     ]
    }
   ],
   "source": [
    "# 16. Write a program to print all natural numbers from 1 to n. – using while loop\n",
    "\n",
    "n = int(input(\"Enter a number\"))\n",
    "i = 1\n",
    "while(i<=n):\n",
    "    print(i)\n",
    "    i = i + 1"
   ]
  },
  {
   "cell_type": "code",
   "execution_count": 2,
   "id": "d2d2d9cb-50c1-451f-9f42-8b2a797bd220",
   "metadata": {},
   "outputs": [
    {
     "name": "stdin",
     "output_type": "stream",
     "text": [
      "Enter a number 10\n"
     ]
    },
    {
     "name": "stdout",
     "output_type": "stream",
     "text": [
      "10\n",
      "9\n",
      "8\n",
      "7\n",
      "6\n",
      "5\n",
      "4\n",
      "3\n",
      "2\n",
      "1\n"
     ]
    }
   ],
   "source": [
    "# 17. Write a program to print all natural numbers in reverse (from n to 1). – using while loop\n",
    "\n",
    "n = int(input(\"Enter a number\"))\n",
    "i = n\n",
    "while(i>=1):\n",
    "    print(i)\n",
    "    i = i - 1"
   ]
  },
  {
   "cell_type": "code",
   "execution_count": 3,
   "id": "e9079aaa-eae0-4ce3-96b6-4770fbe35bd0",
   "metadata": {},
   "outputs": [
    {
     "name": "stdout",
     "output_type": "stream",
     "text": [
      "a\n",
      "b\n",
      "c\n",
      "d\n",
      "e\n",
      "f\n",
      "g\n",
      "h\n",
      "i\n",
      "j\n",
      "k\n",
      "l\n",
      "m\n",
      "n\n",
      "o\n",
      "p\n",
      "q\n",
      "r\n",
      "s\n",
      "t\n",
      "u\n",
      "v\n",
      "w\n",
      "x\n",
      "y\n",
      "z\n"
     ]
    }
   ],
   "source": [
    "# 18. Write a program to print all alphabets from a to z. – using while loop\n",
    "\n",
    "i = ord(\"a\")\n",
    "while(i<=ord(\"z\")):\n",
    "    print(chr(i))\n",
    "    i = i+ 1"
   ]
  },
  {
   "cell_type": "code",
   "execution_count": 4,
   "id": "0a60fa86-24db-41a0-8b32-2127b8e3a694",
   "metadata": {},
   "outputs": [
    {
     "name": "stdout",
     "output_type": "stream",
     "text": [
      "2\n",
      "4\n",
      "6\n",
      "8\n",
      "10\n",
      "12\n",
      "14\n",
      "16\n",
      "18\n",
      "20\n",
      "22\n",
      "24\n",
      "26\n",
      "28\n",
      "30\n",
      "32\n",
      "34\n",
      "36\n",
      "38\n",
      "40\n",
      "42\n",
      "44\n",
      "46\n",
      "48\n",
      "50\n",
      "52\n",
      "54\n",
      "56\n",
      "58\n",
      "60\n",
      "62\n",
      "64\n",
      "66\n",
      "68\n",
      "70\n",
      "72\n",
      "74\n",
      "76\n",
      "78\n",
      "80\n",
      "82\n",
      "84\n",
      "86\n",
      "88\n",
      "90\n",
      "92\n",
      "94\n",
      "96\n",
      "98\n",
      "100\n"
     ]
    }
   ],
   "source": [
    "# 19. Write a program to print all even numbers between 1 to 100. – using while loop\n",
    "\n",
    "i =1\n",
    "while(i<=100):\n",
    "    if i%2==0:\n",
    "        print(i)\n",
    "    i = i+1"
   ]
  },
  {
   "cell_type": "code",
   "execution_count": 5,
   "id": "fecc3bd2-38f0-4e88-8379-6c51a655abbc",
   "metadata": {},
   "outputs": [
    {
     "name": "stdin",
     "output_type": "stream",
     "text": [
      "Enter a number :  20\n"
     ]
    },
    {
     "name": "stdout",
     "output_type": "stream",
     "text": [
      "Total of all odd numbers is : 100\n"
     ]
    }
   ],
   "source": [
    "# 20. Write a program to find the sum of all odd numbers between 1 to n.\n",
    "\n",
    "n = int(input(\"Enter a number : \"))\n",
    "sum = 0\n",
    "i =1\n",
    "while(i<=n):\n",
    "    if i%2!=0:\n",
    "        sum = sum+i\n",
    "    i = i+1\n",
    "print(\"Total of all odd numbers is :\",sum)"
   ]
  },
  {
   "cell_type": "code",
   "execution_count": 7,
   "id": "af36637b-4969-439e-9684-77a5b93576ed",
   "metadata": {},
   "outputs": [
    {
     "name": "stdin",
     "output_type": "stream",
     "text": [
      "Enter a number :  4257\n"
     ]
    },
    {
     "name": "stdout",
     "output_type": "stream",
     "text": [
      "18\n"
     ]
    }
   ],
   "source": [
    "# 21. Write a program to calculate the sum of digits of a number.\n",
    "\n",
    "num = int(input(\"Enter a number : \"))\n",
    "sum = 0\n",
    "while(num>0):\n",
    "    rem = num%10\n",
    "    sum = sum + rem\n",
    "    num = num//10\n",
    "print(sum)"
   ]
  },
  {
   "cell_type": "code",
   "execution_count": 8,
   "id": "9f71856e-461a-41b7-bad5-75e270b81acf",
   "metadata": {},
   "outputs": [
    {
     "name": "stdin",
     "output_type": "stream",
     "text": [
      "Enter a number :  2437\n"
     ]
    },
    {
     "name": "stdout",
     "output_type": "stream",
     "text": [
      "2\n",
      "7\n"
     ]
    }
   ],
   "source": [
    "# 22. Write a program to find the first and last digit of a number.\n",
    "\n",
    "num = int(input(\"Enter a number : \"))\n",
    "temp = num\n",
    "\n",
    "while(num>0):\n",
    "    rem = num%10\n",
    "    first = rem\n",
    "    num = num//10\n",
    "second = temp%10\n",
    "\n",
    "print(first)\n",
    "print(second)"
   ]
  },
  {
   "cell_type": "code",
   "execution_count": 9,
   "id": "b5cd5837-d05b-4125-ab7a-2795ac3fd957",
   "metadata": {},
   "outputs": [
    {
     "name": "stdin",
     "output_type": "stream",
     "text": [
      "Enter a number :  7524\n"
     ]
    },
    {
     "name": "stdout",
     "output_type": "stream",
     "text": [
      "11\n"
     ]
    }
   ],
   "source": [
    "# 23. Write a program to find the sum of first and last digit of a number.\n",
    "\n",
    "num = int(input(\"Enter a number : \"))\n",
    "temp = num\n",
    "\n",
    "while(num>0):\n",
    "    rem = num%10\n",
    "    first = rem\n",
    "    num = num//10\n",
    "second = temp%10\n",
    "\n",
    "total = first+second\n",
    "print(total)"
   ]
  },
  {
   "cell_type": "code",
   "execution_count": 10,
   "id": "602f7c07-cdf4-4632-a159-7f7bfb077b2d",
   "metadata": {},
   "outputs": [
    {
     "name": "stdin",
     "output_type": "stream",
     "text": [
      "Enter a number :  7653\n"
     ]
    },
    {
     "name": "stdout",
     "output_type": "stream",
     "text": [
      "3567\n"
     ]
    }
   ],
   "source": [
    "# 24.Write a program to enter a number and print its reverse.\n",
    "\n",
    "num = int(input(\"Enter a number : \"))\n",
    "sum = 0\n",
    "while(num>0):\n",
    "    rem = num%10\n",
    "    sum = rem + sum*10\n",
    "    num = num//10\n",
    "print(sum)"
   ]
  },
  {
   "cell_type": "code",
   "execution_count": 11,
   "id": "6f96bd73-aee9-4c5d-8d57-c5877993e9a2",
   "metadata": {},
   "outputs": [
    {
     "name": "stdin",
     "output_type": "stream",
     "text": [
      "Enter a number :  2\n",
      "Enter the power :  4\n"
     ]
    },
    {
     "name": "stdout",
     "output_type": "stream",
     "text": [
      "16\n"
     ]
    }
   ],
   "source": [
    "# 25.Write a program to find the power of a number using for loop.\n",
    "\n",
    "num = int(input(\"Enter a number : \"))\n",
    "power = int(input(\"Enter the power : \"))\n",
    "\n",
    "p = 1\n",
    "\n",
    "i = 1\n",
    "while(i<=power):\n",
    "    p = p*num\n",
    "    i = i+1\n",
    "print(p)"
   ]
  },
  {
   "cell_type": "code",
   "execution_count": 13,
   "id": "1ac84716-196f-49e9-87af-246b53f3eb98",
   "metadata": {},
   "outputs": [
    {
     "name": "stdin",
     "output_type": "stream",
     "text": [
      "Enter a number :  5\n"
     ]
    },
    {
     "name": "stdout",
     "output_type": "stream",
     "text": [
      "120\n"
     ]
    }
   ],
   "source": [
    "# 26.Write a program to calculate the factorial of a number.\n",
    "\n",
    "num = int(input(\"Enter a number : \"))\n",
    "\n",
    "fact = 1\n",
    "for i in range(1,num+1):\n",
    "    fact = fact*i\n",
    "print(fact)"
   ]
  },
  {
   "cell_type": "code",
   "execution_count": 13,
   "id": "51f6fa43-bbfc-48d0-b0e0-bd6ac8686020",
   "metadata": {},
   "outputs": [
    {
     "name": "stdin",
     "output_type": "stream",
     "text": [
      "Enter the number :  30\n"
     ]
    },
    {
     "name": "stdout",
     "output_type": "stream",
     "text": [
      "2\n",
      "3\n",
      "5\n",
      "7\n",
      "11\n",
      "13\n",
      "17\n",
      "19\n",
      "23\n",
      "29\n"
     ]
    }
   ],
   "source": [
    "# 27.Write a program to print all Prime numbers between 1 to n.\n",
    "\n",
    "n = int(input(\"Enter the number : \"))\n",
    "\n",
    "for num in range(1, n+1):\n",
    "    if num>1:\n",
    "        for i in range(2, num):\n",
    "            if num%i==0:\n",
    "                break\n",
    "        else:\n",
    "            print(num)"
   ]
  },
  {
   "cell_type": "code",
   "execution_count": 17,
   "id": "83839d13-e812-43d0-9bde-8d9fd7b59a78",
   "metadata": {},
   "outputs": [
    {
     "name": "stdin",
     "output_type": "stream",
     "text": [
      "Enter a number :  46\n"
     ]
    },
    {
     "name": "stdout",
     "output_type": "stream",
     "text": [
      "2\n",
      "23\n"
     ]
    }
   ],
   "source": [
    "# 28.Write a program to find all prime factors of a number.\n",
    "\n",
    "num = int(input(\"Enter a number : \"))\n",
    "\n",
    "for i in range(2, num):\n",
    "    if num%i==0:\n",
    "        for j in range(2, i):\n",
    "            if i%j==0:\n",
    "                break\n",
    "        else:\n",
    "            print(i)\n"
   ]
  },
  {
   "cell_type": "code",
   "execution_count": 18,
   "id": "2b2b214e-14d9-493c-b9a1-97b055a147d4",
   "metadata": {},
   "outputs": [
    {
     "name": "stdin",
     "output_type": "stream",
     "text": [
      "Enter a number :  1634\n"
     ]
    },
    {
     "name": "stdout",
     "output_type": "stream",
     "text": [
      "number is armstrong.\n"
     ]
    }
   ],
   "source": [
    "# 29.Write a program to check whether a number is an Armstrong number or not.\n",
    "# a. An Armstrong number is a n-digit number that is equal to the sum of the nth power of its digits. For example –\n",
    "# 6 = 61 = 6\n",
    "# 371 = 27 + 343 + 1 = 371\n",
    "\n",
    "num = int(input(\"Enter a number : \"))\n",
    "length = len(str(num))\n",
    "\n",
    "temp = num\n",
    "\n",
    "sum = 0\n",
    "while(num>0):\n",
    "    rem = num%10\n",
    "    sum = sum + rem**length\n",
    "    num = num//10\n",
    "\n",
    "if temp==sum:\n",
    "    print(\"number is armstrong.\")\n",
    "else:\n",
    "    print(\"number is not armstrong.\")"
   ]
  },
  {
   "cell_type": "code",
   "execution_count": 19,
   "id": "438ea286-9d08-4398-9e0d-3e73a703b930",
   "metadata": {},
   "outputs": [
    {
     "name": "stdin",
     "output_type": "stream",
     "text": [
      "Enter a number :  145\n"
     ]
    },
    {
     "name": "stdout",
     "output_type": "stream",
     "text": [
      "number is strong.\n"
     ]
    }
   ],
   "source": [
    "# 30.Write a program to check whether a number is Strong number or not\n",
    "# a. Strong number is a special number whose sum of factorial digits is equal to the original number.\n",
    "# For example: 145 is a strong number. Since, 1! + 4! + 5! = 145\n",
    "\n",
    "def fact(num):\n",
    "    fact = 1\n",
    "    for i in range(1, num+1):\n",
    "        fact = fact * i\n",
    "    return fact\n",
    "\n",
    "num = int(input(\"Enter a number : \"))\n",
    "temp = num\n",
    "\n",
    "sum = 0\n",
    "while(num>0):\n",
    "    rem = num%10\n",
    "    sum = sum + fact(rem)\n",
    "    num = num//10\n",
    "if temp==sum:\n",
    "    print(\"number is strong.\")\n",
    "else:\n",
    "    print(\"number is not strong.\")"
   ]
  },
  {
   "cell_type": "code",
   "execution_count": 20,
   "id": "5fc9f4fe-356c-4dbd-8f43-647df3f8ff64",
   "metadata": {},
   "outputs": [
    {
     "name": "stdin",
     "output_type": "stream",
     "text": [
      "Enter a number :  6\n"
     ]
    },
    {
     "name": "stdout",
     "output_type": "stream",
     "text": [
      "number is perfect.\n"
     ]
    }
   ],
   "source": [
    "# 31.Write a program to check whether a number is perfect number or not\n",
    "# a. Perfect number is a positive integer which is equal to the sum of its proper positive divisors.\n",
    "# For example: 6 is the first perfect number Proper divisors of 6 are 1, 2, 3\n",
    "# Sum of its proper divisors = 1 + 2 + 3 = 6. Hence 6 is a perfect number.\n",
    "\n",
    "num = int(input(\"Enter a number : \"))\n",
    "temp = num\n",
    "sum = 0\n",
    "for i in range(1,num):\n",
    "    if num%i==0:\n",
    "        sum = sum + i\n",
    "if temp==sum:\n",
    "    print(\"number is perfect.\")\n",
    "else:\n",
    "    print(\"number is not perfect.\")"
   ]
  },
  {
   "cell_type": "code",
   "execution_count": 22,
   "id": "6c3a52e0-23bb-40c6-bc5d-1b5f615438c9",
   "metadata": {},
   "outputs": [
    {
     "name": "stdout",
     "output_type": "stream",
     "text": [
      "0111\n"
     ]
    }
   ],
   "source": [
    "# 32.Write a program to find ones complement of a binary number\n",
    "# a. One's complement of a binary number is defined as value obtained by inverting all binary bits. \n",
    "# It is the result of swapping all 1s to 0s and all 0s to 1s.\n",
    "\n",
    "num = 8\n",
    "binary_num = bin(num)\n",
    "\n",
    "bin_list = []\n",
    "for i in binary_num:\n",
    "    bin_list.append(i)\n",
    "del bin_list[0]\n",
    "del bin_list[0]\n",
    "\n",
    "for j in range(len(bin_list)):\n",
    "    if bin_list[j]=='0':\n",
    "        bin_list[j] = '1'\n",
    "    elif bin_list[j]=='1':\n",
    "        bin_list[j] = '0'\n",
    "\n",
    "one_complement = \"\".join(bin_list)\n",
    "print(one_complement)"
   ]
  },
  {
   "cell_type": "code",
   "execution_count": null,
   "id": "8b75dfe0-0122-441a-b050-e5b32176bc0e",
   "metadata": {},
   "outputs": [],
   "source": []
  }
 ],
 "metadata": {
  "kernelspec": {
   "display_name": "Python 3 (ipykernel)",
   "language": "python",
   "name": "python3"
  },
  "language_info": {
   "codemirror_mode": {
    "name": "ipython",
    "version": 3
   },
   "file_extension": ".py",
   "mimetype": "text/x-python",
   "name": "python",
   "nbconvert_exporter": "python",
   "pygments_lexer": "ipython3",
   "version": "3.11.7"
  }
 },
 "nbformat": 4,
 "nbformat_minor": 5
}
