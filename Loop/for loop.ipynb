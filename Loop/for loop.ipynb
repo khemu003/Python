{
 "cells": [
  {
   "cell_type": "markdown",
   "id": "d87260bb-05df-4457-93a6-cda8be54e0c1",
   "metadata": {},
   "source": [
    "# for loop\n",
    "With the for loop we can execute a set of statements, once for each item in a list, tuple, set etc."
   ]
  },
  {
   "cell_type": "markdown",
   "id": "4c1eeb82-a58e-4141-a6f1-6fbf821560f4",
   "metadata": {},
   "source": [
    "range(starting_value, ending_value, step)"
   ]
  },
  {
   "cell_type": "code",
   "execution_count": 2,
   "id": "a6316c4b-97f4-4ec9-9cce-f0495ad29c7e",
   "metadata": {},
   "outputs": [
    {
     "name": "stdout",
     "output_type": "stream",
     "text": [
      "1\n",
      "2\n",
      "3\n",
      "4\n",
      "5\n"
     ]
    }
   ],
   "source": [
    "for i in range(1,6):\n",
    "    print(i)\n",
    "\n",
    "# in python by default range have +1 step "
   ]
  },
  {
   "cell_type": "code",
   "execution_count": 3,
   "id": "85460bed-2fc0-470e-a192-831fc23d917d",
   "metadata": {},
   "outputs": [
    {
     "name": "stdout",
     "output_type": "stream",
     "text": [
      "6\n",
      "5\n",
      "4\n",
      "3\n",
      "2\n"
     ]
    }
   ],
   "source": [
    "for i in range(6,1,-1):\n",
    "    print(i)"
   ]
  },
  {
   "cell_type": "code",
   "execution_count": null,
   "id": "1cafb962-e79b-4fc6-b66d-36d80f73582f",
   "metadata": {},
   "outputs": [],
   "source": []
  }
 ],
 "metadata": {
  "kernelspec": {
   "display_name": "Python 3 (ipykernel)",
   "language": "python",
   "name": "python3"
  },
  "language_info": {
   "codemirror_mode": {
    "name": "ipython",
    "version": 3
   },
   "file_extension": ".py",
   "mimetype": "text/x-python",
   "name": "python",
   "nbconvert_exporter": "python",
   "pygments_lexer": "ipython3",
   "version": "3.11.7"
  }
 },
 "nbformat": 4,
 "nbformat_minor": 5
}
