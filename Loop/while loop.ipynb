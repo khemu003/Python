{
 "cells": [
  {
   "cell_type": "markdown",
   "id": "9aecf3ba-4d95-4218-98f4-ea5a6904d923",
   "metadata": {},
   "source": [
    "# The while Loop\r\n",
    "With the while loop we can execute a set of statements as long as a condition is true."
   ]
  },
  {
   "cell_type": "raw",
   "id": "e1064864-c536-42cf-997b-e164cfb6f6a6",
   "metadata": {},
   "source": [
    "# (a). Initialization\n",
    "# (b). Condition\n",
    "# (c). Increment or decrement"
   ]
  },
  {
   "cell_type": "code",
   "execution_count": 1,
   "id": "696bd726-fe5d-4617-9b1e-0e8c05f079b2",
   "metadata": {},
   "outputs": [
    {
     "name": "stdout",
     "output_type": "stream",
     "text": [
      "1\n",
      "2\n",
      "3\n",
      "4\n",
      "5\n"
     ]
    }
   ],
   "source": [
    "i = 1                 #Initilization\n",
    "while i<=5:           #Condition\n",
    "    print(i)\n",
    "    i = i+1           # Increment"
   ]
  },
  {
   "cell_type": "markdown",
   "id": "b3cb118d-6049-4795-86d9-ad1620c44daa",
   "metadata": {},
   "source": [
    "**while loop with break statement**"
   ]
  },
  {
   "cell_type": "code",
   "execution_count": 7,
   "id": "9b5f8c50-8d33-4ddf-98b8-10ce3fce6b81",
   "metadata": {},
   "outputs": [
    {
     "name": "stdout",
     "output_type": "stream",
     "text": [
      "1\n",
      "2\n",
      "3\n"
     ]
    }
   ],
   "source": [
    "i = 1\n",
    "while i<=10:\n",
    "    if i==4:\n",
    "        break\n",
    "    print(i)\n",
    "    i = i + 1\n",
    "\n",
    "# Here loop is break when i=4"
   ]
  },
  {
   "cell_type": "markdown",
   "id": "e8f38644-0bd2-4c50-bb56-a4fa6d81b50f",
   "metadata": {},
   "source": [
    "**while loop with continue statement**"
   ]
  },
  {
   "cell_type": "code",
   "execution_count": 6,
   "id": "834f41a3-40f7-4023-b20a-abbcaca9fb80",
   "metadata": {},
   "outputs": [
    {
     "name": "stdout",
     "output_type": "stream",
     "text": [
      "1\n",
      "2\n",
      "3\n",
      "5\n",
      "6\n",
      "7\n",
      "8\n",
      "9\n",
      "10\n"
     ]
    }
   ],
   "source": [
    "i = 1\n",
    "while i<=10:\n",
    "    if i==4:\n",
    "        i = i+1\n",
    "        continue\n",
    "    print(i)\n",
    "    i = i + 1\n",
    "\n",
    "# Here 4 is skip because of continue keyword"
   ]
  },
  {
   "cell_type": "markdown",
   "id": "f8b45a71-22cd-49b8-acf4-6033e6ce4d01",
   "metadata": {},
   "source": [
    "**while loop with else statement**"
   ]
  },
  {
   "cell_type": "code",
   "execution_count": 8,
   "id": "20afa913-bde2-460f-a2d1-6db51f4e2dba",
   "metadata": {},
   "outputs": [
    {
     "name": "stdout",
     "output_type": "stream",
     "text": [
      "1\n",
      "2\n",
      "3\n",
      "4\n",
      "5\n",
      "6\n",
      "7\n",
      "8\n",
      "9\n",
      "10\n",
      "i is greter than 10.\n"
     ]
    }
   ],
   "source": [
    "i = 1\n",
    "while i<=10:\n",
    "    print(i)\n",
    "    i = i+1\n",
    "else:\n",
    "    print(\"i is greter than 10.\")"
   ]
  },
  {
   "cell_type": "code",
   "execution_count": 10,
   "id": "c8bfc9a5-4af3-472b-8638-3e470b4e46ef",
   "metadata": {},
   "outputs": [
    {
     "name": "stdout",
     "output_type": "stream",
     "text": [
      "1\n",
      "2\n",
      "3\n"
     ]
    }
   ],
   "source": [
    "i = 1\n",
    "while i<=10:\n",
    "    if i==4:\n",
    "        break\n",
    "    print(i)\n",
    "    i = i+1\n",
    "else:\n",
    "    print(\"i is greter than 10.\")\n",
    "\n",
    "# Note: The else block will NOT be executed if the loop is stopped by a break statement."
   ]
  },
  {
   "cell_type": "code",
   "execution_count": null,
   "id": "7eec3d28-4dc1-4cf7-bcb6-393cb436b748",
   "metadata": {},
   "outputs": [],
   "source": []
  }
 ],
 "metadata": {
  "kernelspec": {
   "display_name": "Python 3 (ipykernel)",
   "language": "python",
   "name": "python3"
  },
  "language_info": {
   "codemirror_mode": {
    "name": "ipython",
    "version": 3
   },
   "file_extension": ".py",
   "mimetype": "text/x-python",
   "name": "python",
   "nbconvert_exporter": "python",
   "pygments_lexer": "ipython3",
   "version": "3.11.7"
  }
 },
 "nbformat": 4,
 "nbformat_minor": 5
}
