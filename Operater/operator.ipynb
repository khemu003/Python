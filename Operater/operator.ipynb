{
 "cells": [
  {
   "cell_type": "markdown",
   "id": "58c2af97-14e0-4fc6-95f0-8dae177dda86",
   "metadata": {},
   "source": [
    "# Operator in python"
   ]
  },
  {
   "cell_type": "markdown",
   "id": "80eca9d4-f0e9-4a99-8d7d-934280aeedfc",
   "metadata": {},
   "source": [
    "\n",
    "* Arithmetic operators\n",
    "* Assignment operators\n",
    "* Comparison operators\n",
    "* Logical operators\n",
    "* Identity operators\n",
    "* Membership operators\n",
    "* Bitwise operators"
   ]
  },
  {
   "cell_type": "markdown",
   "id": "e5d1ca27-6584-4a14-875d-02066e848f24",
   "metadata": {},
   "source": [
    "### 1. Arithmetic operators"
   ]
  },
  {
   "cell_type": "code",
   "execution_count": 1,
   "id": "23eb7c34-07eb-45ed-8e1a-45f36dd837a3",
   "metadata": {},
   "outputs": [
    {
     "name": "stdout",
     "output_type": "stream",
     "text": [
      "sum :  10\n",
      "sub :  4\n",
      "multi :  21\n",
      "divison :  2.3333333333333335\n",
      "mod :  1\n",
      "power :  343\n",
      "divi in int :  2\n"
     ]
    }
   ],
   "source": [
    "# Arithmetic operater\n",
    "\n",
    "x=7\n",
    "y=3\n",
    "\n",
    "sum=x+y\n",
    "print(\"sum : \",sum)\n",
    "\n",
    "sub=x-y\n",
    "print(\"sub : \",sub)\n",
    "\n",
    "multi=x*y\n",
    "print(\"multi : \",multi)\n",
    "\n",
    "divi=x/y\n",
    "print(\"divison : \",divi)\n",
    "\n",
    "mod=x%y\n",
    "print(\"mod : \",mod)\n",
    "\n",
    "power=x**y\n",
    "print(\"power : \",power)\n",
    "\n",
    "int_divi = x//y\n",
    "print(\"divi in int : \",int_divi)"
   ]
  },
  {
   "cell_type": "markdown",
   "id": "4b9d9ed8-6988-403c-bb7b-81c46707e7a5",
   "metadata": {},
   "source": [
    "### 2. Assignmemt operator"
   ]
  },
  {
   "cell_type": "code",
   "execution_count": 2,
   "id": "9e11b2e4-b7ce-4802-9b49-414141b0a1c7",
   "metadata": {},
   "outputs": [
    {
     "name": "stdout",
     "output_type": "stream",
     "text": [
      "4\n"
     ]
    }
   ],
   "source": [
    "x = 4\n",
    "print(x)"
   ]
  },
  {
   "cell_type": "markdown",
   "id": "6c17014c-bcbe-471f-b57e-faf9c6e8d866",
   "metadata": {},
   "source": [
    "### 3. Comparison operators"
   ]
  },
  {
   "cell_type": "code",
   "execution_count": 3,
   "id": "16a02c08-8fa9-450c-a1e9-a7d44260a9f8",
   "metadata": {},
   "outputs": [
    {
     "name": "stdout",
     "output_type": "stream",
     "text": [
      "True\n",
      "False\n",
      "True\n",
      "False\n",
      "False\n",
      "True\n"
     ]
    }
   ],
   "source": [
    "#Comparison operater\n",
    "\n",
    "print(x>y)\n",
    "print(x<y)\n",
    "print(x>=y)\n",
    "print(x<=y)\n",
    "print(x==y)\n",
    "print(x!=y)"
   ]
  },
  {
   "cell_type": "markdown",
   "id": "cbf75c36-1648-4ef1-a8ac-54b672859f5d",
   "metadata": {},
   "source": [
    "### 4. Logical operators"
   ]
  },
  {
   "cell_type": "code",
   "execution_count": 4,
   "id": "ad16fa50-6f66-413b-9189-33398f53d88b",
   "metadata": {},
   "outputs": [
    {
     "name": "stdout",
     "output_type": "stream",
     "text": [
      "False\n",
      "True\n",
      "True\n"
     ]
    }
   ],
   "source": [
    "# logical operater\n",
    "print(x<10 and y>10)\n",
    "print(x<10 or y>10)\n",
    "print(not y>10)"
   ]
  },
  {
   "cell_type": "markdown",
   "id": "2c5fb8fc-403b-4960-b9fb-52fc84433ffc",
   "metadata": {},
   "source": [
    "### 5. Identity operators"
   ]
  },
  {
   "cell_type": "code",
   "execution_count": 6,
   "id": "4079f574-22ac-4880-8d2f-63312031a177",
   "metadata": {},
   "outputs": [
    {
     "name": "stdout",
     "output_type": "stream",
     "text": [
      "False\n",
      "True\n"
     ]
    }
   ],
   "source": [
    "x = [\"name\", \"age\"]\n",
    "y = [\"name\", \"age\"]\n",
    "print(x is y)\n",
    "print(x is not y)"
   ]
  },
  {
   "cell_type": "markdown",
   "id": "f266dc64-327e-4ff0-97a9-351613375def",
   "metadata": {},
   "source": [
    "### 6. Membership operators"
   ]
  },
  {
   "cell_type": "code",
   "execution_count": 7,
   "id": "98ea9fe7-439b-4c4a-8740-a83146d85f4d",
   "metadata": {},
   "outputs": [
    {
     "name": "stdout",
     "output_type": "stream",
     "text": [
      "True\n",
      "False\n"
     ]
    }
   ],
   "source": [
    "x = [34, 54, 23, 93, 10]\n",
    "print(54 in x)\n",
    "print(54 not in x)"
   ]
  },
  {
   "cell_type": "markdown",
   "id": "de20bd75-ac9e-4bf6-a2c5-c222800704c1",
   "metadata": {},
   "source": [
    "### 7. Bitwise operators"
   ]
  },
  {
   "cell_type": "code",
   "execution_count": 9,
   "id": "d5bb225e-cb00-4718-baaf-d0cac7a806bb",
   "metadata": {},
   "outputs": [
    {
     "name": "stdout",
     "output_type": "stream",
     "text": [
      "4\n",
      "15\n",
      "11\n",
      "-8\n",
      "14\n",
      "6\n"
     ]
    }
   ],
   "source": [
    "#Bitwise operater\n",
    "a=7\n",
    "b=12\n",
    "\n",
    "# AND\n",
    "print(a&b)\n",
    "\n",
    "# OR\n",
    "print(a|b)\n",
    "\n",
    "# XOR\n",
    "print(a^b)\n",
    "\n",
    "# NOT\n",
    "print(~a)\n",
    "\n",
    "# left shift\n",
    "print(a << 1)\n",
    "\n",
    "# right shift\n",
    "print(b >> 1)"
   ]
  },
  {
   "cell_type": "code",
   "execution_count": null,
   "id": "250afd70-392e-49a7-9d79-3b240145edfe",
   "metadata": {},
   "outputs": [],
   "source": []
  }
 ],
 "metadata": {
  "kernelspec": {
   "display_name": "Python 3 (ipykernel)",
   "language": "python",
   "name": "python3"
  },
  "language_info": {
   "codemirror_mode": {
    "name": "ipython",
    "version": 3
   },
   "file_extension": ".py",
   "mimetype": "text/x-python",
   "name": "python",
   "nbconvert_exporter": "python",
   "pygments_lexer": "ipython3",
   "version": "3.11.7"
  }
 },
 "nbformat": 4,
 "nbformat_minor": 5
}
