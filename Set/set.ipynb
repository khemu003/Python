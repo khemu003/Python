{
 "cells": [
  {
   "cell_type": "markdown",
   "id": "7856c568-2b90-47c5-9abe-804bfabb886b",
   "metadata": {},
   "source": [
    "# Set in python"
   ]
  },
  {
   "cell_type": "code",
   "execution_count": 1,
   "id": "976133b8-0203-4271-a3b6-e32f87ca64c0",
   "metadata": {},
   "outputs": [],
   "source": [
    "# Sets are used to store multiple items in a single variable.\n",
    "# A set is a collection which is unordered, unchangeable, and unindexed."
   ]
  },
  {
   "cell_type": "code",
   "execution_count": 5,
   "id": "55ce6f18-962f-40f8-9013-601bbb2d80d9",
   "metadata": {},
   "outputs": [
    {
     "name": "stdout",
     "output_type": "stream",
     "text": [
      "{2, 4, 5, 6, 8, 9}\n",
      "<class 'set'>\n"
     ]
    }
   ],
   "source": [
    "myset = {4,5,2,8,6,4,9,2}\n",
    "print(myset)\n",
    "print(type(myset))\n",
    "# note : myset have unique value, duplicate value are remove and unordered data"
   ]
  },
  {
   "cell_type": "code",
   "execution_count": 4,
   "id": "c2844d34-7c70-47e0-aa90-bb555fc3b2cd",
   "metadata": {},
   "outputs": [
    {
     "name": "stdout",
     "output_type": "stream",
     "text": [
      "6\n"
     ]
    }
   ],
   "source": [
    "# length method\n",
    "\n",
    "print(len(myset))"
   ]
  },
  {
   "cell_type": "markdown",
   "id": "6f468e5a-2874-47a7-9877-75caa7a7acc0",
   "metadata": {},
   "source": [
    "### Access the element"
   ]
  },
  {
   "cell_type": "code",
   "execution_count": 6,
   "id": "f1e5f7cb-8f0d-454d-8096-634d09ff2c40",
   "metadata": {},
   "outputs": [
    {
     "name": "stdout",
     "output_type": "stream",
     "text": [
      "2\n",
      "4\n",
      "5\n",
      "6\n",
      "8\n",
      "9\n"
     ]
    }
   ],
   "source": [
    "# using loop\n",
    "\n",
    "for i in myset:\n",
    "    print(i)"
   ]
  },
  {
   "cell_type": "markdown",
   "id": "ade9ff88-cea7-40ac-b793-262eb8402aed",
   "metadata": {},
   "source": [
    "### Add item"
   ]
  },
  {
   "cell_type": "code",
   "execution_count": 12,
   "id": "cf118c7c-1e00-4ee8-b917-944d9dc4490d",
   "metadata": {},
   "outputs": [
    {
     "name": "stdout",
     "output_type": "stream",
     "text": [
      "{65, 35, 69, 56, 11, 45}\n"
     ]
    }
   ],
   "source": [
    "# using add method\n",
    "\n",
    "myset = {11,45,56,35,65,69}\n",
    "myset.add(35)\n",
    "print(myset)"
   ]
  },
  {
   "cell_type": "code",
   "execution_count": 14,
   "id": "7c77b495-90e6-4567-bc30-79ddb3c960fa",
   "metadata": {},
   "outputs": [
    {
     "name": "stdout",
     "output_type": "stream",
     "text": [
      "{1, 2, 3, 4, 5, 6, 7, 8, 9, 10}\n"
     ]
    }
   ],
   "source": [
    "# using update method\n",
    "\n",
    "set1 = {1,2,3,4,5}\n",
    "set2 = {6,7,8,9,10}\n",
    "\n",
    "set1.update(set2)\n",
    "\n",
    "print(set1)"
   ]
  },
  {
   "cell_type": "markdown",
   "id": "b7d57bff-09a3-439a-aa0b-febdf0ed7015",
   "metadata": {},
   "source": [
    "### Remove item"
   ]
  },
  {
   "cell_type": "code",
   "execution_count": 16,
   "id": "8848d6b1-8201-4462-a4df-7597f1394e5b",
   "metadata": {},
   "outputs": [
    {
     "name": "stdout",
     "output_type": "stream",
     "text": [
      "{'ravi', 'aaditya', 'khemraj'}\n"
     ]
    }
   ],
   "source": [
    "# using remove method\n",
    "\n",
    "myset = {\"khemraj\", \"aaditya\", \"deepak\",\"ravi\"}\n",
    "\n",
    "myset.remove(\"deepak\")\n",
    "\n",
    "print(myset)"
   ]
  },
  {
   "cell_type": "code",
   "execution_count": 17,
   "id": "412d9d3a-5c45-4b56-951f-94758d59b6a0",
   "metadata": {},
   "outputs": [
    {
     "name": "stdout",
     "output_type": "stream",
     "text": [
      "{'ravi', 'aaditya', 'khemraj'}\n"
     ]
    }
   ],
   "source": [
    "# using discard method\n",
    "\n",
    "myset = {\"khemraj\", \"aaditya\", \"deepak\",\"ravi\"}\n",
    "\n",
    "myset.discard(\"deepak\")\n",
    "\n",
    "print(myset)"
   ]
  },
  {
   "cell_type": "code",
   "execution_count": 19,
   "id": "ca96818b-69d3-4657-a824-ba6324dadde9",
   "metadata": {},
   "outputs": [
    {
     "name": "stdout",
     "output_type": "stream",
     "text": [
      "ravi\n",
      "{'aaditya', 'khemraj', 'deepak'}\n"
     ]
    }
   ],
   "source": [
    "# using pop method\n",
    "\n",
    "myset = {\"khemraj\", \"aaditya\", \"deepak\",\"ravi\"}\n",
    "\n",
    "item = myset.pop()\n",
    "print(item)\n",
    "\n",
    "print(myset)"
   ]
  },
  {
   "cell_type": "code",
   "execution_count": 21,
   "id": "db8f53a3-cdee-4246-9ab9-527c6d05e9f7",
   "metadata": {},
   "outputs": [
    {
     "name": "stdout",
     "output_type": "stream",
     "text": [
      "set()\n"
     ]
    }
   ],
   "source": [
    "# clear method : empty the set\n",
    "\n",
    "myset = {\"khemraj\", \"aaditya\", \"deepak\",\"ravi\"}\n",
    "\n",
    "myset.clear()\n",
    "\n",
    "print(myset)"
   ]
  },
  {
   "cell_type": "code",
   "execution_count": 24,
   "id": "7dd25503-d28d-459c-9a33-4f2bcf64b7e1",
   "metadata": {},
   "outputs": [
    {
     "ename": "NameError",
     "evalue": "name 'myset' is not defined",
     "output_type": "error",
     "traceback": [
      "\u001b[1;31m---------------------------------------------------------------------------\u001b[0m",
      "\u001b[1;31mNameError\u001b[0m                                 Traceback (most recent call last)",
      "Cell \u001b[1;32mIn[24], line 7\u001b[0m\n\u001b[0;32m      3\u001b[0m myset \u001b[38;5;241m=\u001b[39m {\u001b[38;5;124m\"\u001b[39m\u001b[38;5;124mkhemraj\u001b[39m\u001b[38;5;124m\"\u001b[39m, \u001b[38;5;124m\"\u001b[39m\u001b[38;5;124maaditya\u001b[39m\u001b[38;5;124m\"\u001b[39m, \u001b[38;5;124m\"\u001b[39m\u001b[38;5;124mdeepak\u001b[39m\u001b[38;5;124m\"\u001b[39m,\u001b[38;5;124m\"\u001b[39m\u001b[38;5;124mravi\u001b[39m\u001b[38;5;124m\"\u001b[39m}\n\u001b[0;32m      5\u001b[0m \u001b[38;5;28;01mdel\u001b[39;00m myset\n\u001b[1;32m----> 7\u001b[0m \u001b[38;5;28mprint\u001b[39m(myset)\n",
      "\u001b[1;31mNameError\u001b[0m: name 'myset' is not defined"
     ]
    }
   ],
   "source": [
    "# del method : del the set\n",
    "\n",
    "myset = {\"khemraj\", \"aaditya\", \"deepak\",\"ravi\"}\n",
    "\n",
    "del myset\n",
    "\n",
    "print(myset)"
   ]
  },
  {
   "cell_type": "markdown",
   "id": "bef3fa68-4d31-4fbf-98c2-7316e3c79bb0",
   "metadata": {},
   "source": [
    "### Join in Set"
   ]
  },
  {
   "cell_type": "markdown",
   "id": "f1addf11-3427-4942-bec0-a0d4666540be",
   "metadata": {},
   "source": [
    "##### union method : joins all items from both sets"
   ]
  },
  {
   "cell_type": "code",
   "execution_count": 37,
   "id": "e4d4893e-02d1-4ceb-b229-0a2b1ee10e44",
   "metadata": {},
   "outputs": [
    {
     "name": "stdout",
     "output_type": "stream",
     "text": [
      "{1, 2, 3, 4, 5, 6, 7, 8, 9, 10}\n"
     ]
    }
   ],
   "source": [
    "# method - 1\n",
    "set1 = {1,2,3,4,5}\n",
    "set2 = {6,7,8,9,10}\n",
    "\n",
    "set3 = set1.union(set2)\n",
    "\n",
    "print(set3)\n",
    "\n",
    "# union and update method are same"
   ]
  },
  {
   "cell_type": "code",
   "execution_count": 27,
   "id": "93185192-6abe-44f8-bfbc-9586d9d26060",
   "metadata": {},
   "outputs": [
    {
     "name": "stdout",
     "output_type": "stream",
     "text": [
      "{1, 2, 3, 4, 5, 6, 7, 8, 9, 10}\n"
     ]
    }
   ],
   "source": [
    "# method - 2\n",
    "\n",
    "set3 = set1 | set2\n",
    "print(set3)"
   ]
  },
  {
   "cell_type": "code",
   "execution_count": 33,
   "id": "a336d4e9-ff19-4d9f-a2f0-66d43b0f837e",
   "metadata": {},
   "outputs": [
    {
     "name": "stdout",
     "output_type": "stream",
     "text": [
      "{1, 2, 3, 4, 5, 6, 7, 8, 9, 10, 11, 12}\n"
     ]
    }
   ],
   "source": [
    "# method - 3 : Multiple sets combine\n",
    "\n",
    "set1 = {1,2,3}\n",
    "set2 = {4,5,6}\n",
    "set2 = {7,8,9}\n",
    "set4 = {10,11,12}\n",
    "\n",
    "myset = set1.union(set2,set3,set4)\n",
    "\n",
    "print(myset)"
   ]
  },
  {
   "cell_type": "code",
   "execution_count": 34,
   "id": "ed84a1d0-6dee-44a5-bd64-dd78abb76f37",
   "metadata": {},
   "outputs": [
    {
     "name": "stdout",
     "output_type": "stream",
     "text": [
      "{1, 2, 3, 4, 5, 6, 7, 8, 9, 10, 11, 12}\n"
     ]
    }
   ],
   "source": [
    "# method - 4 : Multiple sets combine\n",
    "\n",
    "set1 = {1,2,3}\n",
    "set2 = {4,5,6}\n",
    "set2 = {7,8,9}\n",
    "set4 = {10,11,12}\n",
    "\n",
    "myset = set1 | set2 | set3 | set4\n",
    "\n",
    "print(myset)"
   ]
  },
  {
   "cell_type": "markdown",
   "id": "c2fea712-0a44-414d-80ff-b96bfbe10a2e",
   "metadata": {},
   "source": [
    "##### Intersection method : Keep ONLY the duplicates"
   ]
  },
  {
   "cell_type": "code",
   "execution_count": 38,
   "id": "35d02202-6361-4a4c-9c4f-cababba72e55",
   "metadata": {},
   "outputs": [
    {
     "name": "stdout",
     "output_type": "stream",
     "text": [
      "{3, 5}\n"
     ]
    }
   ],
   "source": [
    "# method - 1\n",
    "set1 = {1,2,3,4,5}\n",
    "set2 = {6,8,3,5,10}\n",
    "\n",
    "set3 = set1.intersection(set2)\n",
    "\n",
    "print(set3)"
   ]
  },
  {
   "cell_type": "code",
   "execution_count": 40,
   "id": "116b0ff0-273e-48b5-8c68-121b07e34ad1",
   "metadata": {},
   "outputs": [
    {
     "name": "stdout",
     "output_type": "stream",
     "text": [
      "{2, 3, 5}\n"
     ]
    }
   ],
   "source": [
    "# method - 2\n",
    "set1 = {1,2,3,4,5}\n",
    "set2 = {2,5,3,9,10}\n",
    "\n",
    "set3 = set1 & set2\n",
    "\n",
    "print(set3)"
   ]
  },
  {
   "cell_type": "code",
   "execution_count": 41,
   "id": "c39f8be4-2679-46d3-bb84-75bed9b0fef0",
   "metadata": {},
   "outputs": [
    {
     "name": "stdout",
     "output_type": "stream",
     "text": [
      "{3, 4, 5}\n"
     ]
    }
   ],
   "source": [
    "# intersection_update also same but it change origianl set\n",
    "\n",
    "# method - 3\n",
    "set1 = {1,2,3,4,5}\n",
    "set2 = {4,3,5,9,10}\n",
    "\n",
    "set1.intersection_update(set2)\n",
    "\n",
    "print(set1)"
   ]
  },
  {
   "cell_type": "markdown",
   "id": "0329f26c-dce0-43f0-9829-efb4dc143adf",
   "metadata": {},
   "source": [
    "##### Difference() method : that will contain only the items from the first set that are not present in the other set."
   ]
  },
  {
   "cell_type": "code",
   "execution_count": 42,
   "id": "7f6aad73-d128-4880-9219-8d788ca20b54",
   "metadata": {},
   "outputs": [
    {
     "name": "stdout",
     "output_type": "stream",
     "text": [
      "{1, 2, 5}\n"
     ]
    }
   ],
   "source": [
    "# method - 1\n",
    "set1 = {1,2,3,4,5}\n",
    "set2 = {6,7,8,4,3,10}\n",
    "\n",
    "set3 = set1.difference(set2)\n",
    "\n",
    "print(set3)"
   ]
  },
  {
   "cell_type": "code",
   "execution_count": 47,
   "id": "1560592f-d3c1-44b1-82ff-1baed46ff422",
   "metadata": {},
   "outputs": [
    {
     "name": "stdout",
     "output_type": "stream",
     "text": [
      "{1, 2, 5}\n"
     ]
    }
   ],
   "source": [
    "# method - 2\n",
    "set1 = {1,2,3,4,5}\n",
    "set2 = {6,7,8,4,3,10}\n",
    "\n",
    "set3 = set1 - set2\n",
    "\n",
    "print(set3)"
   ]
  },
  {
   "cell_type": "code",
   "execution_count": 48,
   "id": "420f7b8e-a51e-45f1-bc98-e464f0dcdf45",
   "metadata": {},
   "outputs": [
    {
     "name": "stdout",
     "output_type": "stream",
     "text": [
      "{1, 2, 5}\n"
     ]
    }
   ],
   "source": [
    "# method - 3\n",
    "set1 = {1,2,3,4,5}\n",
    "set2 = {6,7,8,4,3,10}\n",
    "\n",
    "set1.difference_update(set2)\n",
    "\n",
    "print(set1)"
   ]
  },
  {
   "cell_type": "markdown",
   "id": "cf841903-70c0-41e2-8c38-3ab4c1a2ab1e",
   "metadata": {},
   "source": [
    "##### symmetric_difference : only keep not comman items"
   ]
  },
  {
   "cell_type": "code",
   "execution_count": 49,
   "id": "7cd4d0f9-edb0-49f3-9abe-152f3d1ad53d",
   "metadata": {},
   "outputs": [
    {
     "name": "stdout",
     "output_type": "stream",
     "text": [
      "{1, 2, 5, 6, 7, 8, 10}\n"
     ]
    }
   ],
   "source": [
    "# method - 1\n",
    "set1 = {1,2,3,4,5}\n",
    "set2 = {6,7,8,4,3,10}\n",
    "\n",
    "set3 = set1.symmetric_difference(set2)\n",
    "\n",
    "print(set3)"
   ]
  },
  {
   "cell_type": "code",
   "execution_count": 50,
   "id": "fb8364e7-ed4c-4df3-a59c-806ad7510c85",
   "metadata": {},
   "outputs": [
    {
     "name": "stdout",
     "output_type": "stream",
     "text": [
      "{1, 2, 5, 6, 7, 8, 10}\n"
     ]
    }
   ],
   "source": [
    "# method - 1\n",
    "set1 = {1,2,3,4,5}\n",
    "set2 = {6,7,8,4,3,10}\n",
    "\n",
    "set3 = set1 ^ set2\n",
    "\n",
    "print(set3)"
   ]
  },
  {
   "cell_type": "code",
   "execution_count": 51,
   "id": "d7b608f3-b1cc-49d0-98c3-bc3a6d8bb96d",
   "metadata": {},
   "outputs": [
    {
     "name": "stdout",
     "output_type": "stream",
     "text": [
      "{1, 2, 5, 6, 7, 8, 10}\n"
     ]
    }
   ],
   "source": [
    "# method - 1\n",
    "set1 = {1,2,3,4,5}\n",
    "set2 = {6,7,8,4,3,10}\n",
    "\n",
    "set1.symmetric_difference_update(set2)\n",
    "\n",
    "print(set1)"
   ]
  },
  {
   "cell_type": "code",
   "execution_count": null,
   "id": "0e48c404-742a-46ff-ac7d-816772003608",
   "metadata": {},
   "outputs": [],
   "source": []
  }
 ],
 "metadata": {
  "kernelspec": {
   "display_name": "Python 3 (ipykernel)",
   "language": "python",
   "name": "python3"
  },
  "language_info": {
   "codemirror_mode": {
    "name": "ipython",
    "version": 3
   },
   "file_extension": ".py",
   "mimetype": "text/x-python",
   "name": "python",
   "nbconvert_exporter": "python",
   "pygments_lexer": "ipython3",
   "version": "3.11.7"
  }
 },
 "nbformat": 4,
 "nbformat_minor": 5
}
