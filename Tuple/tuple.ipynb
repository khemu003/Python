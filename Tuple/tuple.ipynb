{
 "cells": [
  {
   "cell_type": "markdown",
   "id": "512a277c-7ecc-44a5-a36f-ebf773c0fbbb",
   "metadata": {},
   "source": [
    "# tuple in python"
   ]
  },
  {
   "cell_type": "code",
   "execution_count": 1,
   "id": "288d703f-1768-4a29-819f-a261d83f5eb8",
   "metadata": {},
   "outputs": [],
   "source": [
    "# Tuple ===>\n",
    "# (1). Indentificaton ===> ()\n",
    "# (2). Immutable data types ===> We can not change or update values at a run time.\n",
    "# (3). Indexing start from 0 and length start from 1."
   ]
  },
  {
   "cell_type": "code",
   "execution_count": 2,
   "id": "7bd3692f-262e-4a92-ae76-82c86cd96b9f",
   "metadata": {},
   "outputs": [
    {
     "name": "stdout",
     "output_type": "stream",
     "text": [
      "('apple', 'banana', 'cherry', 'orange', 'kiwi', 'melon', 'mango')\n",
      "<class 'tuple'>\n"
     ]
    }
   ],
   "source": [
    "mytuple = (\"apple\", \"banana\", \"cherry\", \"orange\", \"kiwi\", \"melon\", \"mango\")\n",
    "print(mytuple)\n",
    "print(type(mytuple))"
   ]
  },
  {
   "cell_type": "code",
   "execution_count": 3,
   "id": "4e01dc61-7b2c-4ebc-8515-098be86e0b69",
   "metadata": {},
   "outputs": [
    {
     "name": "stdout",
     "output_type": "stream",
     "text": [
      "7\n"
     ]
    }
   ],
   "source": [
    "# lenghth\n",
    "print(len(mytuple))"
   ]
  },
  {
   "cell_type": "markdown",
   "id": "676ccaa6-10fa-4a9f-b0a9-193f1d20883d",
   "metadata": {},
   "source": [
    "### Access items in tuple"
   ]
  },
  {
   "cell_type": "code",
   "execution_count": 4,
   "id": "139dfa14-fe13-49b8-afc6-2c21ed15a48c",
   "metadata": {},
   "outputs": [
    {
     "name": "stdout",
     "output_type": "stream",
     "text": [
      "banana\n",
      "mango\n"
     ]
    }
   ],
   "source": [
    "# using index\n",
    "print(mytuple[1])\n",
    "print(mytuple[-1])"
   ]
  },
  {
   "cell_type": "code",
   "execution_count": 5,
   "id": "d92301e4-05dd-4877-9d84-85db60ba3f58",
   "metadata": {},
   "outputs": [
    {
     "name": "stdout",
     "output_type": "stream",
     "text": [
      "('banana', 'cherry')\n",
      "('apple', 'banana', 'cherry', 'orange', 'kiwi', 'melon', 'mango')\n",
      "('apple', 'banana', 'cherry', 'orange')\n",
      "('kiwi', 'orange', 'cherry')\n"
     ]
    }
   ],
   "source": [
    "# using slicing\n",
    "print(mytuple[1:3])\n",
    "print(mytuple[0:])\n",
    "print(mytuple[:4])\n",
    "print(mytuple[4:1:-1])"
   ]
  },
  {
   "cell_type": "code",
   "execution_count": 7,
   "id": "a21921a0-9446-475d-b6c8-413e043ef568",
   "metadata": {},
   "outputs": [
    {
     "name": "stdout",
     "output_type": "stream",
     "text": [
      "['apple', 'banana', 'cherry', 'orange', 'kiwi', 'melon', 'mango', 'beatroot']\n",
      "['apple', 'banana', 'cherry', 'orange', 'kiwi', 'melon', 'mango', 'beatroot', 'beatroot']\n",
      "('apple', 'banana', 'cherry', 'orange', 'kiwi', 'melon', 'mango', 'beatroot', 'beatroot')\n"
     ]
    }
   ],
   "source": [
    "# We known that tuple in immutable if we want to change anything to tuple \n",
    "# We convert tuple to list \n",
    "\n",
    "mylist = list(mytuple)\n",
    "print(mylist)\n",
    "\n",
    "mylist.append(\"beatroot\")\n",
    "print(mylist)\n",
    "\n",
    "mytuple = tuple(mylist)\n",
    "print(mytuple)"
   ]
  },
  {
   "cell_type": "markdown",
   "id": "5a39b807-bd53-4234-84f1-31b97272fd08",
   "metadata": {},
   "source": [
    "### Loop in tuple"
   ]
  },
  {
   "cell_type": "code",
   "execution_count": 8,
   "id": "b124a40e-f897-47af-a3ea-4820c77e93f6",
   "metadata": {},
   "outputs": [
    {
     "name": "stdout",
     "output_type": "stream",
     "text": [
      "apple\n",
      "banana\n",
      "cherry\n",
      "orange\n",
      "kiwi\n",
      "melon\n",
      "mango\n",
      "beatroot\n",
      "beatroot\n"
     ]
    }
   ],
   "source": [
    "for i in mytuple:\n",
    "    print(i)"
   ]
  },
  {
   "cell_type": "code",
   "execution_count": 9,
   "id": "a66212f5-1ea2-4eb7-837d-b7c37bfa7059",
   "metadata": {},
   "outputs": [
    {
     "name": "stdout",
     "output_type": "stream",
     "text": [
      "apple\n",
      "banana\n",
      "cherry\n",
      "orange\n",
      "kiwi\n",
      "melon\n",
      "mango\n",
      "beatroot\n",
      "beatroot\n"
     ]
    }
   ],
   "source": [
    "# using len() method\n",
    "\n",
    "for i in range(len(mytuple)):\n",
    "    print(mytuple[i])"
   ]
  },
  {
   "cell_type": "markdown",
   "id": "4c4dc663-8dc2-4f0e-9b50-06090e14d328",
   "metadata": {},
   "source": [
    "### How can we create a user a defined Tuple?"
   ]
  },
  {
   "cell_type": "code",
   "execution_count": 15,
   "id": "32fee107-379d-49c7-8005-2456208c575a",
   "metadata": {},
   "outputs": [
    {
     "name": "stdin",
     "output_type": "stream",
     "text": [
      "Enter tuple size :  4\n",
      "Enter item :  34\n",
      "Enter item :  56\n",
      "Enter item :  56\n",
      "Enter item :  45\n"
     ]
    },
    {
     "name": "stdout",
     "output_type": "stream",
     "text": [
      "('34', '56', '56', '45')\n"
     ]
    }
   ],
   "source": [
    "a = []\n",
    "size = int(input(\"Enter tuple size : \"))\n",
    "for i in range(size):\n",
    "    val = input(\"Enter item : \")\n",
    "    a.append(val)\n",
    "b = tuple(a)\n",
    "print(b)"
   ]
  },
  {
   "cell_type": "code",
   "execution_count": 10,
   "id": "0264ec9c-d4cd-4cdd-bed9-2a1eb9bb6a4b",
   "metadata": {},
   "outputs": [
    {
     "name": "stdout",
     "output_type": "stream",
     "text": [
      "('name', 'age', 'course', 'college')\n"
     ]
    }
   ],
   "source": [
    "tuple1 = (\"name\", \"age\")\n",
    "tuple2 = (\"course\", \"college\")\n",
    "newtuple = tuple1+tuple2\n",
    "print(newtuple)"
   ]
  },
  {
   "cell_type": "markdown",
   "id": "f79ab9b5-64a8-491d-8a83-19e8fa7593cc",
   "metadata": {},
   "source": [
    "### method"
   ]
  },
  {
   "cell_type": "code",
   "execution_count": 12,
   "id": "3648eaef-094a-46c3-818c-f892c652a931",
   "metadata": {},
   "outputs": [
    {
     "name": "stdout",
     "output_type": "stream",
     "text": [
      "frequency of 2 :  3\n"
     ]
    }
   ],
   "source": [
    "# count() method\n",
    "numbers = (1,2,3,2,5,6,3,8,2,10)\n",
    "x = numbers.count(2)\n",
    "print(\"frequency of 2 : \",x)"
   ]
  },
  {
   "cell_type": "code",
   "execution_count": 14,
   "id": "260fc478-f9ca-4a9c-a9b9-40d119ed39f9",
   "metadata": {},
   "outputs": [
    {
     "name": "stdout",
     "output_type": "stream",
     "text": [
      "5\n"
     ]
    }
   ],
   "source": [
    "# index() method\n",
    "x = numbers.index(6)\n",
    "print(x)\n",
    "\n",
    "# 6 is on 5 index because we travel 0 index to n index"
   ]
  },
  {
   "cell_type": "code",
   "execution_count": null,
   "id": "1d2bb76e-d918-445a-bbef-710172297239",
   "metadata": {},
   "outputs": [],
   "source": []
  }
 ],
 "metadata": {
  "kernelspec": {
   "display_name": "Python 3 (ipykernel)",
   "language": "python",
   "name": "python3"
  },
  "language_info": {
   "codemirror_mode": {
    "name": "ipython",
    "version": 3
   },
   "file_extension": ".py",
   "mimetype": "text/x-python",
   "name": "python",
   "nbconvert_exporter": "python",
   "pygments_lexer": "ipython3",
   "version": "3.11.7"
  }
 },
 "nbformat": 4,
 "nbformat_minor": 5
}
