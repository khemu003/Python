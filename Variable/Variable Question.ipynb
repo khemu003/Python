{
 "cells": [
  {
   "cell_type": "markdown",
   "id": "e0857f69-7b20-4fb2-a634-0eb8a74808ec",
   "metadata": {},
   "source": [
    "## Exercise: Python Variables\n",
    "Create a variable called break and assign it a value 5. See what happens and find out the reason behind the behavior that you see.\n",
    "\n",
    "Create two variables. One to store your birth year and another one to store current year. Now calculate your age using these two variables\n",
    "\n",
    "Store your first, middle and last name in three different variables and then print your full name using these variables\n",
    "\n",
    "Answer which of these are invalid variable names: _nation 1record record1 record_one record-one record^one continue"
   ]
  },
  {
   "cell_type": "code",
   "execution_count": 1,
   "id": "a078710f-84e3-4e33-9c18-c87a26321595",
   "metadata": {},
   "outputs": [
    {
     "ename": "SyntaxError",
     "evalue": "invalid syntax (2561899253.py, line 1)",
     "output_type": "error",
     "traceback": [
      "\u001b[1;36m  Cell \u001b[1;32mIn[1], line 1\u001b[1;36m\u001b[0m\n\u001b[1;33m    break = 5\u001b[0m\n\u001b[1;37m          ^\u001b[0m\n\u001b[1;31mSyntaxError\u001b[0m\u001b[1;31m:\u001b[0m invalid syntax\n"
     ]
    }
   ],
   "source": [
    "break = 5\n",
    "# It give error because break is a keyword in python"
   ]
  },
  {
   "cell_type": "code",
   "execution_count": 2,
   "id": "7ad93d68-c2a4-4506-812d-78281f295e4c",
   "metadata": {},
   "outputs": [
    {
     "name": "stdout",
     "output_type": "stream",
     "text": [
      "Your current age :  19\n"
     ]
    }
   ],
   "source": [
    "Birth_year = 2005\n",
    "current_year = 2024\n",
    "age = current_year-Birth_year\n",
    "print(\"Your current age : \",age)"
   ]
  },
  {
   "cell_type": "code",
   "execution_count": 4,
   "id": "ccd9d7c6-3055-4767-8a35-c6163c603cf1",
   "metadata": {},
   "outputs": [
    {
     "name": "stdout",
     "output_type": "stream",
     "text": [
      "Your full name is :  Ankit kumar garg\n"
     ]
    }
   ],
   "source": [
    "first_name = \"Ankit\"\n",
    "middle_name = \"kumar\"\n",
    "last_name = \"garg\"\n",
    "full_name = first_name + \" \" + middle_name + \" \" + last_name\n",
    "print(\"Your full name is : \",full_name)"
   ]
  },
  {
   "cell_type": "code",
   "execution_count": 5,
   "id": "f105f0ac-cc6f-4c0f-816b-bef8b4b56e0a",
   "metadata": {},
   "outputs": [],
   "source": [
    "# invalid ===> 1record, record-one, record^one"
   ]
  },
  {
   "cell_type": "code",
   "execution_count": null,
   "id": "f3e9e233-18ab-40aa-a771-c73e7f9414f2",
   "metadata": {},
   "outputs": [],
   "source": []
  }
 ],
 "metadata": {
  "kernelspec": {
   "display_name": "Python 3 (ipykernel)",
   "language": "python",
   "name": "python3"
  },
  "language_info": {
   "codemirror_mode": {
    "name": "ipython",
    "version": 3
   },
   "file_extension": ".py",
   "mimetype": "text/x-python",
   "name": "python",
   "nbconvert_exporter": "python",
   "pygments_lexer": "ipython3",
   "version": "3.11.7"
  }
 },
 "nbformat": 4,
 "nbformat_minor": 5
}
