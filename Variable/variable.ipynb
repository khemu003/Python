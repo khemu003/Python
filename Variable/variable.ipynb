{
 "cells": [
  {
   "cell_type": "code",
   "execution_count": 1,
   "id": "8168afd0-fb63-4f25-a785-3c414a425667",
   "metadata": {},
   "outputs": [],
   "source": [
    "# Variable\n",
    "# syntax : var_name = value"
   ]
  },
  {
   "cell_type": "code",
   "execution_count": 2,
   "id": "46dd11bb-e765-4098-83c3-cb69974c64ee",
   "metadata": {},
   "outputs": [
    {
     "name": "stdout",
     "output_type": "stream",
     "text": [
      "value of x :  5\n"
     ]
    }
   ],
   "source": [
    "x = 5\n",
    "print(\"value of x : \",x)"
   ]
  },
  {
   "cell_type": "code",
   "execution_count": 3,
   "id": "1dec6c91-7d52-4379-9491-bbb5bbe1d95a",
   "metadata": {},
   "outputs": [
    {
     "name": "stdout",
     "output_type": "stream",
     "text": [
      "<class 'int'>\n"
     ]
    }
   ],
   "source": [
    "# For find variable type, we use type() method\n",
    "print(type(x))"
   ]
  },
  {
   "cell_type": "markdown",
   "id": "dfccc54e-ecb2-46ee-8b3e-25fd92a002ef",
   "metadata": {},
   "source": [
    "**Rule of defined a variable:**\n",
    "* A variable name must start with a letter or the underscore character\n",
    "* A variable name cannot start with a numberr\n",
    "* A variable name can only contain alpha-numeric characters and underscores A-z, 0-9, and _\n",
    "* Variable names are case-sensitive like age, Age and AGE are three different variables\n",
    "* A variable name cannot be any of the Python keywords."
   ]
  },
  {
   "cell_type": "code",
   "execution_count": 5,
   "id": "5b398a38-62f5-4ee6-961f-585f287c0d64",
   "metadata": {},
   "outputs": [
    {
     "name": "stdout",
     "output_type": "stream",
     "text": [
      "['False', 'None', 'True', 'and', 'as', 'assert', 'async', 'await', 'break', 'class', 'continue', 'def', 'del', 'elif', 'else', 'except', 'finally', 'for', 'from', 'global', 'if', 'import', 'in', 'is', 'lambda', 'nonlocal', 'not', 'or', 'pass', 'raise', 'return', 'try', 'while', 'with', 'yield']\n"
     ]
    }
   ],
   "source": [
    "import keyword\n",
    "print(keyword.kwlist)"
   ]
  },
  {
   "cell_type": "code",
   "execution_count": 1,
   "id": "6a4a6e62-4cc3-4ad1-b228-2340eff28e03",
   "metadata": {},
   "outputs": [
    {
     "name": "stdout",
     "output_type": "stream",
     "text": [
      "23\n",
      "34\n",
      "54\n"
     ]
    }
   ],
   "source": [
    "# We can assign variable in different ways.\n",
    "x, y, z = 23,34,54\n",
    "print(x)\n",
    "print(y)\n",
    "print(z)"
   ]
  },
  {
   "cell_type": "code",
   "execution_count": 2,
   "id": "c6100462-f0cd-467e-b7d1-e66c1e6f8022",
   "metadata": {},
   "outputs": [
    {
     "name": "stdout",
     "output_type": "stream",
     "text": [
      "23\n",
      "23\n",
      "23\n"
     ]
    }
   ],
   "source": [
    "x = y = z = 23\n",
    "print(x)\n",
    "print(y)\n",
    "print(z)"
   ]
  },
  {
   "cell_type": "code",
   "execution_count": null,
   "id": "8987af95-113b-437d-b764-6224ba6f89db",
   "metadata": {},
   "outputs": [],
   "source": []
  }
 ],
 "metadata": {
  "kernelspec": {
   "display_name": "Python 3 (ipykernel)",
   "language": "python",
   "name": "python3"
  },
  "language_info": {
   "codemirror_mode": {
    "name": "ipython",
    "version": 3
   },
   "file_extension": ".py",
   "mimetype": "text/x-python",
   "name": "python",
   "nbconvert_exporter": "python",
   "pygments_lexer": "ipython3",
   "version": "3.11.7"
  }
 },
 "nbformat": 4,
 "nbformat_minor": 5
}
