{
 "cells": [
  {
   "cell_type": "markdown",
   "id": "543a04d0-c0f7-4874-ab22-038701eb8013",
   "metadata": {},
   "source": [
    "# Dictionary comprehension"
   ]
  },
  {
   "cell_type": "markdown",
   "id": "75a00420-07f7-4317-b48b-10c91c73cbe6",
   "metadata": {},
   "source": [
    "Dictionary comprehensions in python Offer a concise way to create dictionaries from iterabLes.\n",
    "\n",
    "Similar to List comprehensions, they allow you to construct dictionaries in a single line, with an optional condition for filtering."
   ]
  },
  {
   "cell_type": "markdown",
   "id": "e22f16f4-e6f5-4f1a-b59a-e459f36fe622",
   "metadata": {},
   "source": [
    "### Syntax : "
   ]
  },
  {
   "cell_type": "raw",
   "id": "88b03a7a-5ce2-4ba9-9589-1bdb224ebb9e",
   "metadata": {},
   "source": [
    "mydict = {key _ expression: value _ expression for item in iterabLe if condition)"
   ]
  },
  {
   "cell_type": "markdown",
   "id": "d8321d87-44b5-4301-abc7-ada2f4c73b63",
   "metadata": {},
   "source": [
    "## Create a Dictionary of Squares"
   ]
  },
  {
   "cell_type": "markdown",
   "id": "9631d295-e7da-415d-8b0b-899e1e2301f7",
   "metadata": {},
   "source": [
    "create a dictionary where the keys are numbers and the values are their squares."
   ]
  },
  {
   "cell_type": "code",
   "execution_count": 15,
   "id": "305e9ced-98d9-4910-980d-eaa82c11260a",
   "metadata": {},
   "outputs": [
    {
     "name": "stdout",
     "output_type": "stream",
     "text": [
      "{1: 1, 2: 4, 3: 9, 4: 16, 5: 25}\n"
     ]
    }
   ],
   "source": [
    "squares_dict = {x : x**2 for x in range(1,6)}\n",
    "print(squares_dict)"
   ]
  },
  {
   "cell_type": "markdown",
   "id": "d283e9ce-f3dc-4805-a3b5-9c1a1dea506d",
   "metadata": {},
   "source": [
    "## Filter Even number"
   ]
  },
  {
   "cell_type": "code",
   "execution_count": 17,
   "id": "c4cf19c3-5482-4191-8490-70627d4727b2",
   "metadata": {},
   "outputs": [
    {
     "name": "stdout",
     "output_type": "stream",
     "text": [
      "{0: 0, 2: 4, 4: 16, 6: 36, 8: 64}\n"
     ]
    }
   ],
   "source": [
    "evens_dict = {x : x**2 for x in range(10) if x%2==0}\n",
    "print(evens_dict)"
   ]
  },
  {
   "cell_type": "markdown",
   "id": "790daad2-a634-43bd-8a70-a64a50941409",
   "metadata": {},
   "source": [
    "## Reverse a dictionary"
   ]
  },
  {
   "cell_type": "code",
   "execution_count": 18,
   "id": "6e36cbb7-7f72-4072-8bdc-41831f913505",
   "metadata": {},
   "outputs": [
    {
     "name": "stdout",
     "output_type": "stream",
     "text": [
      "{1: 'c', 2: 'b'}\n"
     ]
    }
   ],
   "source": [
    "original = {'a':1, 'b':2, 'c':1}\n",
    "reverse_dict = {v:k for k,v in original.items()}\n",
    "print(reverse_dict)"
   ]
  },
  {
   "cell_type": "markdown",
   "id": "b15dd4a1-0848-48dd-810d-319fbaaa2ede",
   "metadata": {},
   "source": [
    "## Convert list to dictionary with Lengths\n",
    "Convert a list of strings into a dictionary where the keys are the strings and the values are the\r\n",
    "length of each string."
   ]
  },
  {
   "cell_type": "code",
   "execution_count": 21,
   "id": "6a61a885-6b28-431d-9978-5dcfd0ca6433",
   "metadata": {},
   "outputs": [
    {
     "name": "stdout",
     "output_type": "stream",
     "text": [
      "{'apple': 5, 'banana': 6, 'cherry': 6}\n"
     ]
    }
   ],
   "source": [
    "words = [\"apple\" ,\"banana\", \"cherry\"]\n",
    "length_dict = {word: len(word) for word in words}\n",
    "print(length_dict)"
   ]
  },
  {
   "cell_type": "markdown",
   "id": "76325630-7a34-4afa-9a0f-c850f52d6ec7",
   "metadata": {},
   "source": [
    "## Dictionary of Conditional values\n",
    "Create a dictionary where keys are numbers and values are 'even' or •odd' depending on the\r\n",
    "number."
   ]
  },
  {
   "cell_type": "code",
   "execution_count": 23,
   "id": "728cf37a-3029-474f-8a53-2a2768c0cd2f",
   "metadata": {},
   "outputs": [
    {
     "name": "stdout",
     "output_type": "stream",
     "text": [
      "{1: 'odd', 2: 'even', 3: 'odd', 4: 'even', 5: 'odd'}\n"
     ]
    }
   ],
   "source": [
    "even_odd_dict = {x : ('even' if x%2==0 else 'odd') for x in range(1,6)}\n",
    "print(even_odd_dict)"
   ]
  },
  {
   "cell_type": "code",
   "execution_count": null,
   "id": "51f73125-9118-465a-b35e-f67f48bfad6c",
   "metadata": {},
   "outputs": [],
   "source": []
  }
 ],
 "metadata": {
  "kernelspec": {
   "display_name": "Python 3 (ipykernel)",
   "language": "python",
   "name": "python3"
  },
  "language_info": {
   "codemirror_mode": {
    "name": "ipython",
    "version": 3
   },
   "file_extension": ".py",
   "mimetype": "text/x-python",
   "name": "python",
   "nbconvert_exporter": "python",
   "pygments_lexer": "ipython3",
   "version": "3.11.7"
  }
 },
 "nbformat": 4,
 "nbformat_minor": 5
}
