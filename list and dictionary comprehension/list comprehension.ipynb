{
 "cells": [
  {
   "cell_type": "markdown",
   "id": "15e95ba5-f918-4c22-aa87-2d72f1f8bad3",
   "metadata": {},
   "source": [
    "# List and Dictionary Comprehension"
   ]
  },
  {
   "cell_type": "markdown",
   "id": "a2b77d69-8cd2-4241-ad27-c63f08374d3d",
   "metadata": {},
   "source": [
    "List comprehensions in Python provide a concise way to create Lists.\n",
    "\n",
    "They are more readable and efficient than traditional for Loops."
   ]
  },
  {
   "cell_type": "markdown",
   "id": "e0b9e101-3a88-40a6-ae61-2894d2dda3c3",
   "metadata": {},
   "source": [
    "### Syntax : "
   ]
  },
  {
   "cell_type": "raw",
   "id": "ee2be430-fb5e-4ea3-9933-27ac85ed6c0d",
   "metadata": {},
   "source": [
    "mylist = [expression for item in iterabLe if condition]"
   ]
  },
  {
   "cell_type": "markdown",
   "id": "6771da06-d30b-4491-9587-23e325d73865",
   "metadata": {},
   "source": [
    "## Create a list of Square"
   ]
  },
  {
   "cell_type": "code",
   "execution_count": 2,
   "id": "be0f5287-e3e7-42b9-9c0a-99afb54a7048",
   "metadata": {},
   "outputs": [
    {
     "name": "stdout",
     "output_type": "stream",
     "text": [
      "[1, 4, 9, 16, 25]\n"
     ]
    }
   ],
   "source": [
    "square = [x**2 for x in range(1,6)]\n",
    "print(square)"
   ]
  },
  {
   "cell_type": "markdown",
   "id": "a538bd30-c088-4a90-a0df-ef2b4d8332a7",
   "metadata": {},
   "source": [
    "## Filter Even numbers"
   ]
  },
  {
   "cell_type": "code",
   "execution_count": 4,
   "id": "70abd75b-9a3a-487b-b661-51d0d606e764",
   "metadata": {},
   "outputs": [
    {
     "name": "stdout",
     "output_type": "stream",
     "text": [
      "[0, 2, 4, 6, 8]\n"
     ]
    }
   ],
   "source": [
    "evens = [x for x in range(10) if x%2==0]\n",
    "print(evens)"
   ]
  },
  {
   "cell_type": "markdown",
   "id": "f3c4674d-bf7e-4807-9a65-ae8589d31f85",
   "metadata": {},
   "source": [
    "## Convert Strings to uppercase"
   ]
  },
  {
   "cell_type": "code",
   "execution_count": 5,
   "id": "aa3e77f5-a3da-43c5-a314-bbabd27eb31c",
   "metadata": {},
   "outputs": [
    {
     "name": "stdout",
     "output_type": "stream",
     "text": [
      "['KHEMRAJ', 'AADI', 'DEEPAK']\n"
     ]
    }
   ],
   "source": [
    "names = [\"khemraj\", \"aadi\", \"deepak\"]\n",
    "upper_case = [name.upper() for name in names]\n",
    "print(upper_case)"
   ]
  },
  {
   "cell_type": "markdown",
   "id": "e288c710-5593-4722-abb4-0c888264001b",
   "metadata": {},
   "source": [
    "## Flatten a Nseted List"
   ]
  },
  {
   "cell_type": "code",
   "execution_count": 6,
   "id": "63dfa74d-1598-4d12-bc26-528fdc28b3a4",
   "metadata": {},
   "outputs": [
    {
     "name": "stdout",
     "output_type": "stream",
     "text": [
      "[1, 2, 3, 4, 5, 6]\n"
     ]
    }
   ],
   "source": [
    "matrix = [[1,2], [3,4], [5,6]]\n",
    "flattened = [num for sublist in matrix for num in sublist]\n",
    "print(flattened)"
   ]
  },
  {
   "cell_type": "markdown",
   "id": "a1425c8a-06a4-4acc-b906-99e12c5a2da6",
   "metadata": {},
   "source": [
    "## Generate a list of tuples"
   ]
  },
  {
   "cell_type": "code",
   "execution_count": 7,
   "id": "ca49b74d-b2e1-44b1-abe5-d0e48b574eb8",
   "metadata": {},
   "outputs": [
    {
     "name": "stdout",
     "output_type": "stream",
     "text": [
      "[(0, 0), (0, 1), (0, 2), (1, 0), (1, 1), (1, 2), (2, 0), (2, 1), (2, 2)]\n"
     ]
    }
   ],
   "source": [
    "paris = [(x,y) for x in range(3) for y in range(3)]\n",
    "print(paris)"
   ]
  },
  {
   "cell_type": "markdown",
   "id": "3666ae37-09c9-41f3-9f45-a0278de3ae44",
   "metadata": {},
   "source": [
    "## Traditional Way to list Comprehesion"
   ]
  },
  {
   "cell_type": "code",
   "execution_count": 10,
   "id": "50de8d5b-ba34-495b-bacc-05c18497be9f",
   "metadata": {},
   "outputs": [
    {
     "name": "stdout",
     "output_type": "stream",
     "text": [
      "[1, 4, 9, 16, 25]\n"
     ]
    }
   ],
   "source": [
    "# OLD METHOD\n",
    "squares = []\n",
    "for x in range(1,6):\n",
    "    squares.append(x**2)\n",
    "\n",
    "print(squares)"
   ]
  },
  {
   "cell_type": "code",
   "execution_count": 11,
   "id": "f327c7e1-585a-40c1-8709-b97b9dc3c136",
   "metadata": {},
   "outputs": [
    {
     "name": "stdout",
     "output_type": "stream",
     "text": [
      "[1, 4, 9, 16, 25]\n"
     ]
    }
   ],
   "source": [
    "# LIST COMPREHENSION\n",
    "square = [x**2 for x in range(1,6)]\n",
    "print(square)"
   ]
  },
  {
   "cell_type": "code",
   "execution_count": 12,
   "id": "11ee513e-6eb9-4bec-b54f-8c35abd60035",
   "metadata": {},
   "outputs": [
    {
     "name": "stdout",
     "output_type": "stream",
     "text": [
      "[0, 2, 4, 6, 8]\n"
     ]
    }
   ],
   "source": [
    "# OLD METHOD\n",
    "evens = []\n",
    "for x in range(10):\n",
    "    if x%2==0:\n",
    "        evens.append(x)\n",
    "\n",
    "print(evens)"
   ]
  },
  {
   "cell_type": "code",
   "execution_count": 13,
   "id": "55e09366-c68a-4487-bf60-adfea3e21b1b",
   "metadata": {},
   "outputs": [
    {
     "name": "stdout",
     "output_type": "stream",
     "text": [
      "[0, 2, 4, 6, 8]\n"
     ]
    }
   ],
   "source": [
    "# LIST COMPREHENSION\n",
    "evens = [x for x in range(10) if x%2==0]\n",
    "print(evens)"
   ]
  },
  {
   "cell_type": "code",
   "execution_count": null,
   "id": "bab4f1ee-ed74-408b-bd5e-fcbb89088158",
   "metadata": {},
   "outputs": [],
   "source": []
  }
 ],
 "metadata": {
  "kernelspec": {
   "display_name": "Python 3 (ipykernel)",
   "language": "python",
   "name": "python3"
  },
  "language_info": {
   "codemirror_mode": {
    "name": "ipython",
    "version": 3
   },
   "file_extension": ".py",
   "mimetype": "text/x-python",
   "name": "python",
   "nbconvert_exporter": "python",
   "pygments_lexer": "ipython3",
   "version": "3.11.7"
  }
 },
 "nbformat": 4,
 "nbformat_minor": 5
}
